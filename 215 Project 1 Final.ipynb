{
 "cells": [
  {
   "cell_type": "markdown",
   "metadata": {},
   "source": [
    "# Mini-Project 1: Modern Low Footprint Cyber Attack Detection\n",
    "\n",
    "#### Team Members:  1. Harini Madhavaram    2. Keerthi Gudipudi"
   ]
  },
  {
   "cell_type": "markdown",
   "metadata": {},
   "source": [
    "## Problem Statement:\n",
    "\n",
    "Software to detect network intrusions protects a computer network from unauthorized users, including\n",
    "perhaps insiders. This project aims to build a network intrusion detector, a predictive model capable\n",
    "of distinguishing between bad connections, called intrusions or attacks, and good normal connections.\n",
    "\n",
    "Use the following models to detect bad\n",
    "connections (intrusions). Compare the recall, precision and F1-score of the models for attacks and\n",
    "normal connections, respectively.\n",
    "PLOT the confusion matrix and ROC curve for each model.\n",
    "\n",
    "• Logistic Regression • Nearest Neighbor • Support Vector Machine • Fully-Connected Neural Networks  "
   ]
  },
  {
   "cell_type": "code",
   "execution_count": 2,
   "metadata": {},
   "outputs": [],
   "source": [
    "import numpy as np\n",
    "import pandas as pd\n",
    "import os\n",
    "import keras\n",
    "from sklearn.preprocessing import StandardScaler\n",
    "from sklearn.linear_model import LogisticRegression\n",
    "from sklearn.neighbors import KNeighborsClassifier\n",
    "from tensorflow.keras.models import Sequential\n",
    "from sklearn.svm import SVC\n",
    "from collections.abc import Sequence\n",
    "from sklearn import preprocessing\n",
    "import matplotlib.pyplot as plt\n",
    "from sklearn.metrics import accuracy_score\n",
    "\n",
    "%matplotlib inline\n",
    "import matplotlib.pyplot as plt\n",
    "from sklearn.metrics import roc_curve, auc\n",
    "\n",
    "\n",
    "from sklearn.metrics import confusion_matrix\n",
    "from sklearn.metrics import classification_report"
   ]
  },
  {
   "cell_type": "markdown",
   "metadata": {},
   "source": [
    "### Helper functions"
   ]
  },
  {
   "cell_type": "code",
   "execution_count": 3,
   "metadata": {},
   "outputs": [],
   "source": [
    "# Encode text values to dummy variables(i.e. [1,0,0],[0,1,0],[0,0,1] for red,green,blue)\n",
    "def encode_text_dummy(df, name):\n",
    "    dummies = pd.get_dummies(df[name])\n",
    "    for x in dummies.columns:\n",
    "        dummy_name = \"{}-{}\".format(name, x)\n",
    "        df[dummy_name] = dummies[x]\n",
    "    df.drop(name, axis=1, inplace=True)\n",
    "\n",
    "\n",
    "\n",
    "# Encode text values to indexes(i.e. [1],[2],[3] for red,green,blue).\n",
    "def encode_text_index(df, name):\n",
    "    le = preprocessing.LabelEncoder()\n",
    "    df[name] = le.fit_transform(df[name])\n",
    "    return le.classes_\n",
    "\n",
    "\n",
    "# Encode a numeric column as zscores\n",
    "def encode_numeric_zscore(df, name, mean=None, sd=None):\n",
    "    if mean is None:\n",
    "        mean = df[name].mean()\n",
    "\n",
    "    if sd is None:\n",
    "        sd = df[name].std()\n",
    "\n",
    "    df[name] = (df[name] - mean) / sd\n",
    "\n",
    "\n",
    "# Convert all missing values in the specified column to the median\n",
    "def missing_median(df, name):\n",
    "    med = df[name].median()\n",
    "    df[name] = df[name].fillna(med)\n",
    "\n",
    "\n",
    "# Convert all missing values in the specified column to the default\n",
    "def missing_default(df, name, default_value):\n",
    "    df[name] = df[name].fillna(default_value)\n",
    "\n",
    "\n",
    "# Convert a Pandas dataframe to the x,y inputs that TensorFlow needs\n",
    "def to_xy(df, target):\n",
    "    result = []\n",
    "    for x in df.columns:\n",
    "        if x != target:\n",
    "            result.append(x)\n",
    "    # find out the type of the target column. \n",
    "    target_type = df[target].dtypes\n",
    "    target_type = target_type[0] if isinstance(target_type, Sequence) else target_type\n",
    "    # Encode to int for classification, float otherwise. TensorFlow likes 32 bits.\n",
    "    if target_type in (np.int64, np.int32):\n",
    "        # Classification\n",
    "        dummies = pd.get_dummies(df[target])\n",
    "        return df[result].values.astype(np.float32), dummies.values.astype(np.float32)\n",
    "    else:\n",
    "        # Regression\n",
    "        return df[result].values.astype(np.float32), df[target].values.astype(np.float32)\n",
    "\n",
    "# Nicely formatted time string\n",
    "def hms_string(sec_elapsed):\n",
    "    h = int(sec_elapsed / (60 * 60))\n",
    "    m = int((sec_elapsed % (60 * 60)) / 60)\n",
    "    s = sec_elapsed % 60\n",
    "    return \"{}:{:>02}:{:>05.2f}\".format(h, m, s)\n",
    "\n",
    "\n",
    "# Regression chart.\n",
    "def chart_regression(pred,y,sort=True):\n",
    "    t = pd.DataFrame({'pred' : pred, 'y' : y.flatten()})\n",
    "    if sort:\n",
    "        t.sort_values(by=['y'],inplace=True)\n",
    "    a = plt.plot(t['y'].tolist(),label='expected')\n",
    "    b = plt.plot(t['pred'].tolist(),label='prediction')\n",
    "    plt.ylabel('output')\n",
    "    plt.legend()\n",
    "    plt.show()\n",
    "\n",
    "# Remove all rows where the specified column is +/- sd standard deviations\n",
    "def remove_outliers(df, name, sd):\n",
    "    drop_rows = df.index[(np.abs(df[name] - df[name].mean()) >= (sd * df[name].std()))]\n",
    "    df.drop(drop_rows, axis=0, inplace=True)\n",
    "\n",
    "\n",
    "# Encode a column to a range between normalized_low and normalized_high.\n",
    "def encode_numeric_range(df, name, normalized_low=-1, normalized_high=1,\n",
    "                         data_low=None, data_high=None):\n",
    "    if data_low is None:\n",
    "        data_low = min(df[name])\n",
    "        data_high = max(df[name])\n",
    "\n",
    "    df[name] = ((df[name] - data_low) / (data_high - data_low)) \\\n",
    "               * (normalized_high - normalized_low) + normalized_low\n"
   ]
  },
  {
   "cell_type": "code",
   "execution_count": 4,
   "metadata": {},
   "outputs": [],
   "source": [
    "# Plot a confusion matrix.\n",
    "# cm is the confusion matrix, names are the names of the classes.\n",
    "def plot_confusion_matrix(cm, names, title='Confusion matrix', cmap=plt.cm.Blues):\n",
    "    plt.imshow(cm, interpolation='nearest', cmap=cmap)\n",
    "    plt.title(title)\n",
    "    plt.colorbar()\n",
    "    tick_marks = np.arange(len(names))\n",
    "    plt.xticks(tick_marks, names, rotation=45)\n",
    "    plt.yticks(tick_marks, names)\n",
    "    plt.tight_layout()\n",
    "    plt.ylabel('True label')\n",
    "    plt.xlabel('Predicted label')\n",
    "    \n",
    "\n",
    "# Plot an ROC. pred - the predictions, y - the expected output.\n",
    "def plot_roc(pred,y):\n",
    "    fpr, tpr, thresholds = roc_curve(y, pred)\n",
    "    roc_auc = auc(fpr, tpr)\n",
    "\n",
    "    plt.figure()\n",
    "    plt.plot(fpr, tpr, label='ROC curve (area = %0.2f)' % roc_auc)\n",
    "    plt.plot([0, 1], [0, 1], 'k--')\n",
    "    plt.xlim([0.0, 1.0])\n",
    "    plt.ylim([0.0, 1.05])\n",
    "    plt.xlabel('False Positive Rate')\n",
    "    plt.ylabel('True Positive Rate')\n",
    "    plt.title('Receiver Operating Characteristic (ROC)')\n",
    "    plt.legend(loc=\"lower right\")\n",
    "    plt.show()"
   ]
  },
  {
   "cell_type": "code",
   "execution_count": 5,
   "metadata": {},
   "outputs": [],
   "source": [
    "trainData = pd.read_csv('UNSW_NB15_training-set_csc215.csv', na_values = \"-\")\n",
    "testData = pd.read_csv('UNSW_NB15_test-set_csc215.csv', na_values = \"-\")"
   ]
  },
  {
   "cell_type": "code",
   "execution_count": 6,
   "metadata": {},
   "outputs": [
    {
     "data": {
      "text/html": [
       "<div>\n",
       "<style scoped>\n",
       "    .dataframe tbody tr th:only-of-type {\n",
       "        vertical-align: middle;\n",
       "    }\n",
       "\n",
       "    .dataframe tbody tr th {\n",
       "        vertical-align: top;\n",
       "    }\n",
       "\n",
       "    .dataframe thead th {\n",
       "        text-align: right;\n",
       "    }\n",
       "</style>\n",
       "<table border=\"1\" class=\"dataframe\">\n",
       "  <thead>\n",
       "    <tr style=\"text-align: right;\">\n",
       "      <th></th>\n",
       "      <th>id</th>\n",
       "      <th>dur</th>\n",
       "      <th>proto</th>\n",
       "      <th>service</th>\n",
       "      <th>state</th>\n",
       "      <th>spkts</th>\n",
       "      <th>dpkts</th>\n",
       "      <th>sbytes</th>\n",
       "      <th>dbytes</th>\n",
       "      <th>rate</th>\n",
       "      <th>...</th>\n",
       "      <th>ct_dst_sport_ltm</th>\n",
       "      <th>ct_dst_src_ltm</th>\n",
       "      <th>is_ftp_login</th>\n",
       "      <th>ct_ftp_cmd</th>\n",
       "      <th>ct_flw_http_mthd</th>\n",
       "      <th>ct_src_ltm</th>\n",
       "      <th>ct_srv_dst</th>\n",
       "      <th>is_sm_ips_ports</th>\n",
       "      <th>attack_cat</th>\n",
       "      <th>label</th>\n",
       "    </tr>\n",
       "  </thead>\n",
       "  <tbody>\n",
       "    <tr>\n",
       "      <th>0</th>\n",
       "      <td>1</td>\n",
       "      <td>0.121478</td>\n",
       "      <td>tcp</td>\n",
       "      <td>NaN</td>\n",
       "      <td>FIN</td>\n",
       "      <td>6</td>\n",
       "      <td>4</td>\n",
       "      <td>258</td>\n",
       "      <td>172</td>\n",
       "      <td>74.087490</td>\n",
       "      <td>...</td>\n",
       "      <td>1</td>\n",
       "      <td>1</td>\n",
       "      <td>0</td>\n",
       "      <td>0</td>\n",
       "      <td>0</td>\n",
       "      <td>1</td>\n",
       "      <td>1</td>\n",
       "      <td>0</td>\n",
       "      <td>Normal</td>\n",
       "      <td>0</td>\n",
       "    </tr>\n",
       "    <tr>\n",
       "      <th>1</th>\n",
       "      <td>2</td>\n",
       "      <td>0.649902</td>\n",
       "      <td>tcp</td>\n",
       "      <td>NaN</td>\n",
       "      <td>FIN</td>\n",
       "      <td>14</td>\n",
       "      <td>38</td>\n",
       "      <td>734</td>\n",
       "      <td>42014</td>\n",
       "      <td>78.473372</td>\n",
       "      <td>...</td>\n",
       "      <td>1</td>\n",
       "      <td>2</td>\n",
       "      <td>0</td>\n",
       "      <td>0</td>\n",
       "      <td>0</td>\n",
       "      <td>1</td>\n",
       "      <td>6</td>\n",
       "      <td>0</td>\n",
       "      <td>Normal</td>\n",
       "      <td>0</td>\n",
       "    </tr>\n",
       "    <tr>\n",
       "      <th>2</th>\n",
       "      <td>3</td>\n",
       "      <td>1.623129</td>\n",
       "      <td>tcp</td>\n",
       "      <td>NaN</td>\n",
       "      <td>FIN</td>\n",
       "      <td>8</td>\n",
       "      <td>16</td>\n",
       "      <td>364</td>\n",
       "      <td>13186</td>\n",
       "      <td>14.170161</td>\n",
       "      <td>...</td>\n",
       "      <td>1</td>\n",
       "      <td>3</td>\n",
       "      <td>0</td>\n",
       "      <td>0</td>\n",
       "      <td>0</td>\n",
       "      <td>2</td>\n",
       "      <td>6</td>\n",
       "      <td>0</td>\n",
       "      <td>Normal</td>\n",
       "      <td>0</td>\n",
       "    </tr>\n",
       "    <tr>\n",
       "      <th>3</th>\n",
       "      <td>4</td>\n",
       "      <td>1.681642</td>\n",
       "      <td>tcp</td>\n",
       "      <td>ftp</td>\n",
       "      <td>FIN</td>\n",
       "      <td>12</td>\n",
       "      <td>12</td>\n",
       "      <td>628</td>\n",
       "      <td>770</td>\n",
       "      <td>13.677108</td>\n",
       "      <td>...</td>\n",
       "      <td>1</td>\n",
       "      <td>3</td>\n",
       "      <td>1</td>\n",
       "      <td>1</td>\n",
       "      <td>0</td>\n",
       "      <td>2</td>\n",
       "      <td>1</td>\n",
       "      <td>0</td>\n",
       "      <td>Normal</td>\n",
       "      <td>0</td>\n",
       "    </tr>\n",
       "    <tr>\n",
       "      <th>4</th>\n",
       "      <td>5</td>\n",
       "      <td>0.449454</td>\n",
       "      <td>tcp</td>\n",
       "      <td>NaN</td>\n",
       "      <td>FIN</td>\n",
       "      <td>10</td>\n",
       "      <td>6</td>\n",
       "      <td>534</td>\n",
       "      <td>268</td>\n",
       "      <td>33.373826</td>\n",
       "      <td>...</td>\n",
       "      <td>1</td>\n",
       "      <td>40</td>\n",
       "      <td>0</td>\n",
       "      <td>0</td>\n",
       "      <td>0</td>\n",
       "      <td>2</td>\n",
       "      <td>39</td>\n",
       "      <td>0</td>\n",
       "      <td>Normal</td>\n",
       "      <td>0</td>\n",
       "    </tr>\n",
       "  </tbody>\n",
       "</table>\n",
       "<p>5 rows × 45 columns</p>\n",
       "</div>"
      ],
      "text/plain": [
       "   id       dur proto service state  spkts  dpkts  sbytes  dbytes       rate  \\\n",
       "0   1  0.121478   tcp     NaN   FIN      6      4     258     172  74.087490   \n",
       "1   2  0.649902   tcp     NaN   FIN     14     38     734   42014  78.473372   \n",
       "2   3  1.623129   tcp     NaN   FIN      8     16     364   13186  14.170161   \n",
       "3   4  1.681642   tcp     ftp   FIN     12     12     628     770  13.677108   \n",
       "4   5  0.449454   tcp     NaN   FIN     10      6     534     268  33.373826   \n",
       "\n",
       "   ...  ct_dst_sport_ltm  ct_dst_src_ltm  is_ftp_login  ct_ftp_cmd  \\\n",
       "0  ...                 1               1             0           0   \n",
       "1  ...                 1               2             0           0   \n",
       "2  ...                 1               3             0           0   \n",
       "3  ...                 1               3             1           1   \n",
       "4  ...                 1              40             0           0   \n",
       "\n",
       "   ct_flw_http_mthd  ct_src_ltm  ct_srv_dst  is_sm_ips_ports  attack_cat  \\\n",
       "0                 0           1           1                0      Normal   \n",
       "1                 0           1           6                0      Normal   \n",
       "2                 0           2           6                0      Normal   \n",
       "3                 0           2           1                0      Normal   \n",
       "4                 0           2          39                0      Normal   \n",
       "\n",
       "   label  \n",
       "0      0  \n",
       "1      0  \n",
       "2      0  \n",
       "3      0  \n",
       "4      0  \n",
       "\n",
       "[5 rows x 45 columns]"
      ]
     },
     "execution_count": 6,
     "metadata": {},
     "output_type": "execute_result"
    }
   ],
   "source": [
    "trainData.head()"
   ]
  },
  {
   "cell_type": "code",
   "execution_count": 7,
   "metadata": {},
   "outputs": [
    {
     "data": {
      "text/html": [
       "<div>\n",
       "<style scoped>\n",
       "    .dataframe tbody tr th:only-of-type {\n",
       "        vertical-align: middle;\n",
       "    }\n",
       "\n",
       "    .dataframe tbody tr th {\n",
       "        vertical-align: top;\n",
       "    }\n",
       "\n",
       "    .dataframe thead th {\n",
       "        text-align: right;\n",
       "    }\n",
       "</style>\n",
       "<table border=\"1\" class=\"dataframe\">\n",
       "  <thead>\n",
       "    <tr style=\"text-align: right;\">\n",
       "      <th></th>\n",
       "      <th>id</th>\n",
       "      <th>dur</th>\n",
       "      <th>proto</th>\n",
       "      <th>service</th>\n",
       "      <th>state</th>\n",
       "      <th>spkts</th>\n",
       "      <th>dpkts</th>\n",
       "      <th>sbytes</th>\n",
       "      <th>dbytes</th>\n",
       "      <th>rate</th>\n",
       "      <th>...</th>\n",
       "      <th>ct_dst_sport_ltm</th>\n",
       "      <th>ct_dst_src_ltm</th>\n",
       "      <th>is_ftp_login</th>\n",
       "      <th>ct_ftp_cmd</th>\n",
       "      <th>ct_flw_http_mthd</th>\n",
       "      <th>ct_src_ltm</th>\n",
       "      <th>ct_srv_dst</th>\n",
       "      <th>is_sm_ips_ports</th>\n",
       "      <th>attack_cat</th>\n",
       "      <th>label</th>\n",
       "    </tr>\n",
       "  </thead>\n",
       "  <tbody>\n",
       "    <tr>\n",
       "      <th>0</th>\n",
       "      <td>1</td>\n",
       "      <td>0.000011</td>\n",
       "      <td>udp</td>\n",
       "      <td>NaN</td>\n",
       "      <td>INT</td>\n",
       "      <td>2</td>\n",
       "      <td>0</td>\n",
       "      <td>496</td>\n",
       "      <td>0</td>\n",
       "      <td>90909.0902</td>\n",
       "      <td>...</td>\n",
       "      <td>1</td>\n",
       "      <td>2</td>\n",
       "      <td>0</td>\n",
       "      <td>0</td>\n",
       "      <td>0</td>\n",
       "      <td>1</td>\n",
       "      <td>2</td>\n",
       "      <td>0</td>\n",
       "      <td>Normal</td>\n",
       "      <td>0</td>\n",
       "    </tr>\n",
       "    <tr>\n",
       "      <th>1</th>\n",
       "      <td>2</td>\n",
       "      <td>0.000008</td>\n",
       "      <td>udp</td>\n",
       "      <td>NaN</td>\n",
       "      <td>INT</td>\n",
       "      <td>2</td>\n",
       "      <td>0</td>\n",
       "      <td>1762</td>\n",
       "      <td>0</td>\n",
       "      <td>125000.0003</td>\n",
       "      <td>...</td>\n",
       "      <td>1</td>\n",
       "      <td>2</td>\n",
       "      <td>0</td>\n",
       "      <td>0</td>\n",
       "      <td>0</td>\n",
       "      <td>1</td>\n",
       "      <td>2</td>\n",
       "      <td>0</td>\n",
       "      <td>Normal</td>\n",
       "      <td>0</td>\n",
       "    </tr>\n",
       "    <tr>\n",
       "      <th>2</th>\n",
       "      <td>3</td>\n",
       "      <td>0.000005</td>\n",
       "      <td>udp</td>\n",
       "      <td>NaN</td>\n",
       "      <td>INT</td>\n",
       "      <td>2</td>\n",
       "      <td>0</td>\n",
       "      <td>1068</td>\n",
       "      <td>0</td>\n",
       "      <td>200000.0051</td>\n",
       "      <td>...</td>\n",
       "      <td>1</td>\n",
       "      <td>3</td>\n",
       "      <td>0</td>\n",
       "      <td>0</td>\n",
       "      <td>0</td>\n",
       "      <td>1</td>\n",
       "      <td>3</td>\n",
       "      <td>0</td>\n",
       "      <td>Normal</td>\n",
       "      <td>0</td>\n",
       "    </tr>\n",
       "    <tr>\n",
       "      <th>3</th>\n",
       "      <td>4</td>\n",
       "      <td>0.000006</td>\n",
       "      <td>udp</td>\n",
       "      <td>NaN</td>\n",
       "      <td>INT</td>\n",
       "      <td>2</td>\n",
       "      <td>0</td>\n",
       "      <td>900</td>\n",
       "      <td>0</td>\n",
       "      <td>166666.6608</td>\n",
       "      <td>...</td>\n",
       "      <td>1</td>\n",
       "      <td>3</td>\n",
       "      <td>0</td>\n",
       "      <td>0</td>\n",
       "      <td>0</td>\n",
       "      <td>2</td>\n",
       "      <td>3</td>\n",
       "      <td>0</td>\n",
       "      <td>Normal</td>\n",
       "      <td>0</td>\n",
       "    </tr>\n",
       "    <tr>\n",
       "      <th>4</th>\n",
       "      <td>5</td>\n",
       "      <td>0.000010</td>\n",
       "      <td>udp</td>\n",
       "      <td>NaN</td>\n",
       "      <td>INT</td>\n",
       "      <td>2</td>\n",
       "      <td>0</td>\n",
       "      <td>2126</td>\n",
       "      <td>0</td>\n",
       "      <td>100000.0025</td>\n",
       "      <td>...</td>\n",
       "      <td>1</td>\n",
       "      <td>3</td>\n",
       "      <td>0</td>\n",
       "      <td>0</td>\n",
       "      <td>0</td>\n",
       "      <td>2</td>\n",
       "      <td>3</td>\n",
       "      <td>0</td>\n",
       "      <td>Normal</td>\n",
       "      <td>0</td>\n",
       "    </tr>\n",
       "  </tbody>\n",
       "</table>\n",
       "<p>5 rows × 45 columns</p>\n",
       "</div>"
      ],
      "text/plain": [
       "   id       dur proto service state  spkts  dpkts  sbytes  dbytes  \\\n",
       "0   1  0.000011   udp     NaN   INT      2      0     496       0   \n",
       "1   2  0.000008   udp     NaN   INT      2      0    1762       0   \n",
       "2   3  0.000005   udp     NaN   INT      2      0    1068       0   \n",
       "3   4  0.000006   udp     NaN   INT      2      0     900       0   \n",
       "4   5  0.000010   udp     NaN   INT      2      0    2126       0   \n",
       "\n",
       "          rate  ...  ct_dst_sport_ltm  ct_dst_src_ltm  is_ftp_login  \\\n",
       "0   90909.0902  ...                 1               2             0   \n",
       "1  125000.0003  ...                 1               2             0   \n",
       "2  200000.0051  ...                 1               3             0   \n",
       "3  166666.6608  ...                 1               3             0   \n",
       "4  100000.0025  ...                 1               3             0   \n",
       "\n",
       "   ct_ftp_cmd  ct_flw_http_mthd  ct_src_ltm  ct_srv_dst  is_sm_ips_ports  \\\n",
       "0           0                 0           1           2                0   \n",
       "1           0                 0           1           2                0   \n",
       "2           0                 0           1           3                0   \n",
       "3           0                 0           2           3                0   \n",
       "4           0                 0           2           3                0   \n",
       "\n",
       "   attack_cat  label  \n",
       "0      Normal      0  \n",
       "1      Normal      0  \n",
       "2      Normal      0  \n",
       "3      Normal      0  \n",
       "4      Normal      0  \n",
       "\n",
       "[5 rows x 45 columns]"
      ]
     },
     "execution_count": 7,
     "metadata": {},
     "output_type": "execute_result"
    }
   ],
   "source": [
    "testData.head()"
   ]
  },
  {
   "cell_type": "code",
   "execution_count": 8,
   "metadata": {},
   "outputs": [
    {
     "name": "stdout",
     "output_type": "stream",
     "text": [
      "(175341, 45)\n"
     ]
    }
   ],
   "source": [
    "print(trainData.shape)\n",
    "\n"
   ]
  },
  {
   "cell_type": "code",
   "execution_count": 9,
   "metadata": {},
   "outputs": [
    {
     "name": "stdout",
     "output_type": "stream",
     "text": [
      "(82332, 45)\n"
     ]
    }
   ],
   "source": [
    "print(testData.shape)"
   ]
  },
  {
   "cell_type": "markdown",
   "metadata": {},
   "source": [
    "### Check for null values"
   ]
  },
  {
   "cell_type": "code",
   "execution_count": 10,
   "metadata": {},
   "outputs": [
    {
     "name": "stdout",
     "output_type": "stream",
     "text": [
      "id                       0\n",
      "dur                      0\n",
      "proto                    0\n",
      "service              94168\n",
      "state                    0\n",
      "spkts                    0\n",
      "dpkts                    0\n",
      "sbytes                   0\n",
      "dbytes                   0\n",
      "rate                     0\n",
      "sttl                     0\n",
      "dttl                     0\n",
      "sload                    0\n",
      "dload                    0\n",
      "sloss                    0\n",
      "dloss                    0\n",
      "sinpkt                   0\n",
      "dinpkt                   0\n",
      "sjit                     0\n",
      "djit                     0\n",
      "swin                     0\n",
      "stcpb                    0\n",
      "dtcpb                    0\n",
      "dwin                     0\n",
      "tcprtt                   0\n",
      "synack                   0\n",
      "ackdat                   0\n",
      "smean                    0\n",
      "dmean                    0\n",
      "trans_depth              0\n",
      "response_body_len        0\n",
      "ct_srv_src               0\n",
      "ct_state_ttl             0\n",
      "ct_dst_ltm               0\n",
      "ct_src_dport_ltm         0\n",
      "ct_dst_sport_ltm         0\n",
      "ct_dst_src_ltm           0\n",
      "is_ftp_login             0\n",
      "ct_ftp_cmd               0\n",
      "ct_flw_http_mthd         0\n",
      "ct_src_ltm               0\n",
      "ct_srv_dst               0\n",
      "is_sm_ips_ports          0\n",
      "attack_cat               0\n",
      "label                    0\n",
      "dtype: int64\n"
     ]
    }
   ],
   "source": [
    "print(trainData.isnull().sum(axis = 0))\n"
   ]
  },
  {
   "cell_type": "code",
   "execution_count": 11,
   "metadata": {},
   "outputs": [
    {
     "name": "stdout",
     "output_type": "stream",
     "text": [
      "id                       0\n",
      "dur                      0\n",
      "proto                    0\n",
      "service              47153\n",
      "state                    0\n",
      "spkts                    0\n",
      "dpkts                    0\n",
      "sbytes                   0\n",
      "dbytes                   0\n",
      "rate                     0\n",
      "sttl                     0\n",
      "dttl                     0\n",
      "sload                    0\n",
      "dload                    0\n",
      "sloss                    0\n",
      "dloss                    0\n",
      "sinpkt                   0\n",
      "dinpkt                   0\n",
      "sjit                     0\n",
      "djit                     0\n",
      "swin                     0\n",
      "stcpb                    0\n",
      "dtcpb                    0\n",
      "dwin                     0\n",
      "tcprtt                   0\n",
      "synack                   0\n",
      "ackdat                   0\n",
      "smean                    0\n",
      "dmean                    0\n",
      "trans_depth              0\n",
      "response_body_len        0\n",
      "ct_srv_src               0\n",
      "ct_state_ttl             0\n",
      "ct_dst_ltm               0\n",
      "ct_src_dport_ltm         0\n",
      "ct_dst_sport_ltm         0\n",
      "ct_dst_src_ltm           0\n",
      "is_ftp_login             0\n",
      "ct_ftp_cmd               0\n",
      "ct_flw_http_mthd         0\n",
      "ct_src_ltm               0\n",
      "ct_srv_dst               0\n",
      "is_sm_ips_ports          0\n",
      "attack_cat               0\n",
      "label                    0\n",
      "dtype: int64\n"
     ]
    }
   ],
   "source": [
    "print(testData.isnull().sum(axis = 0))"
   ]
  },
  {
   "cell_type": "code",
   "execution_count": 12,
   "metadata": {},
   "outputs": [],
   "source": [
    "#Serive feature contains maximum no of null values \n",
    "trainData = trainData.drop(columns = ['service'])\n",
    "testData = testData.drop(columns = ['service'])"
   ]
  },
  {
   "cell_type": "code",
   "execution_count": 13,
   "metadata": {},
   "outputs": [
    {
     "name": "stdout",
     "output_type": "stream",
     "text": [
      "44\n",
      "44\n"
     ]
    }
   ],
   "source": [
    "print(len(trainData.columns))\n",
    "print(len(testData.columns))"
   ]
  },
  {
   "cell_type": "code",
   "execution_count": 14,
   "metadata": {},
   "outputs": [
    {
     "name": "stdout",
     "output_type": "stream",
     "text": [
      "id                     int64\n",
      "dur                  float64\n",
      "proto                 object\n",
      "state                 object\n",
      "spkts                  int64\n",
      "dpkts                  int64\n",
      "sbytes                 int64\n",
      "dbytes                 int64\n",
      "rate                 float64\n",
      "sttl                   int64\n",
      "dttl                   int64\n",
      "sload                float64\n",
      "dload                float64\n",
      "sloss                  int64\n",
      "dloss                  int64\n",
      "sinpkt               float64\n",
      "dinpkt               float64\n",
      "sjit                 float64\n",
      "djit                 float64\n",
      "swin                   int64\n",
      "stcpb                  int64\n",
      "dtcpb                  int64\n",
      "dwin                   int64\n",
      "tcprtt               float64\n",
      "synack               float64\n",
      "ackdat               float64\n",
      "smean                  int64\n",
      "dmean                  int64\n",
      "trans_depth            int64\n",
      "response_body_len      int64\n",
      "ct_srv_src             int64\n",
      "ct_state_ttl           int64\n",
      "ct_dst_ltm             int64\n",
      "ct_src_dport_ltm       int64\n",
      "ct_dst_sport_ltm       int64\n",
      "ct_dst_src_ltm         int64\n",
      "is_ftp_login           int64\n",
      "ct_ftp_cmd             int64\n",
      "ct_flw_http_mthd       int64\n",
      "ct_src_ltm             int64\n",
      "ct_srv_dst             int64\n",
      "is_sm_ips_ports        int64\n",
      "attack_cat            object\n",
      "label                  int64\n",
      "dtype: object\n"
     ]
    }
   ],
   "source": [
    "print(trainData.dtypes)"
   ]
  },
  {
   "cell_type": "code",
   "execution_count": 15,
   "metadata": {},
   "outputs": [],
   "source": [
    "#synack + ackdat = tcprtt\n",
    "#so drop synack, ackdat because redundant information\n",
    "trainData = trainData.drop(columns = [\"synack\", \"ackdat\"])\n",
    "testData = testData.drop(columns = [\"synack\", \"ackdat\"])\n",
    "\n",
    "#drop id\n",
    "trainData = trainData.drop(columns = [\"id\"])\n",
    "testData = testData.drop(columns = [\"id\"])\n",
    "\n"
   ]
  },
  {
   "cell_type": "code",
   "execution_count": 16,
   "metadata": {},
   "outputs": [
    {
     "data": {
      "text/plain": [
       "(175341, 41)"
      ]
     },
     "execution_count": 16,
     "metadata": {},
     "output_type": "execute_result"
    }
   ],
   "source": [
    "trainData.shape"
   ]
  },
  {
   "cell_type": "code",
   "execution_count": 17,
   "metadata": {},
   "outputs": [
    {
     "data": {
      "text/plain": [
       "(82332, 41)"
      ]
     },
     "execution_count": 17,
     "metadata": {},
     "output_type": "execute_result"
    }
   ],
   "source": [
    "testData.shape"
   ]
  },
  {
   "cell_type": "markdown",
   "metadata": {},
   "source": [
    "### Drop duplicates\n"
   ]
  },
  {
   "cell_type": "markdown",
   "metadata": {},
   "source": [
    "### We have created copy of dataframe for future use.\n",
    "The Original dataframe will be used for Logistic Regression,KNN and SVM.\n",
    "Copy of dataframe will be used for Multi Class Classification."
   ]
  },
  {
   "cell_type": "code",
   "execution_count": 18,
   "metadata": {},
   "outputs": [],
   "source": [
    "trainData_dup = trainData.drop_duplicates(keep='first', inplace=False)\n",
    "testData_dup = testData.drop_duplicates(keep='first',inplace=False)\n",
    "\n",
    "\n",
    "#copy of the dataframe for multi class classification\n",
    "trainData_dup_copy1 = trainData_dup.copy()\n",
    "testData_dup_copy1 = testData_dup.copy()"
   ]
  },
  {
   "cell_type": "code",
   "execution_count": 18,
   "metadata": {
    "scrolled": true
   },
   "outputs": [
    {
     "name": "stdout",
     "output_type": "stream",
     "text": [
      "(107724, 41)\n",
      "(55940, 41)\n"
     ]
    }
   ],
   "source": [
    "print(trainData_dup.shape)\n",
    "print(testData_dup.shape)"
   ]
  },
  {
   "cell_type": "markdown",
   "metadata": {},
   "source": [
    "\n",
    "#### Normalize using z-score"
   ]
  },
  {
   "cell_type": "code",
   "execution_count": 19,
   "metadata": {},
   "outputs": [
    {
     "data": {
      "text/plain": [
       "dur                  float64\n",
       "proto                 object\n",
       "state                 object\n",
       "spkts                  int64\n",
       "dpkts                  int64\n",
       "sbytes                 int64\n",
       "dbytes                 int64\n",
       "rate                 float64\n",
       "sttl                   int64\n",
       "dttl                   int64\n",
       "sload                float64\n",
       "dload                float64\n",
       "sloss                  int64\n",
       "dloss                  int64\n",
       "sinpkt               float64\n",
       "dinpkt               float64\n",
       "sjit                 float64\n",
       "djit                 float64\n",
       "swin                   int64\n",
       "stcpb                  int64\n",
       "dtcpb                  int64\n",
       "dwin                   int64\n",
       "tcprtt               float64\n",
       "smean                  int64\n",
       "dmean                  int64\n",
       "trans_depth            int64\n",
       "response_body_len      int64\n",
       "ct_srv_src             int64\n",
       "ct_state_ttl           int64\n",
       "ct_dst_ltm             int64\n",
       "ct_src_dport_ltm       int64\n",
       "ct_dst_sport_ltm       int64\n",
       "ct_dst_src_ltm         int64\n",
       "is_ftp_login           int64\n",
       "ct_ftp_cmd             int64\n",
       "ct_flw_http_mthd       int64\n",
       "ct_src_ltm             int64\n",
       "ct_srv_dst             int64\n",
       "is_sm_ips_ports        int64\n",
       "attack_cat            object\n",
       "label                  int64\n",
       "dtype: object"
      ]
     },
     "execution_count": 19,
     "metadata": {},
     "output_type": "execute_result"
    }
   ],
   "source": [
    "trainData_dup.dtypes"
   ]
  },
  {
   "cell_type": "code",
   "execution_count": 20,
   "metadata": {},
   "outputs": [],
   "source": [
    "numerical_features=['dur','spkts','dpkts','sbytes','dbytes','rate','sttl','dttl','sload','dload','sloss','dloss','sinpkt',\n",
    "                    'dinpkt','sjit','djit','swin','stcpb','dtcpb','dwin','tcprtt','smean','dmean',\n",
    "                    'trans_depth','response_body_len','ct_srv_src','ct_state_ttl','ct_dst_ltm','ct_src_dport_ltm',\n",
    "                    'ct_dst_sport_ltm','ct_dst_src_ltm','is_ftp_login','ct_ftp_cmd','ct_flw_http_mthd','ct_src_ltm','ct_srv_dst',\n",
    "                    'is_sm_ips_ports']"
   ]
  },
  {
   "cell_type": "code",
   "execution_count": 21,
   "metadata": {},
   "outputs": [
    {
     "name": "stderr",
     "output_type": "stream",
     "text": [
      "<ipython-input-21-d2e1a9847239>:3: SettingWithCopyWarning: \n",
      "A value is trying to be set on a copy of a slice from a DataFrame.\n",
      "Try using .loc[row_indexer,col_indexer] = value instead\n",
      "\n",
      "See the caveats in the documentation: https://pandas.pydata.org/pandas-docs/stable/user_guide/indexing.html#returning-a-view-versus-a-copy\n",
      "  trainData_dup[col] = scaler.fit_transform(trainData_dup[[col]])\n",
      "<ipython-input-21-d2e1a9847239>:4: SettingWithCopyWarning: \n",
      "A value is trying to be set on a copy of a slice from a DataFrame.\n",
      "Try using .loc[row_indexer,col_indexer] = value instead\n",
      "\n",
      "See the caveats in the documentation: https://pandas.pydata.org/pandas-docs/stable/user_guide/indexing.html#returning-a-view-versus-a-copy\n",
      "  testData_dup[col] = scaler.transform(testData_dup[[col]])\n",
      "<ipython-input-21-d2e1a9847239>:3: SettingWithCopyWarning: \n",
      "A value is trying to be set on a copy of a slice from a DataFrame.\n",
      "Try using .loc[row_indexer,col_indexer] = value instead\n",
      "\n",
      "See the caveats in the documentation: https://pandas.pydata.org/pandas-docs/stable/user_guide/indexing.html#returning-a-view-versus-a-copy\n",
      "  trainData_dup[col] = scaler.fit_transform(trainData_dup[[col]])\n",
      "<ipython-input-21-d2e1a9847239>:4: SettingWithCopyWarning: \n",
      "A value is trying to be set on a copy of a slice from a DataFrame.\n",
      "Try using .loc[row_indexer,col_indexer] = value instead\n",
      "\n",
      "See the caveats in the documentation: https://pandas.pydata.org/pandas-docs/stable/user_guide/indexing.html#returning-a-view-versus-a-copy\n",
      "  testData_dup[col] = scaler.transform(testData_dup[[col]])\n",
      "<ipython-input-21-d2e1a9847239>:3: SettingWithCopyWarning: \n",
      "A value is trying to be set on a copy of a slice from a DataFrame.\n",
      "Try using .loc[row_indexer,col_indexer] = value instead\n",
      "\n",
      "See the caveats in the documentation: https://pandas.pydata.org/pandas-docs/stable/user_guide/indexing.html#returning-a-view-versus-a-copy\n",
      "  trainData_dup[col] = scaler.fit_transform(trainData_dup[[col]])\n",
      "<ipython-input-21-d2e1a9847239>:4: SettingWithCopyWarning: \n",
      "A value is trying to be set on a copy of a slice from a DataFrame.\n",
      "Try using .loc[row_indexer,col_indexer] = value instead\n",
      "\n",
      "See the caveats in the documentation: https://pandas.pydata.org/pandas-docs/stable/user_guide/indexing.html#returning-a-view-versus-a-copy\n",
      "  testData_dup[col] = scaler.transform(testData_dup[[col]])\n",
      "<ipython-input-21-d2e1a9847239>:3: SettingWithCopyWarning: \n",
      "A value is trying to be set on a copy of a slice from a DataFrame.\n",
      "Try using .loc[row_indexer,col_indexer] = value instead\n",
      "\n",
      "See the caveats in the documentation: https://pandas.pydata.org/pandas-docs/stable/user_guide/indexing.html#returning-a-view-versus-a-copy\n",
      "  trainData_dup[col] = scaler.fit_transform(trainData_dup[[col]])\n",
      "<ipython-input-21-d2e1a9847239>:4: SettingWithCopyWarning: \n",
      "A value is trying to be set on a copy of a slice from a DataFrame.\n",
      "Try using .loc[row_indexer,col_indexer] = value instead\n",
      "\n",
      "See the caveats in the documentation: https://pandas.pydata.org/pandas-docs/stable/user_guide/indexing.html#returning-a-view-versus-a-copy\n",
      "  testData_dup[col] = scaler.transform(testData_dup[[col]])\n",
      "<ipython-input-21-d2e1a9847239>:3: SettingWithCopyWarning: \n",
      "A value is trying to be set on a copy of a slice from a DataFrame.\n",
      "Try using .loc[row_indexer,col_indexer] = value instead\n",
      "\n",
      "See the caveats in the documentation: https://pandas.pydata.org/pandas-docs/stable/user_guide/indexing.html#returning-a-view-versus-a-copy\n",
      "  trainData_dup[col] = scaler.fit_transform(trainData_dup[[col]])\n",
      "<ipython-input-21-d2e1a9847239>:4: SettingWithCopyWarning: \n",
      "A value is trying to be set on a copy of a slice from a DataFrame.\n",
      "Try using .loc[row_indexer,col_indexer] = value instead\n",
      "\n",
      "See the caveats in the documentation: https://pandas.pydata.org/pandas-docs/stable/user_guide/indexing.html#returning-a-view-versus-a-copy\n",
      "  testData_dup[col] = scaler.transform(testData_dup[[col]])\n",
      "<ipython-input-21-d2e1a9847239>:3: SettingWithCopyWarning: \n",
      "A value is trying to be set on a copy of a slice from a DataFrame.\n",
      "Try using .loc[row_indexer,col_indexer] = value instead\n",
      "\n",
      "See the caveats in the documentation: https://pandas.pydata.org/pandas-docs/stable/user_guide/indexing.html#returning-a-view-versus-a-copy\n",
      "  trainData_dup[col] = scaler.fit_transform(trainData_dup[[col]])\n",
      "<ipython-input-21-d2e1a9847239>:4: SettingWithCopyWarning: \n",
      "A value is trying to be set on a copy of a slice from a DataFrame.\n",
      "Try using .loc[row_indexer,col_indexer] = value instead\n",
      "\n",
      "See the caveats in the documentation: https://pandas.pydata.org/pandas-docs/stable/user_guide/indexing.html#returning-a-view-versus-a-copy\n",
      "  testData_dup[col] = scaler.transform(testData_dup[[col]])\n",
      "<ipython-input-21-d2e1a9847239>:3: SettingWithCopyWarning: \n",
      "A value is trying to be set on a copy of a slice from a DataFrame.\n",
      "Try using .loc[row_indexer,col_indexer] = value instead\n",
      "\n",
      "See the caveats in the documentation: https://pandas.pydata.org/pandas-docs/stable/user_guide/indexing.html#returning-a-view-versus-a-copy\n",
      "  trainData_dup[col] = scaler.fit_transform(trainData_dup[[col]])\n",
      "<ipython-input-21-d2e1a9847239>:4: SettingWithCopyWarning: \n",
      "A value is trying to be set on a copy of a slice from a DataFrame.\n",
      "Try using .loc[row_indexer,col_indexer] = value instead\n",
      "\n",
      "See the caveats in the documentation: https://pandas.pydata.org/pandas-docs/stable/user_guide/indexing.html#returning-a-view-versus-a-copy\n",
      "  testData_dup[col] = scaler.transform(testData_dup[[col]])\n",
      "<ipython-input-21-d2e1a9847239>:3: SettingWithCopyWarning: \n",
      "A value is trying to be set on a copy of a slice from a DataFrame.\n",
      "Try using .loc[row_indexer,col_indexer] = value instead\n",
      "\n",
      "See the caveats in the documentation: https://pandas.pydata.org/pandas-docs/stable/user_guide/indexing.html#returning-a-view-versus-a-copy\n",
      "  trainData_dup[col] = scaler.fit_transform(trainData_dup[[col]])\n",
      "<ipython-input-21-d2e1a9847239>:4: SettingWithCopyWarning: \n",
      "A value is trying to be set on a copy of a slice from a DataFrame.\n",
      "Try using .loc[row_indexer,col_indexer] = value instead\n",
      "\n",
      "See the caveats in the documentation: https://pandas.pydata.org/pandas-docs/stable/user_guide/indexing.html#returning-a-view-versus-a-copy\n",
      "  testData_dup[col] = scaler.transform(testData_dup[[col]])\n",
      "<ipython-input-21-d2e1a9847239>:3: SettingWithCopyWarning: \n",
      "A value is trying to be set on a copy of a slice from a DataFrame.\n",
      "Try using .loc[row_indexer,col_indexer] = value instead\n",
      "\n",
      "See the caveats in the documentation: https://pandas.pydata.org/pandas-docs/stable/user_guide/indexing.html#returning-a-view-versus-a-copy\n",
      "  trainData_dup[col] = scaler.fit_transform(trainData_dup[[col]])\n",
      "<ipython-input-21-d2e1a9847239>:4: SettingWithCopyWarning: \n",
      "A value is trying to be set on a copy of a slice from a DataFrame.\n",
      "Try using .loc[row_indexer,col_indexer] = value instead\n",
      "\n",
      "See the caveats in the documentation: https://pandas.pydata.org/pandas-docs/stable/user_guide/indexing.html#returning-a-view-versus-a-copy\n",
      "  testData_dup[col] = scaler.transform(testData_dup[[col]])\n",
      "<ipython-input-21-d2e1a9847239>:3: SettingWithCopyWarning: \n",
      "A value is trying to be set on a copy of a slice from a DataFrame.\n",
      "Try using .loc[row_indexer,col_indexer] = value instead\n",
      "\n",
      "See the caveats in the documentation: https://pandas.pydata.org/pandas-docs/stable/user_guide/indexing.html#returning-a-view-versus-a-copy\n",
      "  trainData_dup[col] = scaler.fit_transform(trainData_dup[[col]])\n",
      "<ipython-input-21-d2e1a9847239>:4: SettingWithCopyWarning: \n",
      "A value is trying to be set on a copy of a slice from a DataFrame.\n",
      "Try using .loc[row_indexer,col_indexer] = value instead\n",
      "\n",
      "See the caveats in the documentation: https://pandas.pydata.org/pandas-docs/stable/user_guide/indexing.html#returning-a-view-versus-a-copy\n",
      "  testData_dup[col] = scaler.transform(testData_dup[[col]])\n",
      "<ipython-input-21-d2e1a9847239>:3: SettingWithCopyWarning: \n",
      "A value is trying to be set on a copy of a slice from a DataFrame.\n",
      "Try using .loc[row_indexer,col_indexer] = value instead\n",
      "\n",
      "See the caveats in the documentation: https://pandas.pydata.org/pandas-docs/stable/user_guide/indexing.html#returning-a-view-versus-a-copy\n",
      "  trainData_dup[col] = scaler.fit_transform(trainData_dup[[col]])\n",
      "<ipython-input-21-d2e1a9847239>:4: SettingWithCopyWarning: \n",
      "A value is trying to be set on a copy of a slice from a DataFrame.\n",
      "Try using .loc[row_indexer,col_indexer] = value instead\n",
      "\n",
      "See the caveats in the documentation: https://pandas.pydata.org/pandas-docs/stable/user_guide/indexing.html#returning-a-view-versus-a-copy\n",
      "  testData_dup[col] = scaler.transform(testData_dup[[col]])\n",
      "<ipython-input-21-d2e1a9847239>:3: SettingWithCopyWarning: \n",
      "A value is trying to be set on a copy of a slice from a DataFrame.\n",
      "Try using .loc[row_indexer,col_indexer] = value instead\n",
      "\n",
      "See the caveats in the documentation: https://pandas.pydata.org/pandas-docs/stable/user_guide/indexing.html#returning-a-view-versus-a-copy\n",
      "  trainData_dup[col] = scaler.fit_transform(trainData_dup[[col]])\n",
      "<ipython-input-21-d2e1a9847239>:4: SettingWithCopyWarning: \n",
      "A value is trying to be set on a copy of a slice from a DataFrame.\n",
      "Try using .loc[row_indexer,col_indexer] = value instead\n",
      "\n",
      "See the caveats in the documentation: https://pandas.pydata.org/pandas-docs/stable/user_guide/indexing.html#returning-a-view-versus-a-copy\n",
      "  testData_dup[col] = scaler.transform(testData_dup[[col]])\n",
      "<ipython-input-21-d2e1a9847239>:3: SettingWithCopyWarning: \n",
      "A value is trying to be set on a copy of a slice from a DataFrame.\n",
      "Try using .loc[row_indexer,col_indexer] = value instead\n",
      "\n",
      "See the caveats in the documentation: https://pandas.pydata.org/pandas-docs/stable/user_guide/indexing.html#returning-a-view-versus-a-copy\n",
      "  trainData_dup[col] = scaler.fit_transform(trainData_dup[[col]])\n",
      "<ipython-input-21-d2e1a9847239>:4: SettingWithCopyWarning: \n",
      "A value is trying to be set on a copy of a slice from a DataFrame.\n",
      "Try using .loc[row_indexer,col_indexer] = value instead\n",
      "\n",
      "See the caveats in the documentation: https://pandas.pydata.org/pandas-docs/stable/user_guide/indexing.html#returning-a-view-versus-a-copy\n",
      "  testData_dup[col] = scaler.transform(testData_dup[[col]])\n",
      "<ipython-input-21-d2e1a9847239>:3: SettingWithCopyWarning: \n",
      "A value is trying to be set on a copy of a slice from a DataFrame.\n",
      "Try using .loc[row_indexer,col_indexer] = value instead\n",
      "\n",
      "See the caveats in the documentation: https://pandas.pydata.org/pandas-docs/stable/user_guide/indexing.html#returning-a-view-versus-a-copy\n",
      "  trainData_dup[col] = scaler.fit_transform(trainData_dup[[col]])\n",
      "<ipython-input-21-d2e1a9847239>:4: SettingWithCopyWarning: \n",
      "A value is trying to be set on a copy of a slice from a DataFrame.\n",
      "Try using .loc[row_indexer,col_indexer] = value instead\n",
      "\n",
      "See the caveats in the documentation: https://pandas.pydata.org/pandas-docs/stable/user_guide/indexing.html#returning-a-view-versus-a-copy\n",
      "  testData_dup[col] = scaler.transform(testData_dup[[col]])\n",
      "<ipython-input-21-d2e1a9847239>:3: SettingWithCopyWarning: \n",
      "A value is trying to be set on a copy of a slice from a DataFrame.\n",
      "Try using .loc[row_indexer,col_indexer] = value instead\n",
      "\n",
      "See the caveats in the documentation: https://pandas.pydata.org/pandas-docs/stable/user_guide/indexing.html#returning-a-view-versus-a-copy\n",
      "  trainData_dup[col] = scaler.fit_transform(trainData_dup[[col]])\n",
      "<ipython-input-21-d2e1a9847239>:4: SettingWithCopyWarning: \n",
      "A value is trying to be set on a copy of a slice from a DataFrame.\n",
      "Try using .loc[row_indexer,col_indexer] = value instead\n",
      "\n",
      "See the caveats in the documentation: https://pandas.pydata.org/pandas-docs/stable/user_guide/indexing.html#returning-a-view-versus-a-copy\n",
      "  testData_dup[col] = scaler.transform(testData_dup[[col]])\n",
      "<ipython-input-21-d2e1a9847239>:3: SettingWithCopyWarning: \n",
      "A value is trying to be set on a copy of a slice from a DataFrame.\n",
      "Try using .loc[row_indexer,col_indexer] = value instead\n",
      "\n",
      "See the caveats in the documentation: https://pandas.pydata.org/pandas-docs/stable/user_guide/indexing.html#returning-a-view-versus-a-copy\n",
      "  trainData_dup[col] = scaler.fit_transform(trainData_dup[[col]])\n",
      "<ipython-input-21-d2e1a9847239>:4: SettingWithCopyWarning: \n",
      "A value is trying to be set on a copy of a slice from a DataFrame.\n",
      "Try using .loc[row_indexer,col_indexer] = value instead\n",
      "\n",
      "See the caveats in the documentation: https://pandas.pydata.org/pandas-docs/stable/user_guide/indexing.html#returning-a-view-versus-a-copy\n",
      "  testData_dup[col] = scaler.transform(testData_dup[[col]])\n",
      "<ipython-input-21-d2e1a9847239>:3: SettingWithCopyWarning: \n",
      "A value is trying to be set on a copy of a slice from a DataFrame.\n",
      "Try using .loc[row_indexer,col_indexer] = value instead\n",
      "\n",
      "See the caveats in the documentation: https://pandas.pydata.org/pandas-docs/stable/user_guide/indexing.html#returning-a-view-versus-a-copy\n",
      "  trainData_dup[col] = scaler.fit_transform(trainData_dup[[col]])\n",
      "<ipython-input-21-d2e1a9847239>:4: SettingWithCopyWarning: \n",
      "A value is trying to be set on a copy of a slice from a DataFrame.\n",
      "Try using .loc[row_indexer,col_indexer] = value instead\n",
      "\n",
      "See the caveats in the documentation: https://pandas.pydata.org/pandas-docs/stable/user_guide/indexing.html#returning-a-view-versus-a-copy\n",
      "  testData_dup[col] = scaler.transform(testData_dup[[col]])\n",
      "<ipython-input-21-d2e1a9847239>:3: SettingWithCopyWarning: \n",
      "A value is trying to be set on a copy of a slice from a DataFrame.\n",
      "Try using .loc[row_indexer,col_indexer] = value instead\n",
      "\n",
      "See the caveats in the documentation: https://pandas.pydata.org/pandas-docs/stable/user_guide/indexing.html#returning-a-view-versus-a-copy\n",
      "  trainData_dup[col] = scaler.fit_transform(trainData_dup[[col]])\n"
     ]
    },
    {
     "name": "stderr",
     "output_type": "stream",
     "text": [
      "<ipython-input-21-d2e1a9847239>:4: SettingWithCopyWarning: \n",
      "A value is trying to be set on a copy of a slice from a DataFrame.\n",
      "Try using .loc[row_indexer,col_indexer] = value instead\n",
      "\n",
      "See the caveats in the documentation: https://pandas.pydata.org/pandas-docs/stable/user_guide/indexing.html#returning-a-view-versus-a-copy\n",
      "  testData_dup[col] = scaler.transform(testData_dup[[col]])\n",
      "<ipython-input-21-d2e1a9847239>:3: SettingWithCopyWarning: \n",
      "A value is trying to be set on a copy of a slice from a DataFrame.\n",
      "Try using .loc[row_indexer,col_indexer] = value instead\n",
      "\n",
      "See the caveats in the documentation: https://pandas.pydata.org/pandas-docs/stable/user_guide/indexing.html#returning-a-view-versus-a-copy\n",
      "  trainData_dup[col] = scaler.fit_transform(trainData_dup[[col]])\n",
      "<ipython-input-21-d2e1a9847239>:4: SettingWithCopyWarning: \n",
      "A value is trying to be set on a copy of a slice from a DataFrame.\n",
      "Try using .loc[row_indexer,col_indexer] = value instead\n",
      "\n",
      "See the caveats in the documentation: https://pandas.pydata.org/pandas-docs/stable/user_guide/indexing.html#returning-a-view-versus-a-copy\n",
      "  testData_dup[col] = scaler.transform(testData_dup[[col]])\n",
      "<ipython-input-21-d2e1a9847239>:3: SettingWithCopyWarning: \n",
      "A value is trying to be set on a copy of a slice from a DataFrame.\n",
      "Try using .loc[row_indexer,col_indexer] = value instead\n",
      "\n",
      "See the caveats in the documentation: https://pandas.pydata.org/pandas-docs/stable/user_guide/indexing.html#returning-a-view-versus-a-copy\n",
      "  trainData_dup[col] = scaler.fit_transform(trainData_dup[[col]])\n",
      "<ipython-input-21-d2e1a9847239>:4: SettingWithCopyWarning: \n",
      "A value is trying to be set on a copy of a slice from a DataFrame.\n",
      "Try using .loc[row_indexer,col_indexer] = value instead\n",
      "\n",
      "See the caveats in the documentation: https://pandas.pydata.org/pandas-docs/stable/user_guide/indexing.html#returning-a-view-versus-a-copy\n",
      "  testData_dup[col] = scaler.transform(testData_dup[[col]])\n",
      "<ipython-input-21-d2e1a9847239>:3: SettingWithCopyWarning: \n",
      "A value is trying to be set on a copy of a slice from a DataFrame.\n",
      "Try using .loc[row_indexer,col_indexer] = value instead\n",
      "\n",
      "See the caveats in the documentation: https://pandas.pydata.org/pandas-docs/stable/user_guide/indexing.html#returning-a-view-versus-a-copy\n",
      "  trainData_dup[col] = scaler.fit_transform(trainData_dup[[col]])\n",
      "<ipython-input-21-d2e1a9847239>:4: SettingWithCopyWarning: \n",
      "A value is trying to be set on a copy of a slice from a DataFrame.\n",
      "Try using .loc[row_indexer,col_indexer] = value instead\n",
      "\n",
      "See the caveats in the documentation: https://pandas.pydata.org/pandas-docs/stable/user_guide/indexing.html#returning-a-view-versus-a-copy\n",
      "  testData_dup[col] = scaler.transform(testData_dup[[col]])\n",
      "<ipython-input-21-d2e1a9847239>:3: SettingWithCopyWarning: \n",
      "A value is trying to be set on a copy of a slice from a DataFrame.\n",
      "Try using .loc[row_indexer,col_indexer] = value instead\n",
      "\n",
      "See the caveats in the documentation: https://pandas.pydata.org/pandas-docs/stable/user_guide/indexing.html#returning-a-view-versus-a-copy\n",
      "  trainData_dup[col] = scaler.fit_transform(trainData_dup[[col]])\n",
      "<ipython-input-21-d2e1a9847239>:4: SettingWithCopyWarning: \n",
      "A value is trying to be set on a copy of a slice from a DataFrame.\n",
      "Try using .loc[row_indexer,col_indexer] = value instead\n",
      "\n",
      "See the caveats in the documentation: https://pandas.pydata.org/pandas-docs/stable/user_guide/indexing.html#returning-a-view-versus-a-copy\n",
      "  testData_dup[col] = scaler.transform(testData_dup[[col]])\n",
      "<ipython-input-21-d2e1a9847239>:3: SettingWithCopyWarning: \n",
      "A value is trying to be set on a copy of a slice from a DataFrame.\n",
      "Try using .loc[row_indexer,col_indexer] = value instead\n",
      "\n",
      "See the caveats in the documentation: https://pandas.pydata.org/pandas-docs/stable/user_guide/indexing.html#returning-a-view-versus-a-copy\n",
      "  trainData_dup[col] = scaler.fit_transform(trainData_dup[[col]])\n",
      "<ipython-input-21-d2e1a9847239>:4: SettingWithCopyWarning: \n",
      "A value is trying to be set on a copy of a slice from a DataFrame.\n",
      "Try using .loc[row_indexer,col_indexer] = value instead\n",
      "\n",
      "See the caveats in the documentation: https://pandas.pydata.org/pandas-docs/stable/user_guide/indexing.html#returning-a-view-versus-a-copy\n",
      "  testData_dup[col] = scaler.transform(testData_dup[[col]])\n",
      "<ipython-input-21-d2e1a9847239>:3: SettingWithCopyWarning: \n",
      "A value is trying to be set on a copy of a slice from a DataFrame.\n",
      "Try using .loc[row_indexer,col_indexer] = value instead\n",
      "\n",
      "See the caveats in the documentation: https://pandas.pydata.org/pandas-docs/stable/user_guide/indexing.html#returning-a-view-versus-a-copy\n",
      "  trainData_dup[col] = scaler.fit_transform(trainData_dup[[col]])\n",
      "<ipython-input-21-d2e1a9847239>:4: SettingWithCopyWarning: \n",
      "A value is trying to be set on a copy of a slice from a DataFrame.\n",
      "Try using .loc[row_indexer,col_indexer] = value instead\n",
      "\n",
      "See the caveats in the documentation: https://pandas.pydata.org/pandas-docs/stable/user_guide/indexing.html#returning-a-view-versus-a-copy\n",
      "  testData_dup[col] = scaler.transform(testData_dup[[col]])\n",
      "<ipython-input-21-d2e1a9847239>:3: SettingWithCopyWarning: \n",
      "A value is trying to be set on a copy of a slice from a DataFrame.\n",
      "Try using .loc[row_indexer,col_indexer] = value instead\n",
      "\n",
      "See the caveats in the documentation: https://pandas.pydata.org/pandas-docs/stable/user_guide/indexing.html#returning-a-view-versus-a-copy\n",
      "  trainData_dup[col] = scaler.fit_transform(trainData_dup[[col]])\n",
      "<ipython-input-21-d2e1a9847239>:4: SettingWithCopyWarning: \n",
      "A value is trying to be set on a copy of a slice from a DataFrame.\n",
      "Try using .loc[row_indexer,col_indexer] = value instead\n",
      "\n",
      "See the caveats in the documentation: https://pandas.pydata.org/pandas-docs/stable/user_guide/indexing.html#returning-a-view-versus-a-copy\n",
      "  testData_dup[col] = scaler.transform(testData_dup[[col]])\n",
      "<ipython-input-21-d2e1a9847239>:3: SettingWithCopyWarning: \n",
      "A value is trying to be set on a copy of a slice from a DataFrame.\n",
      "Try using .loc[row_indexer,col_indexer] = value instead\n",
      "\n",
      "See the caveats in the documentation: https://pandas.pydata.org/pandas-docs/stable/user_guide/indexing.html#returning-a-view-versus-a-copy\n",
      "  trainData_dup[col] = scaler.fit_transform(trainData_dup[[col]])\n",
      "<ipython-input-21-d2e1a9847239>:4: SettingWithCopyWarning: \n",
      "A value is trying to be set on a copy of a slice from a DataFrame.\n",
      "Try using .loc[row_indexer,col_indexer] = value instead\n",
      "\n",
      "See the caveats in the documentation: https://pandas.pydata.org/pandas-docs/stable/user_guide/indexing.html#returning-a-view-versus-a-copy\n",
      "  testData_dup[col] = scaler.transform(testData_dup[[col]])\n",
      "<ipython-input-21-d2e1a9847239>:3: SettingWithCopyWarning: \n",
      "A value is trying to be set on a copy of a slice from a DataFrame.\n",
      "Try using .loc[row_indexer,col_indexer] = value instead\n",
      "\n",
      "See the caveats in the documentation: https://pandas.pydata.org/pandas-docs/stable/user_guide/indexing.html#returning-a-view-versus-a-copy\n",
      "  trainData_dup[col] = scaler.fit_transform(trainData_dup[[col]])\n",
      "<ipython-input-21-d2e1a9847239>:4: SettingWithCopyWarning: \n",
      "A value is trying to be set on a copy of a slice from a DataFrame.\n",
      "Try using .loc[row_indexer,col_indexer] = value instead\n",
      "\n",
      "See the caveats in the documentation: https://pandas.pydata.org/pandas-docs/stable/user_guide/indexing.html#returning-a-view-versus-a-copy\n",
      "  testData_dup[col] = scaler.transform(testData_dup[[col]])\n",
      "<ipython-input-21-d2e1a9847239>:3: SettingWithCopyWarning: \n",
      "A value is trying to be set on a copy of a slice from a DataFrame.\n",
      "Try using .loc[row_indexer,col_indexer] = value instead\n",
      "\n",
      "See the caveats in the documentation: https://pandas.pydata.org/pandas-docs/stable/user_guide/indexing.html#returning-a-view-versus-a-copy\n",
      "  trainData_dup[col] = scaler.fit_transform(trainData_dup[[col]])\n",
      "<ipython-input-21-d2e1a9847239>:4: SettingWithCopyWarning: \n",
      "A value is trying to be set on a copy of a slice from a DataFrame.\n",
      "Try using .loc[row_indexer,col_indexer] = value instead\n",
      "\n",
      "See the caveats in the documentation: https://pandas.pydata.org/pandas-docs/stable/user_guide/indexing.html#returning-a-view-versus-a-copy\n",
      "  testData_dup[col] = scaler.transform(testData_dup[[col]])\n",
      "<ipython-input-21-d2e1a9847239>:3: SettingWithCopyWarning: \n",
      "A value is trying to be set on a copy of a slice from a DataFrame.\n",
      "Try using .loc[row_indexer,col_indexer] = value instead\n",
      "\n",
      "See the caveats in the documentation: https://pandas.pydata.org/pandas-docs/stable/user_guide/indexing.html#returning-a-view-versus-a-copy\n",
      "  trainData_dup[col] = scaler.fit_transform(trainData_dup[[col]])\n",
      "<ipython-input-21-d2e1a9847239>:4: SettingWithCopyWarning: \n",
      "A value is trying to be set on a copy of a slice from a DataFrame.\n",
      "Try using .loc[row_indexer,col_indexer] = value instead\n",
      "\n",
      "See the caveats in the documentation: https://pandas.pydata.org/pandas-docs/stable/user_guide/indexing.html#returning-a-view-versus-a-copy\n",
      "  testData_dup[col] = scaler.transform(testData_dup[[col]])\n",
      "<ipython-input-21-d2e1a9847239>:3: SettingWithCopyWarning: \n",
      "A value is trying to be set on a copy of a slice from a DataFrame.\n",
      "Try using .loc[row_indexer,col_indexer] = value instead\n",
      "\n",
      "See the caveats in the documentation: https://pandas.pydata.org/pandas-docs/stable/user_guide/indexing.html#returning-a-view-versus-a-copy\n",
      "  trainData_dup[col] = scaler.fit_transform(trainData_dup[[col]])\n",
      "<ipython-input-21-d2e1a9847239>:4: SettingWithCopyWarning: \n",
      "A value is trying to be set on a copy of a slice from a DataFrame.\n",
      "Try using .loc[row_indexer,col_indexer] = value instead\n",
      "\n",
      "See the caveats in the documentation: https://pandas.pydata.org/pandas-docs/stable/user_guide/indexing.html#returning-a-view-versus-a-copy\n",
      "  testData_dup[col] = scaler.transform(testData_dup[[col]])\n"
     ]
    },
    {
     "name": "stderr",
     "output_type": "stream",
     "text": [
      "<ipython-input-21-d2e1a9847239>:3: SettingWithCopyWarning: \n",
      "A value is trying to be set on a copy of a slice from a DataFrame.\n",
      "Try using .loc[row_indexer,col_indexer] = value instead\n",
      "\n",
      "See the caveats in the documentation: https://pandas.pydata.org/pandas-docs/stable/user_guide/indexing.html#returning-a-view-versus-a-copy\n",
      "  trainData_dup[col] = scaler.fit_transform(trainData_dup[[col]])\n",
      "<ipython-input-21-d2e1a9847239>:4: SettingWithCopyWarning: \n",
      "A value is trying to be set on a copy of a slice from a DataFrame.\n",
      "Try using .loc[row_indexer,col_indexer] = value instead\n",
      "\n",
      "See the caveats in the documentation: https://pandas.pydata.org/pandas-docs/stable/user_guide/indexing.html#returning-a-view-versus-a-copy\n",
      "  testData_dup[col] = scaler.transform(testData_dup[[col]])\n",
      "<ipython-input-21-d2e1a9847239>:3: SettingWithCopyWarning: \n",
      "A value is trying to be set on a copy of a slice from a DataFrame.\n",
      "Try using .loc[row_indexer,col_indexer] = value instead\n",
      "\n",
      "See the caveats in the documentation: https://pandas.pydata.org/pandas-docs/stable/user_guide/indexing.html#returning-a-view-versus-a-copy\n",
      "  trainData_dup[col] = scaler.fit_transform(trainData_dup[[col]])\n",
      "<ipython-input-21-d2e1a9847239>:4: SettingWithCopyWarning: \n",
      "A value is trying to be set on a copy of a slice from a DataFrame.\n",
      "Try using .loc[row_indexer,col_indexer] = value instead\n",
      "\n",
      "See the caveats in the documentation: https://pandas.pydata.org/pandas-docs/stable/user_guide/indexing.html#returning-a-view-versus-a-copy\n",
      "  testData_dup[col] = scaler.transform(testData_dup[[col]])\n",
      "<ipython-input-21-d2e1a9847239>:3: SettingWithCopyWarning: \n",
      "A value is trying to be set on a copy of a slice from a DataFrame.\n",
      "Try using .loc[row_indexer,col_indexer] = value instead\n",
      "\n",
      "See the caveats in the documentation: https://pandas.pydata.org/pandas-docs/stable/user_guide/indexing.html#returning-a-view-versus-a-copy\n",
      "  trainData_dup[col] = scaler.fit_transform(trainData_dup[[col]])\n",
      "<ipython-input-21-d2e1a9847239>:4: SettingWithCopyWarning: \n",
      "A value is trying to be set on a copy of a slice from a DataFrame.\n",
      "Try using .loc[row_indexer,col_indexer] = value instead\n",
      "\n",
      "See the caveats in the documentation: https://pandas.pydata.org/pandas-docs/stable/user_guide/indexing.html#returning-a-view-versus-a-copy\n",
      "  testData_dup[col] = scaler.transform(testData_dup[[col]])\n",
      "<ipython-input-21-d2e1a9847239>:3: SettingWithCopyWarning: \n",
      "A value is trying to be set on a copy of a slice from a DataFrame.\n",
      "Try using .loc[row_indexer,col_indexer] = value instead\n",
      "\n",
      "See the caveats in the documentation: https://pandas.pydata.org/pandas-docs/stable/user_guide/indexing.html#returning-a-view-versus-a-copy\n",
      "  trainData_dup[col] = scaler.fit_transform(trainData_dup[[col]])\n",
      "<ipython-input-21-d2e1a9847239>:4: SettingWithCopyWarning: \n",
      "A value is trying to be set on a copy of a slice from a DataFrame.\n",
      "Try using .loc[row_indexer,col_indexer] = value instead\n",
      "\n",
      "See the caveats in the documentation: https://pandas.pydata.org/pandas-docs/stable/user_guide/indexing.html#returning-a-view-versus-a-copy\n",
      "  testData_dup[col] = scaler.transform(testData_dup[[col]])\n",
      "<ipython-input-21-d2e1a9847239>:3: SettingWithCopyWarning: \n",
      "A value is trying to be set on a copy of a slice from a DataFrame.\n",
      "Try using .loc[row_indexer,col_indexer] = value instead\n",
      "\n",
      "See the caveats in the documentation: https://pandas.pydata.org/pandas-docs/stable/user_guide/indexing.html#returning-a-view-versus-a-copy\n",
      "  trainData_dup[col] = scaler.fit_transform(trainData_dup[[col]])\n",
      "<ipython-input-21-d2e1a9847239>:4: SettingWithCopyWarning: \n",
      "A value is trying to be set on a copy of a slice from a DataFrame.\n",
      "Try using .loc[row_indexer,col_indexer] = value instead\n",
      "\n",
      "See the caveats in the documentation: https://pandas.pydata.org/pandas-docs/stable/user_guide/indexing.html#returning-a-view-versus-a-copy\n",
      "  testData_dup[col] = scaler.transform(testData_dup[[col]])\n",
      "<ipython-input-21-d2e1a9847239>:3: SettingWithCopyWarning: \n",
      "A value is trying to be set on a copy of a slice from a DataFrame.\n",
      "Try using .loc[row_indexer,col_indexer] = value instead\n",
      "\n",
      "See the caveats in the documentation: https://pandas.pydata.org/pandas-docs/stable/user_guide/indexing.html#returning-a-view-versus-a-copy\n",
      "  trainData_dup[col] = scaler.fit_transform(trainData_dup[[col]])\n",
      "<ipython-input-21-d2e1a9847239>:4: SettingWithCopyWarning: \n",
      "A value is trying to be set on a copy of a slice from a DataFrame.\n",
      "Try using .loc[row_indexer,col_indexer] = value instead\n",
      "\n",
      "See the caveats in the documentation: https://pandas.pydata.org/pandas-docs/stable/user_guide/indexing.html#returning-a-view-versus-a-copy\n",
      "  testData_dup[col] = scaler.transform(testData_dup[[col]])\n",
      "<ipython-input-21-d2e1a9847239>:3: SettingWithCopyWarning: \n",
      "A value is trying to be set on a copy of a slice from a DataFrame.\n",
      "Try using .loc[row_indexer,col_indexer] = value instead\n",
      "\n",
      "See the caveats in the documentation: https://pandas.pydata.org/pandas-docs/stable/user_guide/indexing.html#returning-a-view-versus-a-copy\n",
      "  trainData_dup[col] = scaler.fit_transform(trainData_dup[[col]])\n",
      "<ipython-input-21-d2e1a9847239>:4: SettingWithCopyWarning: \n",
      "A value is trying to be set on a copy of a slice from a DataFrame.\n",
      "Try using .loc[row_indexer,col_indexer] = value instead\n",
      "\n",
      "See the caveats in the documentation: https://pandas.pydata.org/pandas-docs/stable/user_guide/indexing.html#returning-a-view-versus-a-copy\n",
      "  testData_dup[col] = scaler.transform(testData_dup[[col]])\n"
     ]
    }
   ],
   "source": [
    "scaler = StandardScaler()\n",
    "for col in numerical_features:\n",
    "    trainData_dup[col] = scaler.fit_transform(trainData_dup[[col]])\n",
    "    testData_dup[col] = scaler.transform(testData_dup[[col]])"
   ]
  },
  {
   "cell_type": "code",
   "execution_count": 22,
   "metadata": {},
   "outputs": [
    {
     "data": {
      "text/html": [
       "<div>\n",
       "<style scoped>\n",
       "    .dataframe tbody tr th:only-of-type {\n",
       "        vertical-align: middle;\n",
       "    }\n",
       "\n",
       "    .dataframe tbody tr th {\n",
       "        vertical-align: top;\n",
       "    }\n",
       "\n",
       "    .dataframe thead th {\n",
       "        text-align: right;\n",
       "    }\n",
       "</style>\n",
       "<table border=\"1\" class=\"dataframe\">\n",
       "  <thead>\n",
       "    <tr style=\"text-align: right;\">\n",
       "      <th></th>\n",
       "      <th>dur</th>\n",
       "      <th>proto</th>\n",
       "      <th>state</th>\n",
       "      <th>spkts</th>\n",
       "      <th>dpkts</th>\n",
       "      <th>sbytes</th>\n",
       "      <th>dbytes</th>\n",
       "      <th>rate</th>\n",
       "      <th>sttl</th>\n",
       "      <th>dttl</th>\n",
       "      <th>...</th>\n",
       "      <th>ct_dst_sport_ltm</th>\n",
       "      <th>ct_dst_src_ltm</th>\n",
       "      <th>is_ftp_login</th>\n",
       "      <th>ct_ftp_cmd</th>\n",
       "      <th>ct_flw_http_mthd</th>\n",
       "      <th>ct_src_ltm</th>\n",
       "      <th>ct_srv_dst</th>\n",
       "      <th>is_sm_ips_ports</th>\n",
       "      <th>attack_cat</th>\n",
       "      <th>label</th>\n",
       "    </tr>\n",
       "  </thead>\n",
       "  <tbody>\n",
       "    <tr>\n",
       "      <th>0</th>\n",
       "      <td>-0.223587</td>\n",
       "      <td>tcp</td>\n",
       "      <td>FIN</td>\n",
       "      <td>-0.140450</td>\n",
       "      <td>-0.190829</td>\n",
       "      <td>-0.061135</td>\n",
       "      <td>-0.131894</td>\n",
       "      <td>-0.331081</td>\n",
       "      <td>1.010957</td>\n",
       "      <td>1.141270</td>\n",
       "      <td>...</td>\n",
       "      <td>-0.210789</td>\n",
       "      <td>-0.491438</td>\n",
       "      <td>-0.130336</td>\n",
       "      <td>-0.130336</td>\n",
       "      <td>-0.314442</td>\n",
       "      <td>-0.582601</td>\n",
       "      <td>-0.610768</td>\n",
       "      <td>-0.071309</td>\n",
       "      <td>Normal</td>\n",
       "      <td>0</td>\n",
       "    </tr>\n",
       "    <tr>\n",
       "      <th>1</th>\n",
       "      <td>-0.127839</td>\n",
       "      <td>tcp</td>\n",
       "      <td>FIN</td>\n",
       "      <td>-0.093864</td>\n",
       "      <td>0.058243</td>\n",
       "      <td>-0.058975</td>\n",
       "      <td>0.102342</td>\n",
       "      <td>-0.331044</td>\n",
       "      <td>-0.751956</td>\n",
       "      <td>1.124031</td>\n",
       "      <td>...</td>\n",
       "      <td>-0.210789</td>\n",
       "      <td>-0.329008</td>\n",
       "      <td>-0.130336</td>\n",
       "      <td>-0.130336</td>\n",
       "      <td>-0.314442</td>\n",
       "      <td>-0.582601</td>\n",
       "      <td>0.195951</td>\n",
       "      <td>-0.071309</td>\n",
       "      <td>Normal</td>\n",
       "      <td>0</td>\n",
       "    </tr>\n",
       "    <tr>\n",
       "      <th>2</th>\n",
       "      <td>0.048506</td>\n",
       "      <td>tcp</td>\n",
       "      <td>FIN</td>\n",
       "      <td>-0.128803</td>\n",
       "      <td>-0.102921</td>\n",
       "      <td>-0.060654</td>\n",
       "      <td>-0.059040</td>\n",
       "      <td>-0.331595</td>\n",
       "      <td>-0.751956</td>\n",
       "      <td>1.124031</td>\n",
       "      <td>...</td>\n",
       "      <td>-0.210789</td>\n",
       "      <td>-0.166579</td>\n",
       "      <td>-0.130336</td>\n",
       "      <td>-0.130336</td>\n",
       "      <td>-0.314442</td>\n",
       "      <td>-0.382105</td>\n",
       "      <td>0.195951</td>\n",
       "      <td>-0.071309</td>\n",
       "      <td>Normal</td>\n",
       "      <td>0</td>\n",
       "    </tr>\n",
       "    <tr>\n",
       "      <th>3</th>\n",
       "      <td>0.059109</td>\n",
       "      <td>tcp</td>\n",
       "      <td>FIN</td>\n",
       "      <td>-0.105510</td>\n",
       "      <td>-0.132224</td>\n",
       "      <td>-0.059456</td>\n",
       "      <td>-0.128546</td>\n",
       "      <td>-0.331599</td>\n",
       "      <td>-0.751956</td>\n",
       "      <td>1.124031</td>\n",
       "      <td>...</td>\n",
       "      <td>-0.210789</td>\n",
       "      <td>-0.166579</td>\n",
       "      <td>7.397985</td>\n",
       "      <td>7.397985</td>\n",
       "      <td>-0.314442</td>\n",
       "      <td>-0.382105</td>\n",
       "      <td>-0.610768</td>\n",
       "      <td>-0.071309</td>\n",
       "      <td>Normal</td>\n",
       "      <td>0</td>\n",
       "    </tr>\n",
       "    <tr>\n",
       "      <th>4</th>\n",
       "      <td>-0.164159</td>\n",
       "      <td>tcp</td>\n",
       "      <td>FIN</td>\n",
       "      <td>-0.117157</td>\n",
       "      <td>-0.176178</td>\n",
       "      <td>-0.059882</td>\n",
       "      <td>-0.131357</td>\n",
       "      <td>-0.331430</td>\n",
       "      <td>1.029514</td>\n",
       "      <td>1.124031</td>\n",
       "      <td>...</td>\n",
       "      <td>-0.210789</td>\n",
       "      <td>5.843306</td>\n",
       "      <td>-0.130336</td>\n",
       "      <td>-0.130336</td>\n",
       "      <td>-0.314442</td>\n",
       "      <td>-0.382105</td>\n",
       "      <td>5.520294</td>\n",
       "      <td>-0.071309</td>\n",
       "      <td>Normal</td>\n",
       "      <td>0</td>\n",
       "    </tr>\n",
       "    <tr>\n",
       "      <th>...</th>\n",
       "      <td>...</td>\n",
       "      <td>...</td>\n",
       "      <td>...</td>\n",
       "      <td>...</td>\n",
       "      <td>...</td>\n",
       "      <td>...</td>\n",
       "      <td>...</td>\n",
       "      <td>...</td>\n",
       "      <td>...</td>\n",
       "      <td>...</td>\n",
       "      <td>...</td>\n",
       "      <td>...</td>\n",
       "      <td>...</td>\n",
       "      <td>...</td>\n",
       "      <td>...</td>\n",
       "      <td>...</td>\n",
       "      <td>...</td>\n",
       "      <td>...</td>\n",
       "      <td>...</td>\n",
       "      <td>...</td>\n",
       "      <td>...</td>\n",
       "    </tr>\n",
       "    <tr>\n",
       "      <th>175267</th>\n",
       "      <td>0.101267</td>\n",
       "      <td>tcp</td>\n",
       "      <td>FIN</td>\n",
       "      <td>0.255531</td>\n",
       "      <td>-0.000362</td>\n",
       "      <td>0.255368</td>\n",
       "      <td>-0.120922</td>\n",
       "      <td>-0.331255</td>\n",
       "      <td>-0.751956</td>\n",
       "      <td>1.124031</td>\n",
       "      <td>...</td>\n",
       "      <td>-0.210789</td>\n",
       "      <td>-0.491438</td>\n",
       "      <td>-0.130336</td>\n",
       "      <td>-0.130336</td>\n",
       "      <td>-0.314442</td>\n",
       "      <td>2.825831</td>\n",
       "      <td>-0.610768</td>\n",
       "      <td>-0.071309</td>\n",
       "      <td>Exploits</td>\n",
       "      <td>1</td>\n",
       "    </tr>\n",
       "    <tr>\n",
       "      <th>175277</th>\n",
       "      <td>0.428290</td>\n",
       "      <td>tcp</td>\n",
       "      <td>FIN</td>\n",
       "      <td>0.208945</td>\n",
       "      <td>2.270592</td>\n",
       "      <td>-0.048300</td>\n",
       "      <td>2.254640</td>\n",
       "      <td>-0.330783</td>\n",
       "      <td>-0.751956</td>\n",
       "      <td>1.124031</td>\n",
       "      <td>...</td>\n",
       "      <td>-0.210789</td>\n",
       "      <td>-0.491438</td>\n",
       "      <td>-0.130336</td>\n",
       "      <td>-0.130336</td>\n",
       "      <td>-0.314442</td>\n",
       "      <td>-0.382105</td>\n",
       "      <td>-0.610768</td>\n",
       "      <td>-0.071309</td>\n",
       "      <td>Exploits</td>\n",
       "      <td>1</td>\n",
       "    </tr>\n",
       "    <tr>\n",
       "      <th>175299</th>\n",
       "      <td>-0.065036</td>\n",
       "      <td>tcp</td>\n",
       "      <td>FIN</td>\n",
       "      <td>-0.058924</td>\n",
       "      <td>-0.000362</td>\n",
       "      <td>-0.058031</td>\n",
       "      <td>-0.039458</td>\n",
       "      <td>-0.331295</td>\n",
       "      <td>-0.751956</td>\n",
       "      <td>1.124031</td>\n",
       "      <td>...</td>\n",
       "      <td>-0.210789</td>\n",
       "      <td>-0.491438</td>\n",
       "      <td>-0.130336</td>\n",
       "      <td>-0.130336</td>\n",
       "      <td>-0.314442</td>\n",
       "      <td>0.620375</td>\n",
       "      <td>-0.610768</td>\n",
       "      <td>-0.071309</td>\n",
       "      <td>Exploits</td>\n",
       "      <td>1</td>\n",
       "    </tr>\n",
       "    <tr>\n",
       "      <th>175305</th>\n",
       "      <td>0.036547</td>\n",
       "      <td>tcp</td>\n",
       "      <td>FIN</td>\n",
       "      <td>-0.012338</td>\n",
       "      <td>-0.058967</td>\n",
       "      <td>-0.005117</td>\n",
       "      <td>-0.121918</td>\n",
       "      <td>-0.331447</td>\n",
       "      <td>-0.751956</td>\n",
       "      <td>1.124031</td>\n",
       "      <td>...</td>\n",
       "      <td>-0.210789</td>\n",
       "      <td>-0.329008</td>\n",
       "      <td>-0.130336</td>\n",
       "      <td>-0.130336</td>\n",
       "      <td>-0.314442</td>\n",
       "      <td>-0.382105</td>\n",
       "      <td>-0.610768</td>\n",
       "      <td>-0.071309</td>\n",
       "      <td>Exploits</td>\n",
       "      <td>1</td>\n",
       "    </tr>\n",
       "    <tr>\n",
       "      <th>175337</th>\n",
       "      <td>-0.153956</td>\n",
       "      <td>tcp</td>\n",
       "      <td>FIN</td>\n",
       "      <td>-0.117157</td>\n",
       "      <td>-0.161527</td>\n",
       "      <td>-0.059492</td>\n",
       "      <td>-0.130875</td>\n",
       "      <td>-0.331428</td>\n",
       "      <td>1.029514</td>\n",
       "      <td>1.124031</td>\n",
       "      <td>...</td>\n",
       "      <td>-0.210789</td>\n",
       "      <td>-0.329008</td>\n",
       "      <td>-0.130336</td>\n",
       "      <td>-0.130336</td>\n",
       "      <td>-0.314442</td>\n",
       "      <td>-0.582601</td>\n",
       "      <td>-0.610768</td>\n",
       "      <td>-0.071309</td>\n",
       "      <td>Shellcode</td>\n",
       "      <td>1</td>\n",
       "    </tr>\n",
       "  </tbody>\n",
       "</table>\n",
       "<p>107724 rows × 41 columns</p>\n",
       "</div>"
      ],
      "text/plain": [
       "             dur proto state     spkts     dpkts    sbytes    dbytes  \\\n",
       "0      -0.223587   tcp   FIN -0.140450 -0.190829 -0.061135 -0.131894   \n",
       "1      -0.127839   tcp   FIN -0.093864  0.058243 -0.058975  0.102342   \n",
       "2       0.048506   tcp   FIN -0.128803 -0.102921 -0.060654 -0.059040   \n",
       "3       0.059109   tcp   FIN -0.105510 -0.132224 -0.059456 -0.128546   \n",
       "4      -0.164159   tcp   FIN -0.117157 -0.176178 -0.059882 -0.131357   \n",
       "...          ...   ...   ...       ...       ...       ...       ...   \n",
       "175267  0.101267   tcp   FIN  0.255531 -0.000362  0.255368 -0.120922   \n",
       "175277  0.428290   tcp   FIN  0.208945  2.270592 -0.048300  2.254640   \n",
       "175299 -0.065036   tcp   FIN -0.058924 -0.000362 -0.058031 -0.039458   \n",
       "175305  0.036547   tcp   FIN -0.012338 -0.058967 -0.005117 -0.121918   \n",
       "175337 -0.153956   tcp   FIN -0.117157 -0.161527 -0.059492 -0.130875   \n",
       "\n",
       "            rate      sttl      dttl  ...  ct_dst_sport_ltm  ct_dst_src_ltm  \\\n",
       "0      -0.331081  1.010957  1.141270  ...         -0.210789       -0.491438   \n",
       "1      -0.331044 -0.751956  1.124031  ...         -0.210789       -0.329008   \n",
       "2      -0.331595 -0.751956  1.124031  ...         -0.210789       -0.166579   \n",
       "3      -0.331599 -0.751956  1.124031  ...         -0.210789       -0.166579   \n",
       "4      -0.331430  1.029514  1.124031  ...         -0.210789        5.843306   \n",
       "...          ...       ...       ...  ...               ...             ...   \n",
       "175267 -0.331255 -0.751956  1.124031  ...         -0.210789       -0.491438   \n",
       "175277 -0.330783 -0.751956  1.124031  ...         -0.210789       -0.491438   \n",
       "175299 -0.331295 -0.751956  1.124031  ...         -0.210789       -0.491438   \n",
       "175305 -0.331447 -0.751956  1.124031  ...         -0.210789       -0.329008   \n",
       "175337 -0.331428  1.029514  1.124031  ...         -0.210789       -0.329008   \n",
       "\n",
       "        is_ftp_login  ct_ftp_cmd  ct_flw_http_mthd  ct_src_ltm  ct_srv_dst  \\\n",
       "0          -0.130336   -0.130336         -0.314442   -0.582601   -0.610768   \n",
       "1          -0.130336   -0.130336         -0.314442   -0.582601    0.195951   \n",
       "2          -0.130336   -0.130336         -0.314442   -0.382105    0.195951   \n",
       "3           7.397985    7.397985         -0.314442   -0.382105   -0.610768   \n",
       "4          -0.130336   -0.130336         -0.314442   -0.382105    5.520294   \n",
       "...              ...         ...               ...         ...         ...   \n",
       "175267     -0.130336   -0.130336         -0.314442    2.825831   -0.610768   \n",
       "175277     -0.130336   -0.130336         -0.314442   -0.382105   -0.610768   \n",
       "175299     -0.130336   -0.130336         -0.314442    0.620375   -0.610768   \n",
       "175305     -0.130336   -0.130336         -0.314442   -0.382105   -0.610768   \n",
       "175337     -0.130336   -0.130336         -0.314442   -0.582601   -0.610768   \n",
       "\n",
       "        is_sm_ips_ports  attack_cat  label  \n",
       "0             -0.071309      Normal      0  \n",
       "1             -0.071309      Normal      0  \n",
       "2             -0.071309      Normal      0  \n",
       "3             -0.071309      Normal      0  \n",
       "4             -0.071309      Normal      0  \n",
       "...                 ...         ...    ...  \n",
       "175267        -0.071309    Exploits      1  \n",
       "175277        -0.071309    Exploits      1  \n",
       "175299        -0.071309    Exploits      1  \n",
       "175305        -0.071309    Exploits      1  \n",
       "175337        -0.071309   Shellcode      1  \n",
       "\n",
       "[107724 rows x 41 columns]"
      ]
     },
     "execution_count": 22,
     "metadata": {},
     "output_type": "execute_result"
    }
   ],
   "source": [
    "trainData_dup"
   ]
  },
  {
   "cell_type": "code",
   "execution_count": 23,
   "metadata": {},
   "outputs": [
    {
     "data": {
      "text/html": [
       "<div>\n",
       "<style scoped>\n",
       "    .dataframe tbody tr th:only-of-type {\n",
       "        vertical-align: middle;\n",
       "    }\n",
       "\n",
       "    .dataframe tbody tr th {\n",
       "        vertical-align: top;\n",
       "    }\n",
       "\n",
       "    .dataframe thead th {\n",
       "        text-align: right;\n",
       "    }\n",
       "</style>\n",
       "<table border=\"1\" class=\"dataframe\">\n",
       "  <thead>\n",
       "    <tr style=\"text-align: right;\">\n",
       "      <th></th>\n",
       "      <th>dur</th>\n",
       "      <th>proto</th>\n",
       "      <th>state</th>\n",
       "      <th>spkts</th>\n",
       "      <th>dpkts</th>\n",
       "      <th>sbytes</th>\n",
       "      <th>dbytes</th>\n",
       "      <th>rate</th>\n",
       "      <th>sttl</th>\n",
       "      <th>dttl</th>\n",
       "      <th>...</th>\n",
       "      <th>ct_dst_sport_ltm</th>\n",
       "      <th>ct_dst_src_ltm</th>\n",
       "      <th>is_ftp_login</th>\n",
       "      <th>ct_ftp_cmd</th>\n",
       "      <th>ct_flw_http_mthd</th>\n",
       "      <th>ct_src_ltm</th>\n",
       "      <th>ct_srv_dst</th>\n",
       "      <th>is_sm_ips_ports</th>\n",
       "      <th>attack_cat</th>\n",
       "      <th>label</th>\n",
       "    </tr>\n",
       "  </thead>\n",
       "  <tbody>\n",
       "    <tr>\n",
       "      <th>0</th>\n",
       "      <td>-0.245596</td>\n",
       "      <td>udp</td>\n",
       "      <td>INT</td>\n",
       "      <td>-0.163743</td>\n",
       "      <td>-0.220132</td>\n",
       "      <td>-0.060055</td>\n",
       "      <td>-0.132857</td>\n",
       "      <td>0.447714</td>\n",
       "      <td>1.029514</td>\n",
       "      <td>-1.048127</td>\n",
       "      <td>...</td>\n",
       "      <td>-0.210789</td>\n",
       "      <td>-0.329008</td>\n",
       "      <td>-0.130336</td>\n",
       "      <td>-0.130336</td>\n",
       "      <td>-0.314442</td>\n",
       "      <td>-0.582601</td>\n",
       "      <td>-0.449424</td>\n",
       "      <td>-0.071309</td>\n",
       "      <td>Normal</td>\n",
       "      <td>0</td>\n",
       "    </tr>\n",
       "    <tr>\n",
       "      <th>1</th>\n",
       "      <td>-0.245597</td>\n",
       "      <td>udp</td>\n",
       "      <td>INT</td>\n",
       "      <td>-0.163743</td>\n",
       "      <td>-0.220132</td>\n",
       "      <td>-0.054309</td>\n",
       "      <td>-0.132857</td>\n",
       "      <td>0.740001</td>\n",
       "      <td>1.029514</td>\n",
       "      <td>-1.048127</td>\n",
       "      <td>...</td>\n",
       "      <td>-0.210789</td>\n",
       "      <td>-0.329008</td>\n",
       "      <td>-0.130336</td>\n",
       "      <td>-0.130336</td>\n",
       "      <td>-0.314442</td>\n",
       "      <td>-0.582601</td>\n",
       "      <td>-0.449424</td>\n",
       "      <td>-0.071309</td>\n",
       "      <td>Normal</td>\n",
       "      <td>0</td>\n",
       "    </tr>\n",
       "    <tr>\n",
       "      <th>2</th>\n",
       "      <td>-0.245597</td>\n",
       "      <td>udp</td>\n",
       "      <td>INT</td>\n",
       "      <td>-0.163743</td>\n",
       "      <td>-0.220132</td>\n",
       "      <td>-0.057459</td>\n",
       "      <td>-0.132857</td>\n",
       "      <td>1.383032</td>\n",
       "      <td>1.029514</td>\n",
       "      <td>-1.048127</td>\n",
       "      <td>...</td>\n",
       "      <td>-0.210789</td>\n",
       "      <td>-0.166579</td>\n",
       "      <td>-0.130336</td>\n",
       "      <td>-0.130336</td>\n",
       "      <td>-0.314442</td>\n",
       "      <td>-0.582601</td>\n",
       "      <td>-0.288080</td>\n",
       "      <td>-0.071309</td>\n",
       "      <td>Normal</td>\n",
       "      <td>0</td>\n",
       "    </tr>\n",
       "    <tr>\n",
       "      <th>3</th>\n",
       "      <td>-0.245597</td>\n",
       "      <td>udp</td>\n",
       "      <td>INT</td>\n",
       "      <td>-0.163743</td>\n",
       "      <td>-0.220132</td>\n",
       "      <td>-0.058221</td>\n",
       "      <td>-0.132857</td>\n",
       "      <td>1.097240</td>\n",
       "      <td>1.029514</td>\n",
       "      <td>-1.048127</td>\n",
       "      <td>...</td>\n",
       "      <td>-0.210789</td>\n",
       "      <td>-0.166579</td>\n",
       "      <td>-0.130336</td>\n",
       "      <td>-0.130336</td>\n",
       "      <td>-0.314442</td>\n",
       "      <td>-0.382105</td>\n",
       "      <td>-0.288080</td>\n",
       "      <td>-0.071309</td>\n",
       "      <td>Normal</td>\n",
       "      <td>0</td>\n",
       "    </tr>\n",
       "    <tr>\n",
       "      <th>4</th>\n",
       "      <td>-0.245596</td>\n",
       "      <td>udp</td>\n",
       "      <td>INT</td>\n",
       "      <td>-0.163743</td>\n",
       "      <td>-0.220132</td>\n",
       "      <td>-0.052657</td>\n",
       "      <td>-0.132857</td>\n",
       "      <td>0.525658</td>\n",
       "      <td>1.029514</td>\n",
       "      <td>-1.048127</td>\n",
       "      <td>...</td>\n",
       "      <td>-0.210789</td>\n",
       "      <td>-0.166579</td>\n",
       "      <td>-0.130336</td>\n",
       "      <td>-0.130336</td>\n",
       "      <td>-0.314442</td>\n",
       "      <td>-0.382105</td>\n",
       "      <td>-0.288080</td>\n",
       "      <td>-0.071309</td>\n",
       "      <td>Normal</td>\n",
       "      <td>0</td>\n",
       "    </tr>\n",
       "    <tr>\n",
       "      <th>...</th>\n",
       "      <td>...</td>\n",
       "      <td>...</td>\n",
       "      <td>...</td>\n",
       "      <td>...</td>\n",
       "      <td>...</td>\n",
       "      <td>...</td>\n",
       "      <td>...</td>\n",
       "      <td>...</td>\n",
       "      <td>...</td>\n",
       "      <td>...</td>\n",
       "      <td>...</td>\n",
       "      <td>...</td>\n",
       "      <td>...</td>\n",
       "      <td>...</td>\n",
       "      <td>...</td>\n",
       "      <td>...</td>\n",
       "      <td>...</td>\n",
       "      <td>...</td>\n",
       "      <td>...</td>\n",
       "      <td>...</td>\n",
       "      <td>...</td>\n",
       "    </tr>\n",
       "    <tr>\n",
       "      <th>82319</th>\n",
       "      <td>-0.098483</td>\n",
       "      <td>tcp</td>\n",
       "      <td>FIN</td>\n",
       "      <td>-0.117157</td>\n",
       "      <td>-0.176178</td>\n",
       "      <td>-0.059637</td>\n",
       "      <td>-0.131357</td>\n",
       "      <td>-0.331558</td>\n",
       "      <td>1.029514</td>\n",
       "      <td>1.124031</td>\n",
       "      <td>...</td>\n",
       "      <td>-0.210789</td>\n",
       "      <td>-0.004150</td>\n",
       "      <td>-0.130336</td>\n",
       "      <td>-0.130336</td>\n",
       "      <td>-0.314442</td>\n",
       "      <td>-0.582601</td>\n",
       "      <td>-0.126737</td>\n",
       "      <td>-0.071309</td>\n",
       "      <td>Normal</td>\n",
       "      <td>0</td>\n",
       "    </tr>\n",
       "    <tr>\n",
       "      <th>82322</th>\n",
       "      <td>-0.245598</td>\n",
       "      <td>udp</td>\n",
       "      <td>INT</td>\n",
       "      <td>-0.163743</td>\n",
       "      <td>-0.220132</td>\n",
       "      <td>-0.061834</td>\n",
       "      <td>-0.132857</td>\n",
       "      <td>1.811719</td>\n",
       "      <td>1.029514</td>\n",
       "      <td>-1.048127</td>\n",
       "      <td>...</td>\n",
       "      <td>-0.210789</td>\n",
       "      <td>-0.491438</td>\n",
       "      <td>-0.130336</td>\n",
       "      <td>-0.130336</td>\n",
       "      <td>-0.314442</td>\n",
       "      <td>-0.582601</td>\n",
       "      <td>-0.610768</td>\n",
       "      <td>-0.071309</td>\n",
       "      <td>Normal</td>\n",
       "      <td>0</td>\n",
       "    </tr>\n",
       "    <tr>\n",
       "      <th>82323</th>\n",
       "      <td>0.690717</td>\n",
       "      <td>tcp</td>\n",
       "      <td>FIN</td>\n",
       "      <td>0.453521</td>\n",
       "      <td>-0.044316</td>\n",
       "      <td>0.564297</td>\n",
       "      <td>-0.127024</td>\n",
       "      <td>-0.331499</td>\n",
       "      <td>1.029514</td>\n",
       "      <td>1.124031</td>\n",
       "      <td>...</td>\n",
       "      <td>-0.210789</td>\n",
       "      <td>-0.491438</td>\n",
       "      <td>-0.130336</td>\n",
       "      <td>-0.130336</td>\n",
       "      <td>-0.314442</td>\n",
       "      <td>-0.582601</td>\n",
       "      <td>-0.288080</td>\n",
       "      <td>-0.071309</td>\n",
       "      <td>Normal</td>\n",
       "      <td>0</td>\n",
       "    </tr>\n",
       "    <tr>\n",
       "      <th>82327</th>\n",
       "      <td>-0.245597</td>\n",
       "      <td>udp</td>\n",
       "      <td>INT</td>\n",
       "      <td>-0.163743</td>\n",
       "      <td>-0.220132</td>\n",
       "      <td>-0.061834</td>\n",
       "      <td>-0.132857</td>\n",
       "      <td>1.383032</td>\n",
       "      <td>1.029514</td>\n",
       "      <td>-1.048127</td>\n",
       "      <td>...</td>\n",
       "      <td>-0.210789</td>\n",
       "      <td>-0.329008</td>\n",
       "      <td>-0.130336</td>\n",
       "      <td>-0.130336</td>\n",
       "      <td>-0.314442</td>\n",
       "      <td>-0.382105</td>\n",
       "      <td>-0.610768</td>\n",
       "      <td>-0.071309</td>\n",
       "      <td>Normal</td>\n",
       "      <td>0</td>\n",
       "    </tr>\n",
       "    <tr>\n",
       "      <th>82328</th>\n",
       "      <td>-0.045177</td>\n",
       "      <td>tcp</td>\n",
       "      <td>FIN</td>\n",
       "      <td>-0.058924</td>\n",
       "      <td>-0.161527</td>\n",
       "      <td>0.019667</td>\n",
       "      <td>-0.130875</td>\n",
       "      <td>-0.331507</td>\n",
       "      <td>1.029514</td>\n",
       "      <td>1.124031</td>\n",
       "      <td>...</td>\n",
       "      <td>-0.210789</td>\n",
       "      <td>-0.491438</td>\n",
       "      <td>-0.130336</td>\n",
       "      <td>-0.130336</td>\n",
       "      <td>-0.314442</td>\n",
       "      <td>-0.181609</td>\n",
       "      <td>-0.449424</td>\n",
       "      <td>-0.071309</td>\n",
       "      <td>Normal</td>\n",
       "      <td>0</td>\n",
       "    </tr>\n",
       "  </tbody>\n",
       "</table>\n",
       "<p>55940 rows × 41 columns</p>\n",
       "</div>"
      ],
      "text/plain": [
       "            dur proto state     spkts     dpkts    sbytes    dbytes      rate  \\\n",
       "0     -0.245596   udp   INT -0.163743 -0.220132 -0.060055 -0.132857  0.447714   \n",
       "1     -0.245597   udp   INT -0.163743 -0.220132 -0.054309 -0.132857  0.740001   \n",
       "2     -0.245597   udp   INT -0.163743 -0.220132 -0.057459 -0.132857  1.383032   \n",
       "3     -0.245597   udp   INT -0.163743 -0.220132 -0.058221 -0.132857  1.097240   \n",
       "4     -0.245596   udp   INT -0.163743 -0.220132 -0.052657 -0.132857  0.525658   \n",
       "...         ...   ...   ...       ...       ...       ...       ...       ...   \n",
       "82319 -0.098483   tcp   FIN -0.117157 -0.176178 -0.059637 -0.131357 -0.331558   \n",
       "82322 -0.245598   udp   INT -0.163743 -0.220132 -0.061834 -0.132857  1.811719   \n",
       "82323  0.690717   tcp   FIN  0.453521 -0.044316  0.564297 -0.127024 -0.331499   \n",
       "82327 -0.245597   udp   INT -0.163743 -0.220132 -0.061834 -0.132857  1.383032   \n",
       "82328 -0.045177   tcp   FIN -0.058924 -0.161527  0.019667 -0.130875 -0.331507   \n",
       "\n",
       "           sttl      dttl  ...  ct_dst_sport_ltm  ct_dst_src_ltm  \\\n",
       "0      1.029514 -1.048127  ...         -0.210789       -0.329008   \n",
       "1      1.029514 -1.048127  ...         -0.210789       -0.329008   \n",
       "2      1.029514 -1.048127  ...         -0.210789       -0.166579   \n",
       "3      1.029514 -1.048127  ...         -0.210789       -0.166579   \n",
       "4      1.029514 -1.048127  ...         -0.210789       -0.166579   \n",
       "...         ...       ...  ...               ...             ...   \n",
       "82319  1.029514  1.124031  ...         -0.210789       -0.004150   \n",
       "82322  1.029514 -1.048127  ...         -0.210789       -0.491438   \n",
       "82323  1.029514  1.124031  ...         -0.210789       -0.491438   \n",
       "82327  1.029514 -1.048127  ...         -0.210789       -0.329008   \n",
       "82328  1.029514  1.124031  ...         -0.210789       -0.491438   \n",
       "\n",
       "       is_ftp_login  ct_ftp_cmd  ct_flw_http_mthd  ct_src_ltm  ct_srv_dst  \\\n",
       "0         -0.130336   -0.130336         -0.314442   -0.582601   -0.449424   \n",
       "1         -0.130336   -0.130336         -0.314442   -0.582601   -0.449424   \n",
       "2         -0.130336   -0.130336         -0.314442   -0.582601   -0.288080   \n",
       "3         -0.130336   -0.130336         -0.314442   -0.382105   -0.288080   \n",
       "4         -0.130336   -0.130336         -0.314442   -0.382105   -0.288080   \n",
       "...             ...         ...               ...         ...         ...   \n",
       "82319     -0.130336   -0.130336         -0.314442   -0.582601   -0.126737   \n",
       "82322     -0.130336   -0.130336         -0.314442   -0.582601   -0.610768   \n",
       "82323     -0.130336   -0.130336         -0.314442   -0.582601   -0.288080   \n",
       "82327     -0.130336   -0.130336         -0.314442   -0.382105   -0.610768   \n",
       "82328     -0.130336   -0.130336         -0.314442   -0.181609   -0.449424   \n",
       "\n",
       "       is_sm_ips_ports  attack_cat  label  \n",
       "0            -0.071309      Normal      0  \n",
       "1            -0.071309      Normal      0  \n",
       "2            -0.071309      Normal      0  \n",
       "3            -0.071309      Normal      0  \n",
       "4            -0.071309      Normal      0  \n",
       "...                ...         ...    ...  \n",
       "82319        -0.071309      Normal      0  \n",
       "82322        -0.071309      Normal      0  \n",
       "82323        -0.071309      Normal      0  \n",
       "82327        -0.071309      Normal      0  \n",
       "82328        -0.071309      Normal      0  \n",
       "\n",
       "[55940 rows x 41 columns]"
      ]
     },
     "execution_count": 23,
     "metadata": {},
     "output_type": "execute_result"
    }
   ],
   "source": [
    "testData_dup"
   ]
  },
  {
   "cell_type": "markdown",
   "metadata": {},
   "source": [
    "#### OneHot Encoding\n"
   ]
  },
  {
   "cell_type": "code",
   "execution_count": 24,
   "metadata": {},
   "outputs": [
    {
     "name": "stderr",
     "output_type": "stream",
     "text": [
      "<ipython-input-2-cc636c40d077>:6: SettingWithCopyWarning: \n",
      "A value is trying to be set on a copy of a slice from a DataFrame.\n",
      "Try using .loc[row_indexer,col_indexer] = value instead\n",
      "\n",
      "See the caveats in the documentation: https://pandas.pydata.org/pandas-docs/stable/user_guide/indexing.html#returning-a-view-versus-a-copy\n",
      "  df[dummy_name] = dummies[x]\n",
      "/opt/anaconda3/lib/python3.8/site-packages/pandas/core/frame.py:3990: SettingWithCopyWarning: \n",
      "A value is trying to be set on a copy of a slice from a DataFrame\n",
      "\n",
      "See the caveats in the documentation: https://pandas.pydata.org/pandas-docs/stable/user_guide/indexing.html#returning-a-view-versus-a-copy\n",
      "  return super().drop(\n"
     ]
    }
   ],
   "source": [
    "categorical_features =['proto','state',\"attack_cat\"]\n",
    "for col in categorical_features:\n",
    "    encode_text_dummy(trainData_dup,col)\n",
    "    encode_text_dummy(testData_dup, col)\n"
   ]
  },
  {
   "cell_type": "code",
   "execution_count": 25,
   "metadata": {},
   "outputs": [
    {
     "data": {
      "text/html": [
       "<div>\n",
       "<style scoped>\n",
       "    .dataframe tbody tr th:only-of-type {\n",
       "        vertical-align: middle;\n",
       "    }\n",
       "\n",
       "    .dataframe tbody tr th {\n",
       "        vertical-align: top;\n",
       "    }\n",
       "\n",
       "    .dataframe thead th {\n",
       "        text-align: right;\n",
       "    }\n",
       "</style>\n",
       "<table border=\"1\" class=\"dataframe\">\n",
       "  <thead>\n",
       "    <tr style=\"text-align: right;\">\n",
       "      <th></th>\n",
       "      <th>dur</th>\n",
       "      <th>spkts</th>\n",
       "      <th>dpkts</th>\n",
       "      <th>sbytes</th>\n",
       "      <th>dbytes</th>\n",
       "      <th>rate</th>\n",
       "      <th>sttl</th>\n",
       "      <th>dttl</th>\n",
       "      <th>sload</th>\n",
       "      <th>dload</th>\n",
       "      <th>...</th>\n",
       "      <th>attack_cat-Analysis</th>\n",
       "      <th>attack_cat-Backdoor</th>\n",
       "      <th>attack_cat-DoS</th>\n",
       "      <th>attack_cat-Exploits</th>\n",
       "      <th>attack_cat-Fuzzers</th>\n",
       "      <th>attack_cat-Generic</th>\n",
       "      <th>attack_cat-Normal</th>\n",
       "      <th>attack_cat-Reconnaissance</th>\n",
       "      <th>attack_cat-Shellcode</th>\n",
       "      <th>attack_cat-Worms</th>\n",
       "    </tr>\n",
       "  </thead>\n",
       "  <tbody>\n",
       "    <tr>\n",
       "      <th>0</th>\n",
       "      <td>-0.223587</td>\n",
       "      <td>-0.140450</td>\n",
       "      <td>-0.190829</td>\n",
       "      <td>-0.061135</td>\n",
       "      <td>-0.131894</td>\n",
       "      <td>-0.331081</td>\n",
       "      <td>1.010957</td>\n",
       "      <td>1.141270</td>\n",
       "      <td>-0.234937</td>\n",
       "      <td>-0.358622</td>\n",
       "      <td>...</td>\n",
       "      <td>0</td>\n",
       "      <td>0</td>\n",
       "      <td>0</td>\n",
       "      <td>0</td>\n",
       "      <td>0</td>\n",
       "      <td>0</td>\n",
       "      <td>1</td>\n",
       "      <td>0</td>\n",
       "      <td>0</td>\n",
       "      <td>0</td>\n",
       "    </tr>\n",
       "    <tr>\n",
       "      <th>1</th>\n",
       "      <td>-0.127839</td>\n",
       "      <td>-0.093864</td>\n",
       "      <td>0.058243</td>\n",
       "      <td>-0.058975</td>\n",
       "      <td>0.102342</td>\n",
       "      <td>-0.331044</td>\n",
       "      <td>-0.751956</td>\n",
       "      <td>1.124031</td>\n",
       "      <td>-0.234965</td>\n",
       "      <td>-0.194362</td>\n",
       "      <td>...</td>\n",
       "      <td>0</td>\n",
       "      <td>0</td>\n",
       "      <td>0</td>\n",
       "      <td>0</td>\n",
       "      <td>0</td>\n",
       "      <td>0</td>\n",
       "      <td>1</td>\n",
       "      <td>0</td>\n",
       "      <td>0</td>\n",
       "      <td>0</td>\n",
       "    </tr>\n",
       "    <tr>\n",
       "      <th>2</th>\n",
       "      <td>0.048506</td>\n",
       "      <td>-0.128803</td>\n",
       "      <td>-0.102921</td>\n",
       "      <td>-0.060654</td>\n",
       "      <td>-0.059040</td>\n",
       "      <td>-0.331595</td>\n",
       "      <td>-0.751956</td>\n",
       "      <td>1.124031</td>\n",
       "      <td>-0.234997</td>\n",
       "      <td>-0.341225</td>\n",
       "      <td>...</td>\n",
       "      <td>0</td>\n",
       "      <td>0</td>\n",
       "      <td>0</td>\n",
       "      <td>0</td>\n",
       "      <td>0</td>\n",
       "      <td>0</td>\n",
       "      <td>1</td>\n",
       "      <td>0</td>\n",
       "      <td>0</td>\n",
       "      <td>0</td>\n",
       "    </tr>\n",
       "    <tr>\n",
       "      <th>3</th>\n",
       "      <td>0.059109</td>\n",
       "      <td>-0.105510</td>\n",
       "      <td>-0.132224</td>\n",
       "      <td>-0.059456</td>\n",
       "      <td>-0.128546</td>\n",
       "      <td>-0.331599</td>\n",
       "      <td>-0.751956</td>\n",
       "      <td>1.124031</td>\n",
       "      <td>-0.234991</td>\n",
       "      <td>-0.360327</td>\n",
       "      <td>...</td>\n",
       "      <td>0</td>\n",
       "      <td>0</td>\n",
       "      <td>0</td>\n",
       "      <td>0</td>\n",
       "      <td>0</td>\n",
       "      <td>0</td>\n",
       "      <td>1</td>\n",
       "      <td>0</td>\n",
       "      <td>0</td>\n",
       "      <td>0</td>\n",
       "    </tr>\n",
       "    <tr>\n",
       "      <th>4</th>\n",
       "      <td>-0.164159</td>\n",
       "      <td>-0.117157</td>\n",
       "      <td>-0.176178</td>\n",
       "      <td>-0.059882</td>\n",
       "      <td>-0.131357</td>\n",
       "      <td>-0.331430</td>\n",
       "      <td>1.029514</td>\n",
       "      <td>1.124031</td>\n",
       "      <td>-0.234964</td>\n",
       "      <td>-0.360118</td>\n",
       "      <td>...</td>\n",
       "      <td>0</td>\n",
       "      <td>0</td>\n",
       "      <td>0</td>\n",
       "      <td>0</td>\n",
       "      <td>0</td>\n",
       "      <td>0</td>\n",
       "      <td>1</td>\n",
       "      <td>0</td>\n",
       "      <td>0</td>\n",
       "      <td>0</td>\n",
       "    </tr>\n",
       "  </tbody>\n",
       "</table>\n",
       "<p>5 rows × 190 columns</p>\n",
       "</div>"
      ],
      "text/plain": [
       "        dur     spkts     dpkts    sbytes    dbytes      rate      sttl  \\\n",
       "0 -0.223587 -0.140450 -0.190829 -0.061135 -0.131894 -0.331081  1.010957   \n",
       "1 -0.127839 -0.093864  0.058243 -0.058975  0.102342 -0.331044 -0.751956   \n",
       "2  0.048506 -0.128803 -0.102921 -0.060654 -0.059040 -0.331595 -0.751956   \n",
       "3  0.059109 -0.105510 -0.132224 -0.059456 -0.128546 -0.331599 -0.751956   \n",
       "4 -0.164159 -0.117157 -0.176178 -0.059882 -0.131357 -0.331430  1.029514   \n",
       "\n",
       "       dttl     sload     dload  ...  attack_cat-Analysis  \\\n",
       "0  1.141270 -0.234937 -0.358622  ...                    0   \n",
       "1  1.124031 -0.234965 -0.194362  ...                    0   \n",
       "2  1.124031 -0.234997 -0.341225  ...                    0   \n",
       "3  1.124031 -0.234991 -0.360327  ...                    0   \n",
       "4  1.124031 -0.234964 -0.360118  ...                    0   \n",
       "\n",
       "   attack_cat-Backdoor  attack_cat-DoS  attack_cat-Exploits  \\\n",
       "0                    0               0                    0   \n",
       "1                    0               0                    0   \n",
       "2                    0               0                    0   \n",
       "3                    0               0                    0   \n",
       "4                    0               0                    0   \n",
       "\n",
       "   attack_cat-Fuzzers  attack_cat-Generic  attack_cat-Normal  \\\n",
       "0                   0                   0                  1   \n",
       "1                   0                   0                  1   \n",
       "2                   0                   0                  1   \n",
       "3                   0                   0                  1   \n",
       "4                   0                   0                  1   \n",
       "\n",
       "   attack_cat-Reconnaissance  attack_cat-Shellcode  attack_cat-Worms  \n",
       "0                          0                     0                 0  \n",
       "1                          0                     0                 0  \n",
       "2                          0                     0                 0  \n",
       "3                          0                     0                 0  \n",
       "4                          0                     0                 0  \n",
       "\n",
       "[5 rows x 190 columns]"
      ]
     },
     "execution_count": 25,
     "metadata": {},
     "output_type": "execute_result"
    }
   ],
   "source": [
    "trainData_dup.head()"
   ]
  },
  {
   "cell_type": "code",
   "execution_count": 26,
   "metadata": {},
   "outputs": [
    {
     "data": {
      "text/html": [
       "<div>\n",
       "<style scoped>\n",
       "    .dataframe tbody tr th:only-of-type {\n",
       "        vertical-align: middle;\n",
       "    }\n",
       "\n",
       "    .dataframe tbody tr th {\n",
       "        vertical-align: top;\n",
       "    }\n",
       "\n",
       "    .dataframe thead th {\n",
       "        text-align: right;\n",
       "    }\n",
       "</style>\n",
       "<table border=\"1\" class=\"dataframe\">\n",
       "  <thead>\n",
       "    <tr style=\"text-align: right;\">\n",
       "      <th></th>\n",
       "      <th>dur</th>\n",
       "      <th>spkts</th>\n",
       "      <th>dpkts</th>\n",
       "      <th>sbytes</th>\n",
       "      <th>dbytes</th>\n",
       "      <th>rate</th>\n",
       "      <th>sttl</th>\n",
       "      <th>dttl</th>\n",
       "      <th>sload</th>\n",
       "      <th>dload</th>\n",
       "      <th>...</th>\n",
       "      <th>attack_cat-Analysis</th>\n",
       "      <th>attack_cat-Backdoor</th>\n",
       "      <th>attack_cat-DoS</th>\n",
       "      <th>attack_cat-Exploits</th>\n",
       "      <th>attack_cat-Fuzzers</th>\n",
       "      <th>attack_cat-Generic</th>\n",
       "      <th>attack_cat-Normal</th>\n",
       "      <th>attack_cat-Reconnaissance</th>\n",
       "      <th>attack_cat-Shellcode</th>\n",
       "      <th>attack_cat-Worms</th>\n",
       "    </tr>\n",
       "  </thead>\n",
       "  <tbody>\n",
       "    <tr>\n",
       "      <th>0</th>\n",
       "      <td>-0.245596</td>\n",
       "      <td>-0.163743</td>\n",
       "      <td>-0.220132</td>\n",
       "      <td>-0.060055</td>\n",
       "      <td>-0.132857</td>\n",
       "      <td>0.447714</td>\n",
       "      <td>1.029514</td>\n",
       "      <td>-1.048127</td>\n",
       "      <td>0.618101</td>\n",
       "      <td>-0.361441</td>\n",
       "      <td>...</td>\n",
       "      <td>0</td>\n",
       "      <td>0</td>\n",
       "      <td>0</td>\n",
       "      <td>0</td>\n",
       "      <td>0</td>\n",
       "      <td>0</td>\n",
       "      <td>1</td>\n",
       "      <td>0</td>\n",
       "      <td>0</td>\n",
       "      <td>0</td>\n",
       "    </tr>\n",
       "    <tr>\n",
       "      <th>1</th>\n",
       "      <td>-0.245597</td>\n",
       "      <td>-0.163743</td>\n",
       "      <td>-0.220132</td>\n",
       "      <td>-0.054309</td>\n",
       "      <td>-0.132857</td>\n",
       "      <td>0.740001</td>\n",
       "      <td>1.029514</td>\n",
       "      <td>-1.048127</td>\n",
       "      <td>3.932054</td>\n",
       "      <td>-0.361441</td>\n",
       "      <td>...</td>\n",
       "      <td>0</td>\n",
       "      <td>0</td>\n",
       "      <td>0</td>\n",
       "      <td>0</td>\n",
       "      <td>0</td>\n",
       "      <td>0</td>\n",
       "      <td>1</td>\n",
       "      <td>0</td>\n",
       "      <td>0</td>\n",
       "      <td>0</td>\n",
       "    </tr>\n",
       "    <tr>\n",
       "      <th>2</th>\n",
       "      <td>-0.245597</td>\n",
       "      <td>-0.163743</td>\n",
       "      <td>-0.220132</td>\n",
       "      <td>-0.057459</td>\n",
       "      <td>-0.132857</td>\n",
       "      <td>1.383032</td>\n",
       "      <td>1.029514</td>\n",
       "      <td>-1.048127</td>\n",
       "      <td>3.806238</td>\n",
       "      <td>-0.361441</td>\n",
       "      <td>...</td>\n",
       "      <td>0</td>\n",
       "      <td>0</td>\n",
       "      <td>0</td>\n",
       "      <td>0</td>\n",
       "      <td>0</td>\n",
       "      <td>0</td>\n",
       "      <td>1</td>\n",
       "      <td>0</td>\n",
       "      <td>0</td>\n",
       "      <td>0</td>\n",
       "    </tr>\n",
       "    <tr>\n",
       "      <th>3</th>\n",
       "      <td>-0.245597</td>\n",
       "      <td>-0.163743</td>\n",
       "      <td>-0.220132</td>\n",
       "      <td>-0.058221</td>\n",
       "      <td>-0.132857</td>\n",
       "      <td>1.097240</td>\n",
       "      <td>1.029514</td>\n",
       "      <td>-1.048127</td>\n",
       "      <td>2.602947</td>\n",
       "      <td>-0.361441</td>\n",
       "      <td>...</td>\n",
       "      <td>0</td>\n",
       "      <td>0</td>\n",
       "      <td>0</td>\n",
       "      <td>0</td>\n",
       "      <td>0</td>\n",
       "      <td>0</td>\n",
       "      <td>1</td>\n",
       "      <td>0</td>\n",
       "      <td>0</td>\n",
       "      <td>0</td>\n",
       "    </tr>\n",
       "    <tr>\n",
       "      <th>4</th>\n",
       "      <td>-0.245596</td>\n",
       "      <td>-0.163743</td>\n",
       "      <td>-0.220132</td>\n",
       "      <td>-0.052657</td>\n",
       "      <td>-0.132857</td>\n",
       "      <td>0.525658</td>\n",
       "      <td>1.029514</td>\n",
       "      <td>-1.048127</td>\n",
       "      <td>3.787318</td>\n",
       "      <td>-0.361441</td>\n",
       "      <td>...</td>\n",
       "      <td>0</td>\n",
       "      <td>0</td>\n",
       "      <td>0</td>\n",
       "      <td>0</td>\n",
       "      <td>0</td>\n",
       "      <td>0</td>\n",
       "      <td>1</td>\n",
       "      <td>0</td>\n",
       "      <td>0</td>\n",
       "      <td>0</td>\n",
       "    </tr>\n",
       "  </tbody>\n",
       "</table>\n",
       "<p>5 rows × 186 columns</p>\n",
       "</div>"
      ],
      "text/plain": [
       "        dur     spkts     dpkts    sbytes    dbytes      rate      sttl  \\\n",
       "0 -0.245596 -0.163743 -0.220132 -0.060055 -0.132857  0.447714  1.029514   \n",
       "1 -0.245597 -0.163743 -0.220132 -0.054309 -0.132857  0.740001  1.029514   \n",
       "2 -0.245597 -0.163743 -0.220132 -0.057459 -0.132857  1.383032  1.029514   \n",
       "3 -0.245597 -0.163743 -0.220132 -0.058221 -0.132857  1.097240  1.029514   \n",
       "4 -0.245596 -0.163743 -0.220132 -0.052657 -0.132857  0.525658  1.029514   \n",
       "\n",
       "       dttl     sload     dload  ...  attack_cat-Analysis  \\\n",
       "0 -1.048127  0.618101 -0.361441  ...                    0   \n",
       "1 -1.048127  3.932054 -0.361441  ...                    0   \n",
       "2 -1.048127  3.806238 -0.361441  ...                    0   \n",
       "3 -1.048127  2.602947 -0.361441  ...                    0   \n",
       "4 -1.048127  3.787318 -0.361441  ...                    0   \n",
       "\n",
       "   attack_cat-Backdoor  attack_cat-DoS  attack_cat-Exploits  \\\n",
       "0                    0               0                    0   \n",
       "1                    0               0                    0   \n",
       "2                    0               0                    0   \n",
       "3                    0               0                    0   \n",
       "4                    0               0                    0   \n",
       "\n",
       "   attack_cat-Fuzzers  attack_cat-Generic  attack_cat-Normal  \\\n",
       "0                   0                   0                  1   \n",
       "1                   0                   0                  1   \n",
       "2                   0                   0                  1   \n",
       "3                   0                   0                  1   \n",
       "4                   0                   0                  1   \n",
       "\n",
       "   attack_cat-Reconnaissance  attack_cat-Shellcode  attack_cat-Worms  \n",
       "0                          0                     0                 0  \n",
       "1                          0                     0                 0  \n",
       "2                          0                     0                 0  \n",
       "3                          0                     0                 0  \n",
       "4                          0                     0                 0  \n",
       "\n",
       "[5 rows x 186 columns]"
      ]
     },
     "execution_count": 26,
     "metadata": {},
     "output_type": "execute_result"
    }
   ],
   "source": [
    "testData_dup.head()"
   ]
  },
  {
   "cell_type": "code",
   "execution_count": 27,
   "metadata": {},
   "outputs": [
    {
     "name": "stdout",
     "output_type": "stream",
     "text": [
      "(107724, 190)\n",
      "(55940, 186)\n"
     ]
    }
   ],
   "source": [
    "print(trainData_dup.shape)\n",
    "print(testData_dup.shape)"
   ]
  },
  {
   "cell_type": "code",
   "execution_count": 28,
   "metadata": {},
   "outputs": [],
   "source": [
    "trainExtraColumns = list(set(trainData_dup).difference(testData_dup))"
   ]
  },
  {
   "cell_type": "code",
   "execution_count": 29,
   "metadata": {},
   "outputs": [],
   "source": [
    "testExtraColumns = list(set(testData_dup).difference(trainData_dup))"
   ]
  },
  {
   "cell_type": "code",
   "execution_count": 30,
   "metadata": {},
   "outputs": [
    {
     "name": "stderr",
     "output_type": "stream",
     "text": [
      "/opt/anaconda3/lib/python3.8/site-packages/pandas/core/frame.py:3990: SettingWithCopyWarning: \n",
      "A value is trying to be set on a copy of a slice from a DataFrame\n",
      "\n",
      "See the caveats in the documentation: https://pandas.pydata.org/pandas-docs/stable/user_guide/indexing.html#returning-a-view-versus-a-copy\n",
      "  return super().drop(\n"
     ]
    }
   ],
   "source": [
    "trainData_dup.drop(columns = trainExtraColumns, inplace = True)\n",
    "testData_dup.drop(columns = testExtraColumns, inplace = True)"
   ]
  },
  {
   "cell_type": "code",
   "execution_count": 31,
   "metadata": {},
   "outputs": [
    {
     "name": "stdout",
     "output_type": "stream",
     "text": [
      "(107724, 184)\n",
      "(55940, 184)\n"
     ]
    }
   ],
   "source": [
    "print(trainData_dup.shape)\n",
    "print(testData_dup.shape)"
   ]
  },
  {
   "cell_type": "code",
   "execution_count": 32,
   "metadata": {},
   "outputs": [
    {
     "data": {
      "text/plain": [
       "1    55834\n",
       "0    51890\n",
       "Name: label, dtype: int64"
      ]
     },
     "execution_count": 32,
     "metadata": {},
     "output_type": "execute_result"
    }
   ],
   "source": [
    "#Count of good connections and attack\n",
    "trainData_dup['label'].value_counts()"
   ]
  },
  {
   "cell_type": "code",
   "execution_count": 33,
   "metadata": {},
   "outputs": [
    {
     "data": {
      "image/png": "[encoded data removed]",
      "text/plain": [
       "<Figure size 432x288 with 1 Axes>"
      ]
     },
     "metadata": {
      "needs_background": "light"
     },
     "output_type": "display_data"
    }
   ],
   "source": [
    "trainData_dup.label.value_counts().plot(kind='barh', title='Count of Good connections and attacks in Training Data',  color='g');\n",
    "plt.show()"
   ]
  },
  {
   "cell_type": "code",
   "execution_count": 34,
   "metadata": {},
   "outputs": [
    {
     "data": {
      "text/plain": [
       "0    34204\n",
       "1    21736\n",
       "Name: label, dtype: int64"
      ]
     },
     "execution_count": 34,
     "metadata": {},
     "output_type": "execute_result"
    }
   ],
   "source": [
    "#Count of good connections and attack\n",
    "testData_dup['label'].value_counts()"
   ]
  },
  {
   "cell_type": "code",
   "execution_count": 35,
   "metadata": {},
   "outputs": [
    {
     "data": {
      "image/png": "[encoded data removed]",
      "text/plain": [
       "<Figure size 432x288 with 1 Axes>"
      ]
     },
     "metadata": {
      "needs_background": "light"
     },
     "output_type": "display_data"
    }
   ],
   "source": [
    "testData_dup.label.value_counts().plot(kind='barh', title='Count of Good connections and attacks in Testing Data',  color='y');\n",
    "plt.show()"
   ]
  },
  {
   "cell_type": "markdown",
   "metadata": {},
   "source": [
    "### Split DataFrame X into Y"
   ]
  },
  {
   "cell_type": "code",
   "execution_count": 36,
   "metadata": {},
   "outputs": [],
   "source": [
    "#copy of the dataframe for NN\n",
    "\n",
    "trainData_dup_copy = trainData_dup.copy()\n",
    "testData_dup_copy = testData_dup.copy()\n",
    "\n",
    "\n",
    "X_train = trainData_dup.drop('label', axis = 1)\n",
    "y_train = trainData_dup.label\n",
    "\n",
    "X_test = testData_dup.drop('label', axis = 1)\n",
    "y_test = testData_dup.label\n"
   ]
  },
  {
   "cell_type": "markdown",
   "metadata": {},
   "source": [
    "# Logistic Regression"
   ]
  },
  {
   "cell_type": "code",
   "execution_count": 37,
   "metadata": {},
   "outputs": [
    {
     "name": "stdout",
     "output_type": "stream",
     "text": [
      "              precision    recall  f1-score   support\n",
      "\n",
      "           0       1.00      1.00      1.00     34204\n",
      "           1       1.00      1.00      1.00     21736\n",
      "\n",
      "    accuracy                           1.00     55940\n",
      "   macro avg       1.00      1.00      1.00     55940\n",
      "weighted avg       1.00      1.00      1.00     55940\n",
      "\n"
     ]
    },
    {
     "data": {
      "image/png": "[encoded data removed]",
      "text/plain": [
       "<Figure size 432x288 with 1 Axes>"
      ]
     },
     "metadata": {
      "needs_background": "light"
     },
     "output_type": "display_data"
    },
    {
     "name": "stdout",
     "output_type": "stream",
     "text": [
      "None\n",
      "[[34204     0]\n",
      " [    0 21736]]\n"
     ]
    },
    {
     "data": {
      "image/png": "[encoded data removed]",
      "text/plain": [
       "<Figure size 432x288 with 2 Axes>"
      ]
     },
     "metadata": {
      "needs_background": "light"
     },
     "output_type": "display_data"
    }
   ],
   "source": [
    "import seaborn as sns\n",
    "\n",
    "logreg = LogisticRegression(max_iter=500)\n",
    "logreg.fit(X_train, y_train)\n",
    "y_pred = logreg.predict(X_test)\n",
    "print(classification_report(y_pred, y_test))\n",
    "print(plot_roc(y_pred,y_test))\n",
    "\n",
    "cm = confusion_matrix(y_test, y_pred)\n",
    "print(cm)\n",
    "\n",
    "ax = sns.heatmap(cm, cmap=\"Blues\", yticklabels=True)\n",
    "ax.set_title('Confusion matrix')\n",
    "ax.set_ylabel('True label')\n",
    "ax.set_xlabel('Predicted label')\n",
    "plt.show()"
   ]
  },
  {
   "cell_type": "code",
   "execution_count": 38,
   "metadata": {},
   "outputs": [],
   "source": [
    "#Sort feature importances\n",
    "importantFeatures = logreg.coef_[0, :].argsort()\n",
    "importantFeatures = np.array(X_train.columns)[importantFeatures]"
   ]
  },
  {
   "cell_type": "markdown",
   "metadata": {},
   "source": [
    "attack_cat-Normal is completely predicting the label because attack_cat-Normal == label.\n",
    "That column is giving a false sense of predicting importance. Better to drop the column to predict it accurately."
   ]
  },
  {
   "cell_type": "code",
   "execution_count": 39,
   "metadata": {},
   "outputs": [
    {
     "name": "stdout",
     "output_type": "stream",
     "text": [
      "182 0.7474258133714694\n",
      "181 0.8339113335716839\n",
      "180 0.8822309617447265\n",
      "179 0.9129245620307472\n",
      "178 0.9782981766178048\n",
      "177 0.9782981766178048\n",
      "176 0.9850554165176976\n",
      "175 0.9850554165176976\n",
      "174 0.9930282445477298\n"
     ]
    },
    {
     "data": {
      "text/plain": [
       "[<matplotlib.lines.Line2D at 0x1451cc580>]"
      ]
     },
     "execution_count": 39,
     "metadata": {},
     "output_type": "execute_result"
    },
    {
     "data": {
      "image/png": "[encoded data removed]",
      "text/plain": [
       "<Figure size 432x288 with 1 Axes>"
      ]
     },
     "metadata": {
      "needs_background": "light"
     },
     "output_type": "display_data"
    }
   ],
   "source": [
    "\n",
    "scores = []\n",
    "\n",
    "for i in range(182, 173, -1):\n",
    "    impLogReg = LogisticRegression(max_iter = 500)\n",
    "    impLogReg.fit(X_train.loc[:,importantFeatures[i:184]], y_train)\n",
    "    newY_pred = impLogReg.predict(X_test.loc[:, importantFeatures[i:184]])\n",
    "    score = accuracy_score(y_test, newY_pred)\n",
    "    scores.append(score)\n",
    "    print(i, score)\n",
    "\n",
    "plt.plot(range(1, len(scores) + 1), scores)"
   ]
  },
  {
   "cell_type": "code",
   "execution_count": 40,
   "metadata": {},
   "outputs": [],
   "source": [
    "finalFeatures = importantFeatures[177:]"
   ]
  },
  {
   "cell_type": "code",
   "execution_count": 41,
   "metadata": {},
   "outputs": [
    {
     "name": "stdout",
     "output_type": "stream",
     "text": [
      "The important features giving 97.8% accuracy are:\n",
      "['dttl' 'attack_cat-Generic' 'attack_cat-DoS' 'attack_cat-Reconnaissance'\n",
      " 'attack_cat-Fuzzers' 'attack_cat-Exploits']\n"
     ]
    }
   ],
   "source": [
    "print(\"The important features giving 97.8% accuracy are:\")\n",
    "print(finalFeatures)"
   ]
  },
  {
   "cell_type": "code",
   "execution_count": 42,
   "metadata": {},
   "outputs": [
    {
     "data": {
      "text/plain": [
       "LogisticRegression(max_iter=500)"
      ]
     },
     "execution_count": 42,
     "metadata": {},
     "output_type": "execute_result"
    }
   ],
   "source": [
    "impLogReg = LogisticRegression(max_iter = 500)\n",
    "\n",
    "impLogReg.fit(X_train.loc[:,finalFeatures], y_train)\n"
   ]
  },
  {
   "cell_type": "code",
   "execution_count": 43,
   "metadata": {},
   "outputs": [
    {
     "name": "stdout",
     "output_type": "stream",
     "text": [
      "              precision    recall  f1-score   support\n",
      "\n",
      "           0       0.97      1.00      0.98     34204\n",
      "           1       1.00      0.94      0.97     21736\n",
      "\n",
      "    accuracy                           0.98     55940\n",
      "   macro avg       0.98      0.97      0.98     55940\n",
      "weighted avg       0.98      0.98      0.98     55940\n",
      "\n"
     ]
    },
    {
     "data": {
      "image/png": "[encoded data removed]",
      "text/plain": [
       "<Figure size 432x288 with 1 Axes>"
      ]
     },
     "metadata": {
      "needs_background": "light"
     },
     "output_type": "display_data"
    },
    {
     "name": "stdout",
     "output_type": "stream",
     "text": [
      "None\n",
      "[[34204     0]\n",
      " [ 1214 20522]]\n",
      "\n"
     ]
    },
    {
     "data": {
      "image/png": "[encoded data removed]",
      "text/plain": [
       "<Figure size 432x288 with 2 Axes>"
      ]
     },
     "metadata": {
      "needs_background": "light"
     },
     "output_type": "display_data"
    }
   ],
   "source": [
    "newY_pred = impLogReg.predict(X_test.loc[:, finalFeatures])\n",
    "print(classification_report(y_test, newY_pred))\n",
    "\n",
    "\n",
    "print(plot_roc(newY_pred,y_test))\n",
    "\n",
    "cm = confusion_matrix(y_test, newY_pred)\n",
    "print(cm)\n",
    "\n",
    "print()\n",
    "\n",
    "\n",
    "ax = sns.heatmap(cm, cmap=\"Blues\", yticklabels=True)\n",
    "ax.set_title('Confusion matrix')\n",
    "ax.set_ylabel('True label')\n",
    "ax.set_xlabel('Predicted label')\n",
    "plt.show()"
   ]
  },
  {
   "cell_type": "markdown",
   "metadata": {},
   "source": [
    "# K Nearest Neighbors"
   ]
  },
  {
   "cell_type": "code",
   "execution_count": 44,
   "metadata": {},
   "outputs": [
    {
     "data": {
      "text/plain": [
       "KNeighborsClassifier()"
      ]
     },
     "execution_count": 44,
     "metadata": {},
     "output_type": "execute_result"
    }
   ],
   "source": [
    "#KNN\n",
    "knn = KNeighborsClassifier(n_neighbors = 5)\n",
    "knn.fit(X_train, y_train)"
   ]
  },
  {
   "cell_type": "code",
   "execution_count": 45,
   "metadata": {},
   "outputs": [],
   "source": [
    "y_pred_knn = knn.predict(X_test)"
   ]
  },
  {
   "cell_type": "code",
   "execution_count": 46,
   "metadata": {},
   "outputs": [
    {
     "name": "stdout",
     "output_type": "stream",
     "text": [
      "(55940, 183)\n",
      "(107724, 183)\n"
     ]
    }
   ],
   "source": [
    "print(X_test.shape)\n",
    "print(X_train.shape)\n"
   ]
  },
  {
   "cell_type": "code",
   "execution_count": 47,
   "metadata": {},
   "outputs": [
    {
     "name": "stdout",
     "output_type": "stream",
     "text": [
      "              precision    recall  f1-score   support\n",
      "\n",
      "           0       1.00      0.98      0.99     34204\n",
      "           1       0.97      1.00      0.98     21736\n",
      "\n",
      "    accuracy                           0.99     55940\n",
      "   macro avg       0.99      0.99      0.99     55940\n",
      "weighted avg       0.99      0.99      0.99     55940\n",
      "\n"
     ]
    },
    {
     "data": {
      "image/png": "[encoded data removed]",
      "text/plain": [
       "<Figure size 432x288 with 1 Axes>"
      ]
     },
     "metadata": {
      "needs_background": "light"
     },
     "output_type": "display_data"
    },
    {
     "name": "stdout",
     "output_type": "stream",
     "text": [
      "None\n",
      "[[33615   589]\n",
      " [   78 21658]]\n",
      "\n"
     ]
    },
    {
     "data": {
      "image/png": "[encoded data removed]",
      "text/plain": [
       "<Figure size 432x288 with 2 Axes>"
      ]
     },
     "metadata": {
      "needs_background": "light"
     },
     "output_type": "display_data"
    }
   ],
   "source": [
    "print(classification_report(y_test, y_pred_knn))\n",
    "\n",
    "print(plot_roc(y_pred_knn,y_test))\n",
    "\n",
    "cm = confusion_matrix(y_test, y_pred_knn)\n",
    "print(cm)\n",
    "\n",
    "print()\n",
    "\n",
    "\n",
    "ax = sns.heatmap(cm, cmap=\"Blues\", yticklabels=True)\n",
    "ax.set_title('Confusion matrix')\n",
    "ax.set_ylabel('True label')\n",
    "ax.set_xlabel('Predicted label')\n",
    "plt.show()\n"
   ]
  },
  {
   "cell_type": "code",
   "execution_count": 48,
   "metadata": {},
   "outputs": [
    {
     "data": {
      "text/plain": [
       "KNeighborsClassifier()"
      ]
     },
     "execution_count": 48,
     "metadata": {},
     "output_type": "execute_result"
    }
   ],
   "source": [
    "finalX_train = X_train.loc[:, finalFeatures]\n",
    "finalX_test = X_test.loc[:, finalFeatures]\n",
    "knnImp = KNeighborsClassifier(n_neighbors = 5)\n",
    "knnImp.fit(finalX_train, y_train)"
   ]
  },
  {
   "cell_type": "code",
   "execution_count": 49,
   "metadata": {},
   "outputs": [
    {
     "name": "stdout",
     "output_type": "stream",
     "text": [
      "              precision    recall  f1-score   support\n",
      "\n",
      "           0       0.97      1.00      0.98     34204\n",
      "           1       1.00      0.94      0.97     21736\n",
      "\n",
      "    accuracy                           0.98     55940\n",
      "   macro avg       0.98      0.97      0.98     55940\n",
      "weighted avg       0.98      0.98      0.98     55940\n",
      "\n"
     ]
    },
    {
     "data": {
      "image/png": "[encoded data removed]",
      "text/plain": [
       "<Figure size 432x288 with 1 Axes>"
      ]
     },
     "metadata": {
      "needs_background": "light"
     },
     "output_type": "display_data"
    },
    {
     "name": "stdout",
     "output_type": "stream",
     "text": [
      "None\n",
      "[[34203     1]\n",
      " [ 1208 20528]]\n",
      "\n"
     ]
    },
    {
     "data": {
      "image/png": "[encoded data removed]",
      "text/plain": [
       "<Figure size 432x288 with 2 Axes>"
      ]
     },
     "metadata": {
      "needs_background": "light"
     },
     "output_type": "display_data"
    }
   ],
   "source": [
    "y_pred_new = knnImp.predict(finalX_test)\n",
    "print(classification_report(y_test, y_pred_new))\n",
    "\n",
    "\n",
    "print(plot_roc(y_pred_new,y_test))\n",
    "\n",
    "cm = confusion_matrix(y_test, y_pred_new)\n",
    "print(cm)\n",
    "\n",
    "print()\n",
    "\n",
    "\n",
    "ax = sns.heatmap(cm, cmap=\"Blues\", yticklabels=True)\n",
    "ax.set_title('Confusion matrix')\n",
    "ax.set_ylabel('True label')\n",
    "ax.set_xlabel('Predicted label')\n",
    "plt.show()\n"
   ]
  },
  {
   "cell_type": "markdown",
   "metadata": {},
   "source": [
    "# Support Vector Machine\n"
   ]
  },
  {
   "cell_type": "code",
   "execution_count": 50,
   "metadata": {},
   "outputs": [
    {
     "name": "stdout",
     "output_type": "stream",
     "text": [
      "              precision    recall  f1-score   support\n",
      "\n",
      "           0       1.00      1.00      1.00     34204\n",
      "           1       1.00      1.00      1.00     21736\n",
      "\n",
      "    accuracy                           1.00     55940\n",
      "   macro avg       1.00      1.00      1.00     55940\n",
      "weighted avg       1.00      1.00      1.00     55940\n",
      "\n"
     ]
    },
    {
     "data": {
      "image/png": "[encoded data removed]",
      "text/plain": [
       "<Figure size 432x288 with 1 Axes>"
      ]
     },
     "metadata": {
      "needs_background": "light"
     },
     "output_type": "display_data"
    },
    {
     "name": "stdout",
     "output_type": "stream",
     "text": [
      "None\n",
      "[[34131    73]\n",
      " [    5 21731]]\n",
      "\n"
     ]
    },
    {
     "data": {
      "image/png": "[encoded data removed]",
      "text/plain": [
       "<Figure size 432x288 with 2 Axes>"
      ]
     },
     "metadata": {
      "needs_background": "light"
     },
     "output_type": "display_data"
    }
   ],
   "source": [
    "svm = SVC(probability=True)\n",
    "svm.fit(X_train,y_train)\n",
    "y_pred_svm = svm.predict(X_test)\n",
    "print(classification_report(y_test, y_pred_svm))\n",
    "\n",
    "print(plot_roc(y_pred_svm,y_test))\n",
    "\n",
    "cm = confusion_matrix(y_test, y_pred_svm)\n",
    "print(cm)\n",
    "\n",
    "print()\n",
    "\n",
    "\n",
    "ax = sns.heatmap(cm, cmap=\"Blues\",yticklabels=True)\n",
    "ax.set_title('Confusion matrix')\n",
    "ax.set_ylabel('True label')\n",
    "ax.set_xlabel('Predicted label')\n",
    "plt.show()\n"
   ]
  },
  {
   "cell_type": "code",
   "execution_count": 51,
   "metadata": {},
   "outputs": [
    {
     "name": "stdout",
     "output_type": "stream",
     "text": [
      "              precision    recall  f1-score   support\n",
      "\n",
      "           0       0.97      1.00      0.98     34204\n",
      "           1       1.00      0.94      0.97     21736\n",
      "\n",
      "    accuracy                           0.98     55940\n",
      "   macro avg       0.98      0.97      0.98     55940\n",
      "weighted avg       0.98      0.98      0.98     55940\n",
      "\n"
     ]
    },
    {
     "data": {
      "image/png": "[encoded data removed]",
      "text/plain": [
       "<Figure size 432x288 with 1 Axes>"
      ]
     },
     "metadata": {
      "needs_background": "light"
     },
     "output_type": "display_data"
    },
    {
     "name": "stdout",
     "output_type": "stream",
     "text": [
      "None\n",
      "[[34204     0]\n",
      " [ 1214 20522]]\n",
      "\n"
     ]
    },
    {
     "data": {
      "image/png": "[encoded data removed]",
      "text/plain": [
       "<Figure size 432x288 with 2 Axes>"
      ]
     },
     "metadata": {
      "needs_background": "light"
     },
     "output_type": "display_data"
    }
   ],
   "source": [
    "svmImp = SVC(probability=True)\n",
    "svmImp.fit(X_train.loc[:, finalFeatures],y_train)\n",
    "y_pred_svm_new = svmImp.predict(X_test.loc[:,finalFeatures])\n",
    "print(classification_report(y_test, y_pred_svm_new))\n",
    "\n",
    "\n",
    "print(plot_roc(y_pred_svm_new,y_test))\n",
    "\n",
    "cm = confusion_matrix(y_test, y_pred_svm_new)\n",
    "print(cm)\n",
    "\n",
    "print()\n",
    "\n",
    "\n",
    "ax = sns.heatmap(cm,cmap=\"Blues\", yticklabels=True)\n",
    "ax.set_title('Confusion matrix')\n",
    "ax.set_ylabel('True label')\n",
    "ax.set_xlabel('Predicted label')\n",
    "plt.show()\n"
   ]
  },
  {
   "cell_type": "markdown",
   "metadata": {},
   "source": [
    "# Fully Connected Neural Networks"
   ]
  },
  {
   "cell_type": "code",
   "execution_count": 52,
   "metadata": {},
   "outputs": [],
   "source": [
    "label = encode_text_index(trainData_dup_copy,\"label\")\n",
    "x,y=to_xy(trainData_dup_copy,\"label\")"
   ]
  },
  {
   "cell_type": "code",
   "execution_count": 53,
   "metadata": {},
   "outputs": [],
   "source": [
    "label = encode_text_index(testData_dup_copy,\"label\")\n",
    "x_test,y_test=to_xy(testData_dup_copy,\"label\")"
   ]
  },
  {
   "cell_type": "markdown",
   "metadata": {},
   "source": [
    "# Activation = relu and Optimizer = adam"
   ]
  },
  {
   "cell_type": "code",
   "execution_count": 54,
   "metadata": {},
   "outputs": [
    {
     "name": "stdout",
     "output_type": "stream",
     "text": [
      "Epoch 1/10\n",
      "3367/3367 - 3s - loss: 0.0180 - accuracy: 0.9951\n",
      "Epoch 2/10\n",
      "3367/3367 - 3s - loss: 1.1959e-05 - accuracy: 1.0000\n",
      "Epoch 3/10\n",
      "3367/3367 - 4s - loss: 1.4079e-06 - accuracy: 1.0000\n",
      "Epoch 4/10\n",
      "3367/3367 - 3s - loss: 7.5248e-04 - accuracy: 0.9998\n",
      "Epoch 5/10\n",
      "3367/3367 - 3s - loss: 3.4800e-06 - accuracy: 1.0000\n",
      "Epoch 6/10\n",
      "3367/3367 - 3s - loss: 2.2695e-07 - accuracy: 1.0000\n",
      "Epoch 7/10\n",
      "3367/3367 - 3s - loss: 7.4525e-08 - accuracy: 1.0000\n",
      "Epoch 8/10\n",
      "3367/3367 - 4s - loss: 2.0702e-08 - accuracy: 1.0000\n",
      "Epoch 9/10\n",
      "3367/3367 - 4s - loss: 5.3941e-09 - accuracy: 1.0000\n",
      "Epoch 10/10\n",
      "3367/3367 - 3s - loss: 1.6822e-09 - accuracy: 1.0000\n",
      "Epoch 1/10\n",
      "\n",
      "Epoch 00001: val_loss improved from inf to 0.00011, saving model to weight11.hdf5\n",
      "3367/3367 - 6s - loss: 6.6186e-10 - accuracy: 1.0000 - val_loss: 1.1362e-04 - val_accuracy: 1.0000\n",
      "Epoch 2/10\n",
      "\n",
      "Epoch 00002: val_loss improved from 0.00011 to 0.00011, saving model to weight11.hdf5\n",
      "3367/3367 - 7s - loss: 3.6973e-10 - accuracy: 1.0000 - val_loss: 1.0815e-04 - val_accuracy: 1.0000\n",
      "Epoch 3/10\n",
      "\n",
      "Epoch 00003: val_loss improved from 0.00011 to 0.00008, saving model to weight11.hdf5\n",
      "3367/3367 - 5s - loss: 2.6187e-10 - accuracy: 1.0000 - val_loss: 8.3781e-05 - val_accuracy: 1.0000\n",
      "Epoch 00003: early stopping\n"
     ]
    }
   ],
   "source": [
    "from tensorflow.keras.layers import Dense, Activation\n",
    "from tensorflow.keras.callbacks import EarlyStopping\n",
    "from tensorflow.keras.callbacks import ModelCheckpoint\n",
    "filepath='weight11.hdf5'\n",
    "model = Sequential()\n",
    "model.add(Dense(50, input_dim=x.shape[1], activation='relu')) # Hidden 1\n",
    "model.add(Dense(25, activation='relu')) # Hidden 2\n",
    "model.add(Dense(y.shape[1], activation='sigmoid')) # Output\n",
    "\n",
    "model.compile(loss='binary_crossentropy', optimizer='adam',metrics=['accuracy'])\n",
    "\n",
    "model.fit(x,y,verbose=2,epochs=10)\n",
    "\n",
    "monitor = EarlyStopping(monitor='val_loss', min_delta=1e-3, patience=2, verbose=2, mode='min')  \n",
    "checkpointer = ModelCheckpoint(filepath, verbose=1, save_best_only=True) # save best model\n",
    "\n",
    "model.fit(x, y, validation_data=(x_test,y_test),epochs=10, callbacks=[monitor,checkpointer], verbose=2)  \n",
    "\n",
    "\n",
    "model.load_weights(filepath)\n"
   ]
  },
  {
   "cell_type": "code",
   "execution_count": 55,
   "metadata": {},
   "outputs": [
    {
     "data": {
      "text/plain": [
       "array([[1.0000000e+00, 4.9381993e-10],\n",
       "       [1.0000000e+00, 5.2748850e-10],\n",
       "       [1.0000000e+00, 3.3723802e-10],\n",
       "       ...,\n",
       "       [1.0000000e+00, 4.7683801e-10],\n",
       "       [1.0000000e+00, 3.6238371e-10],\n",
       "       [1.0000000e+00, 7.6657500e-11]], dtype=float32)"
      ]
     },
     "execution_count": 55,
     "metadata": {},
     "output_type": "execute_result"
    }
   ],
   "source": [
    "pred_nn = model.predict(x_test)\n",
    "pred_nn"
   ]
  },
  {
   "cell_type": "code",
   "execution_count": 56,
   "metadata": {},
   "outputs": [
    {
     "name": "stdout",
     "output_type": "stream",
     "text": [
      "              precision    recall  f1-score   support\n",
      "\n",
      "           0       1.00      1.00      1.00     34204\n",
      "           1       1.00      1.00      1.00     21736\n",
      "\n",
      "    accuracy                           1.00     55940\n",
      "   macro avg       1.00      1.00      1.00     55940\n",
      "weighted avg       1.00      1.00      1.00     55940\n",
      "\n"
     ]
    }
   ],
   "source": [
    "pred_nn1 = np.argmax(pred_nn,axis=1)\n",
    "y_true= np.argmax(y_test,axis=1) \n",
    "from sklearn import metrics\n",
    "print(metrics.classification_report(y_true, pred_nn1))"
   ]
  },
  {
   "cell_type": "code",
   "execution_count": 57,
   "metadata": {},
   "outputs": [
    {
     "name": "stdout",
     "output_type": "stream",
     "text": [
      "[[34204     0]\n",
      " [    1 21735]]\n",
      "Plotting confusion matrix\n"
     ]
    },
    {
     "data": {
      "image/png": "[encoded data removed]",
      "text/plain": [
       "<Figure size 432x288 with 2 Axes>"
      ]
     },
     "metadata": {
      "needs_background": "light"
     },
     "output_type": "display_data"
    }
   ],
   "source": [
    "\n",
    "cm = confusion_matrix(y_true, pred_nn1)\n",
    "print(cm)\n",
    "\n",
    "print('Plotting confusion matrix')\n",
    "plt.figure()\n",
    "plot_confusion_matrix(cm, label)\n",
    "plt.show()"
   ]
  },
  {
   "cell_type": "code",
   "execution_count": 58,
   "metadata": {},
   "outputs": [
    {
     "data": {
      "image/png": "[encoded data removed]",
      "text/plain": [
       "<Figure size 432x288 with 1 Axes>"
      ]
     },
     "metadata": {
      "needs_background": "light"
     },
     "output_type": "display_data"
    },
    {
     "name": "stdout",
     "output_type": "stream",
     "text": [
      "None\n"
     ]
    }
   ],
   "source": [
    "print(plot_roc(pred_nn1,y_true))"
   ]
  },
  {
   "cell_type": "markdown",
   "metadata": {},
   "source": [
    "# Activation = relu and Optimizer = adam with important features from Logistic Regression"
   ]
  },
  {
   "cell_type": "code",
   "execution_count": 59,
   "metadata": {},
   "outputs": [
    {
     "data": {
      "text/html": [
       "<div>\n",
       "<style scoped>\n",
       "    .dataframe tbody tr th:only-of-type {\n",
       "        vertical-align: middle;\n",
       "    }\n",
       "\n",
       "    .dataframe tbody tr th {\n",
       "        vertical-align: top;\n",
       "    }\n",
       "\n",
       "    .dataframe thead th {\n",
       "        text-align: right;\n",
       "    }\n",
       "</style>\n",
       "<table border=\"1\" class=\"dataframe\">\n",
       "  <thead>\n",
       "    <tr style=\"text-align: right;\">\n",
       "      <th></th>\n",
       "      <th>dttl</th>\n",
       "      <th>attack_cat-Generic</th>\n",
       "      <th>attack_cat-DoS</th>\n",
       "      <th>attack_cat-Reconnaissance</th>\n",
       "      <th>attack_cat-Fuzzers</th>\n",
       "      <th>attack_cat-Exploits</th>\n",
       "      <th>label</th>\n",
       "    </tr>\n",
       "  </thead>\n",
       "  <tbody>\n",
       "    <tr>\n",
       "      <th>0</th>\n",
       "      <td>1.141270</td>\n",
       "      <td>0</td>\n",
       "      <td>0</td>\n",
       "      <td>0</td>\n",
       "      <td>0</td>\n",
       "      <td>0</td>\n",
       "      <td>0</td>\n",
       "    </tr>\n",
       "    <tr>\n",
       "      <th>1</th>\n",
       "      <td>1.124031</td>\n",
       "      <td>0</td>\n",
       "      <td>0</td>\n",
       "      <td>0</td>\n",
       "      <td>0</td>\n",
       "      <td>0</td>\n",
       "      <td>0</td>\n",
       "    </tr>\n",
       "    <tr>\n",
       "      <th>2</th>\n",
       "      <td>1.124031</td>\n",
       "      <td>0</td>\n",
       "      <td>0</td>\n",
       "      <td>0</td>\n",
       "      <td>0</td>\n",
       "      <td>0</td>\n",
       "      <td>0</td>\n",
       "    </tr>\n",
       "    <tr>\n",
       "      <th>3</th>\n",
       "      <td>1.124031</td>\n",
       "      <td>0</td>\n",
       "      <td>0</td>\n",
       "      <td>0</td>\n",
       "      <td>0</td>\n",
       "      <td>0</td>\n",
       "      <td>0</td>\n",
       "    </tr>\n",
       "    <tr>\n",
       "      <th>4</th>\n",
       "      <td>1.124031</td>\n",
       "      <td>0</td>\n",
       "      <td>0</td>\n",
       "      <td>0</td>\n",
       "      <td>0</td>\n",
       "      <td>0</td>\n",
       "      <td>0</td>\n",
       "    </tr>\n",
       "    <tr>\n",
       "      <th>...</th>\n",
       "      <td>...</td>\n",
       "      <td>...</td>\n",
       "      <td>...</td>\n",
       "      <td>...</td>\n",
       "      <td>...</td>\n",
       "      <td>...</td>\n",
       "      <td>...</td>\n",
       "    </tr>\n",
       "    <tr>\n",
       "      <th>175267</th>\n",
       "      <td>1.124031</td>\n",
       "      <td>0</td>\n",
       "      <td>0</td>\n",
       "      <td>0</td>\n",
       "      <td>0</td>\n",
       "      <td>1</td>\n",
       "      <td>1</td>\n",
       "    </tr>\n",
       "    <tr>\n",
       "      <th>175277</th>\n",
       "      <td>1.124031</td>\n",
       "      <td>0</td>\n",
       "      <td>0</td>\n",
       "      <td>0</td>\n",
       "      <td>0</td>\n",
       "      <td>1</td>\n",
       "      <td>1</td>\n",
       "    </tr>\n",
       "    <tr>\n",
       "      <th>175299</th>\n",
       "      <td>1.124031</td>\n",
       "      <td>0</td>\n",
       "      <td>0</td>\n",
       "      <td>0</td>\n",
       "      <td>0</td>\n",
       "      <td>1</td>\n",
       "      <td>1</td>\n",
       "    </tr>\n",
       "    <tr>\n",
       "      <th>175305</th>\n",
       "      <td>1.124031</td>\n",
       "      <td>0</td>\n",
       "      <td>0</td>\n",
       "      <td>0</td>\n",
       "      <td>0</td>\n",
       "      <td>1</td>\n",
       "      <td>1</td>\n",
       "    </tr>\n",
       "    <tr>\n",
       "      <th>175337</th>\n",
       "      <td>1.124031</td>\n",
       "      <td>0</td>\n",
       "      <td>0</td>\n",
       "      <td>0</td>\n",
       "      <td>0</td>\n",
       "      <td>0</td>\n",
       "      <td>1</td>\n",
       "    </tr>\n",
       "  </tbody>\n",
       "</table>\n",
       "<p>107724 rows × 7 columns</p>\n",
       "</div>"
      ],
      "text/plain": [
       "            dttl  attack_cat-Generic  attack_cat-DoS  \\\n",
       "0       1.141270                   0               0   \n",
       "1       1.124031                   0               0   \n",
       "2       1.124031                   0               0   \n",
       "3       1.124031                   0               0   \n",
       "4       1.124031                   0               0   \n",
       "...          ...                 ...             ...   \n",
       "175267  1.124031                   0               0   \n",
       "175277  1.124031                   0               0   \n",
       "175299  1.124031                   0               0   \n",
       "175305  1.124031                   0               0   \n",
       "175337  1.124031                   0               0   \n",
       "\n",
       "        attack_cat-Reconnaissance  attack_cat-Fuzzers  attack_cat-Exploits  \\\n",
       "0                               0                   0                    0   \n",
       "1                               0                   0                    0   \n",
       "2                               0                   0                    0   \n",
       "3                               0                   0                    0   \n",
       "4                               0                   0                    0   \n",
       "...                           ...                 ...                  ...   \n",
       "175267                          0                   0                    1   \n",
       "175277                          0                   0                    1   \n",
       "175299                          0                   0                    1   \n",
       "175305                          0                   0                    1   \n",
       "175337                          0                   0                    0   \n",
       "\n",
       "        label  \n",
       "0           0  \n",
       "1           0  \n",
       "2           0  \n",
       "3           0  \n",
       "4           0  \n",
       "...       ...  \n",
       "175267      1  \n",
       "175277      1  \n",
       "175299      1  \n",
       "175305      1  \n",
       "175337      1  \n",
       "\n",
       "[107724 rows x 7 columns]"
      ]
     },
     "execution_count": 59,
     "metadata": {},
     "output_type": "execute_result"
    }
   ],
   "source": [
    "y_feature=trainData_dup_copy[\"label\"]\n",
    "finalFeatures_train=finalFeatures.tolist()\n",
    "finalFeatures_train = pd.DataFrame(columns = finalFeatures_train) \n",
    "#print(testData_top_20) \n",
    "for col in finalFeatures_train:\n",
    "    #df[col].values()+=trainData[col].values()\n",
    "    finalFeatures_train[col]=trainData_dup_copy[col]\n",
    "finalFeatures_train = pd.concat([finalFeatures_train, y_feature], axis=1)\n",
    "finalFeatures_train\n"
   ]
  },
  {
   "cell_type": "code",
   "execution_count": 60,
   "metadata": {},
   "outputs": [
    {
     "data": {
      "text/plain": [
       "(107724, 6)"
      ]
     },
     "execution_count": 60,
     "metadata": {},
     "output_type": "execute_result"
    }
   ],
   "source": [
    "label = encode_text_index(finalFeatures_train,\"label\")\n",
    "x_imp,y_imp=to_xy(finalFeatures_train,\"label\")\n",
    "x_imp.shape"
   ]
  },
  {
   "cell_type": "code",
   "execution_count": 61,
   "metadata": {},
   "outputs": [
    {
     "data": {
      "text/html": [
       "<div>\n",
       "<style scoped>\n",
       "    .dataframe tbody tr th:only-of-type {\n",
       "        vertical-align: middle;\n",
       "    }\n",
       "\n",
       "    .dataframe tbody tr th {\n",
       "        vertical-align: top;\n",
       "    }\n",
       "\n",
       "    .dataframe thead th {\n",
       "        text-align: right;\n",
       "    }\n",
       "</style>\n",
       "<table border=\"1\" class=\"dataframe\">\n",
       "  <thead>\n",
       "    <tr style=\"text-align: right;\">\n",
       "      <th></th>\n",
       "      <th>dttl</th>\n",
       "      <th>attack_cat-Generic</th>\n",
       "      <th>attack_cat-DoS</th>\n",
       "      <th>attack_cat-Reconnaissance</th>\n",
       "      <th>attack_cat-Fuzzers</th>\n",
       "      <th>attack_cat-Exploits</th>\n",
       "      <th>label</th>\n",
       "    </tr>\n",
       "  </thead>\n",
       "  <tbody>\n",
       "    <tr>\n",
       "      <th>0</th>\n",
       "      <td>-1.048127</td>\n",
       "      <td>0</td>\n",
       "      <td>0</td>\n",
       "      <td>0</td>\n",
       "      <td>0</td>\n",
       "      <td>0</td>\n",
       "      <td>0</td>\n",
       "    </tr>\n",
       "    <tr>\n",
       "      <th>1</th>\n",
       "      <td>-1.048127</td>\n",
       "      <td>0</td>\n",
       "      <td>0</td>\n",
       "      <td>0</td>\n",
       "      <td>0</td>\n",
       "      <td>0</td>\n",
       "      <td>0</td>\n",
       "    </tr>\n",
       "    <tr>\n",
       "      <th>2</th>\n",
       "      <td>-1.048127</td>\n",
       "      <td>0</td>\n",
       "      <td>0</td>\n",
       "      <td>0</td>\n",
       "      <td>0</td>\n",
       "      <td>0</td>\n",
       "      <td>0</td>\n",
       "    </tr>\n",
       "    <tr>\n",
       "      <th>3</th>\n",
       "      <td>-1.048127</td>\n",
       "      <td>0</td>\n",
       "      <td>0</td>\n",
       "      <td>0</td>\n",
       "      <td>0</td>\n",
       "      <td>0</td>\n",
       "      <td>0</td>\n",
       "    </tr>\n",
       "    <tr>\n",
       "      <th>4</th>\n",
       "      <td>-1.048127</td>\n",
       "      <td>0</td>\n",
       "      <td>0</td>\n",
       "      <td>0</td>\n",
       "      <td>0</td>\n",
       "      <td>0</td>\n",
       "      <td>0</td>\n",
       "    </tr>\n",
       "    <tr>\n",
       "      <th>...</th>\n",
       "      <td>...</td>\n",
       "      <td>...</td>\n",
       "      <td>...</td>\n",
       "      <td>...</td>\n",
       "      <td>...</td>\n",
       "      <td>...</td>\n",
       "      <td>...</td>\n",
       "    </tr>\n",
       "    <tr>\n",
       "      <th>82319</th>\n",
       "      <td>1.124031</td>\n",
       "      <td>0</td>\n",
       "      <td>0</td>\n",
       "      <td>0</td>\n",
       "      <td>0</td>\n",
       "      <td>0</td>\n",
       "      <td>0</td>\n",
       "    </tr>\n",
       "    <tr>\n",
       "      <th>82322</th>\n",
       "      <td>-1.048127</td>\n",
       "      <td>0</td>\n",
       "      <td>0</td>\n",
       "      <td>0</td>\n",
       "      <td>0</td>\n",
       "      <td>0</td>\n",
       "      <td>0</td>\n",
       "    </tr>\n",
       "    <tr>\n",
       "      <th>82323</th>\n",
       "      <td>1.124031</td>\n",
       "      <td>0</td>\n",
       "      <td>0</td>\n",
       "      <td>0</td>\n",
       "      <td>0</td>\n",
       "      <td>0</td>\n",
       "      <td>0</td>\n",
       "    </tr>\n",
       "    <tr>\n",
       "      <th>82327</th>\n",
       "      <td>-1.048127</td>\n",
       "      <td>0</td>\n",
       "      <td>0</td>\n",
       "      <td>0</td>\n",
       "      <td>0</td>\n",
       "      <td>0</td>\n",
       "      <td>0</td>\n",
       "    </tr>\n",
       "    <tr>\n",
       "      <th>82328</th>\n",
       "      <td>1.124031</td>\n",
       "      <td>0</td>\n",
       "      <td>0</td>\n",
       "      <td>0</td>\n",
       "      <td>0</td>\n",
       "      <td>0</td>\n",
       "      <td>0</td>\n",
       "    </tr>\n",
       "  </tbody>\n",
       "</table>\n",
       "<p>55940 rows × 7 columns</p>\n",
       "</div>"
      ],
      "text/plain": [
       "           dttl  attack_cat-Generic  attack_cat-DoS  \\\n",
       "0     -1.048127                   0               0   \n",
       "1     -1.048127                   0               0   \n",
       "2     -1.048127                   0               0   \n",
       "3     -1.048127                   0               0   \n",
       "4     -1.048127                   0               0   \n",
       "...         ...                 ...             ...   \n",
       "82319  1.124031                   0               0   \n",
       "82322 -1.048127                   0               0   \n",
       "82323  1.124031                   0               0   \n",
       "82327 -1.048127                   0               0   \n",
       "82328  1.124031                   0               0   \n",
       "\n",
       "       attack_cat-Reconnaissance  attack_cat-Fuzzers  attack_cat-Exploits  \\\n",
       "0                              0                   0                    0   \n",
       "1                              0                   0                    0   \n",
       "2                              0                   0                    0   \n",
       "3                              0                   0                    0   \n",
       "4                              0                   0                    0   \n",
       "...                          ...                 ...                  ...   \n",
       "82319                          0                   0                    0   \n",
       "82322                          0                   0                    0   \n",
       "82323                          0                   0                    0   \n",
       "82327                          0                   0                    0   \n",
       "82328                          0                   0                    0   \n",
       "\n",
       "       label  \n",
       "0          0  \n",
       "1          0  \n",
       "2          0  \n",
       "3          0  \n",
       "4          0  \n",
       "...      ...  \n",
       "82319      0  \n",
       "82322      0  \n",
       "82323      0  \n",
       "82327      0  \n",
       "82328      0  \n",
       "\n",
       "[55940 rows x 7 columns]"
      ]
     },
     "execution_count": 61,
     "metadata": {},
     "output_type": "execute_result"
    }
   ],
   "source": [
    "y_test_feature=testData_dup_copy[\"label\"]\n",
    "finalFeatures_test=finalFeatures.tolist()\n",
    "finalFeatures_test = pd.DataFrame(columns = finalFeatures) \n",
    "#print(testData_top_20) \n",
    "for col in finalFeatures_test:\n",
    "    #df[col].values()+=trainData[col].values()\n",
    "    finalFeatures_test[col]=testData_dup_copy[col]\n",
    "finalFeatures_test = pd.concat([finalFeatures_test, y_test_feature], axis=1)\n",
    "finalFeatures_test"
   ]
  },
  {
   "cell_type": "code",
   "execution_count": 62,
   "metadata": {},
   "outputs": [],
   "source": [
    "label = encode_text_index(finalFeatures_test,\"label\")\n",
    "x_test_imp,y_test_imp=to_xy(finalFeatures_test,\"label\")"
   ]
  },
  {
   "cell_type": "code",
   "execution_count": 63,
   "metadata": {},
   "outputs": [
    {
     "name": "stdout",
     "output_type": "stream",
     "text": [
      "Epoch 1/10\n",
      "3367/3367 - 3s - loss: 0.1226\n",
      "Epoch 2/10\n",
      "3367/3367 - 3s - loss: 0.0851\n",
      "Epoch 3/10\n",
      "3367/3367 - 3s - loss: 0.0843\n",
      "Epoch 4/10\n",
      "3367/3367 - 4s - loss: 0.0835\n",
      "Epoch 5/10\n",
      "3367/3367 - 5s - loss: 0.0831\n",
      "Epoch 6/10\n",
      "3367/3367 - 5s - loss: 0.0819\n",
      "Epoch 7/10\n",
      "3367/3367 - 3s - loss: 0.0819\n",
      "Epoch 8/10\n",
      "3367/3367 - 3s - loss: 0.0818\n",
      "Epoch 9/10\n",
      "3367/3367 - 3s - loss: 0.0818\n",
      "Epoch 10/10\n",
      "3367/3367 - 3s - loss: 0.0816\n",
      "Epoch 1/10\n",
      "\n",
      "Epoch 00001: val_loss improved from inf to 0.10075, saving model to weight12.hdf5\n",
      "3367/3367 - 4s - loss: 0.0816 - val_loss: 0.1008\n",
      "Epoch 2/10\n",
      "\n",
      "Epoch 00002: val_loss did not improve from 0.10075\n",
      "3367/3367 - 4s - loss: 0.0815 - val_loss: 0.1038\n",
      "Epoch 3/10\n",
      "\n",
      "Epoch 00003: val_loss did not improve from 0.10075\n",
      "3367/3367 - 4s - loss: 0.0813 - val_loss: 0.1017\n",
      "Epoch 00003: early stopping\n"
     ]
    }
   ],
   "source": [
    "from tensorflow.keras.layers import Dense, Activation\n",
    "from tensorflow.keras.callbacks import EarlyStopping\n",
    "from tensorflow.keras.callbacks import ModelCheckpoint\n",
    "filepath='weight12.hdf5'\n",
    "model = Sequential()\n",
    "model.add(Dense(50, input_dim=x_imp.shape[1], activation='relu')) # Hidden 1\n",
    "model.add(Dense(25, activation='relu')) # Hidden 2\n",
    "model.add(Dense(y_imp.shape[1], activation='sigmoid')) # Output\n",
    "\n",
    "model.compile(loss='binary_crossentropy', optimizer='adam')\n",
    "\n",
    "model.fit(x_imp,y_imp,verbose=2,epochs=10)\n",
    "\n",
    "monitor = EarlyStopping(monitor='val_loss', min_delta=1e-3, patience=2, verbose=2, mode='min')  \n",
    "checkpointer = ModelCheckpoint(filepath, verbose=1, save_best_only=True) # save best model\n",
    "\n",
    "model.fit(x_imp, y_imp, validation_data=(x_test_imp,y_test_imp), callbacks=[monitor, checkpointer], verbose=2, epochs=10)  \n",
    "\n",
    "model.load_weights(filepath)"
   ]
  },
  {
   "cell_type": "code",
   "execution_count": 64,
   "metadata": {},
   "outputs": [
    {
     "data": {
      "text/plain": [
       "array([[0.5365504 , 0.46367303],\n",
       "       [0.5365504 , 0.46367303],\n",
       "       [0.5365504 , 0.46367303],\n",
       "       ...,\n",
       "       [0.8939312 , 0.10718036],\n",
       "       [0.5365504 , 0.46367303],\n",
       "       [0.8939312 , 0.10718036]], dtype=float32)"
      ]
     },
     "execution_count": 64,
     "metadata": {},
     "output_type": "execute_result"
    }
   ],
   "source": [
    "pred_nn_imp = model.predict(x_test_imp)\n",
    "pred_nn_imp"
   ]
  },
  {
   "cell_type": "code",
   "execution_count": 65,
   "metadata": {},
   "outputs": [
    {
     "name": "stdout",
     "output_type": "stream",
     "text": [
      "              precision    recall  f1-score   support\n",
      "\n",
      "           0       0.97      1.00      0.98     34204\n",
      "           1       1.00      0.94      0.97     21736\n",
      "\n",
      "    accuracy                           0.98     55940\n",
      "   macro avg       0.98      0.97      0.98     55940\n",
      "weighted avg       0.98      0.98      0.98     55940\n",
      "\n"
     ]
    }
   ],
   "source": [
    "pred_nn1_imp = np.argmax(pred_nn_imp,axis=1)\n",
    "y_true= np.argmax(y_test_imp,axis=1) \n",
    "from sklearn import metrics\n",
    "print(metrics.classification_report(y_true, pred_nn1_imp))"
   ]
  },
  {
   "cell_type": "code",
   "execution_count": 66,
   "metadata": {},
   "outputs": [
    {
     "name": "stdout",
     "output_type": "stream",
     "text": [
      "[[34204     0]\n",
      " [ 1214 20522]]\n",
      "Plotting confusion matrix\n"
     ]
    },
    {
     "data": {
      "image/png": "[encoded data removed]",
      "text/plain": [
       "<Figure size 432x288 with 2 Axes>"
      ]
     },
     "metadata": {
      "needs_background": "light"
     },
     "output_type": "display_data"
    }
   ],
   "source": [
    "cm = confusion_matrix(y_true, pred_nn1_imp)\n",
    "print(cm)\n",
    "\n",
    "print('Plotting confusion matrix')\n",
    "plt.figure()\n",
    "plot_confusion_matrix(cm, label)\n",
    "plt.show()"
   ]
  },
  {
   "cell_type": "code",
   "execution_count": 67,
   "metadata": {},
   "outputs": [
    {
     "data": {
      "image/png": "[encoded data removed]",
      "text/plain": [
       "<Figure size 432x288 with 1 Axes>"
      ]
     },
     "metadata": {
      "needs_background": "light"
     },
     "output_type": "display_data"
    },
    {
     "name": "stdout",
     "output_type": "stream",
     "text": [
      "None\n"
     ]
    }
   ],
   "source": [
    "print(plot_roc(pred_nn1_imp,y_true))"
   ]
  },
  {
   "cell_type": "markdown",
   "metadata": {},
   "source": [
    "# Activation = relu and Optimizer = sgd"
   ]
  },
  {
   "cell_type": "code",
   "execution_count": 68,
   "metadata": {},
   "outputs": [
    {
     "name": "stdout",
     "output_type": "stream",
     "text": [
      "Epoch 1/10\n",
      "3367/3367 - 3s - loss: 0.1505\n",
      "Epoch 2/10\n",
      "3367/3367 - 3s - loss: 0.0047\n",
      "Epoch 3/10\n",
      "3367/3367 - 3s - loss: 0.0019\n",
      "Epoch 4/10\n",
      "3367/3367 - 3s - loss: 0.0011\n",
      "Epoch 5/10\n",
      "3367/3367 - 3s - loss: 7.8381e-04\n",
      "Epoch 6/10\n",
      "3367/3367 - 3s - loss: 5.9337e-04\n",
      "Epoch 7/10\n",
      "3367/3367 - 3s - loss: 4.7041e-04\n",
      "Epoch 8/10\n",
      "3367/3367 - 3s - loss: 3.8778e-04\n",
      "Epoch 9/10\n",
      "3367/3367 - 3s - loss: 3.2702e-04\n",
      "Epoch 10/10\n",
      "3367/3367 - 3s - loss: 2.8008e-04\n",
      "Epoch 1/10\n",
      "3367/3367 - 4s - loss: 2.4335e-04 - val_loss: 4.6013e-04\n",
      "Epoch 2/10\n",
      "3367/3367 - 4s - loss: 2.1532e-04 - val_loss: 4.0799e-04\n",
      "Epoch 3/10\n",
      "3367/3367 - 4s - loss: 1.9171e-04 - val_loss: 3.6733e-04\n",
      "Epoch 00003: early stopping\n"
     ]
    }
   ],
   "source": [
    "model = Sequential()\n",
    "model.add(Dense(50, input_dim=x.shape[1], activation='relu')) # Hidden 1\n",
    "model.add(Dense(25, activation='relu')) # Hidden 2\n",
    "model.add(Dense(y.shape[1], activation='sigmoid')) # Output\n",
    "\n",
    "model.compile(loss='binary_crossentropy', optimizer='sgd')\n",
    "\n",
    "model.fit(x,y,verbose=2,epochs=10)\n",
    "\n",
    "monitor = EarlyStopping(monitor='val_loss', min_delta=1e-3, patience=2, verbose=2, mode='auto')  \n",
    "checkpointer = ModelCheckpoint(filepath=\"best_weights21.hdf5\", verbose=0, save_best_only=True) # save best model\n",
    "\n",
    "model.fit(x, y, validation_data=(x_test,y_test), callbacks=[monitor, checkpointer], verbose=2, epochs=10)  \n",
    "\n",
    "model.load_weights('best_weights21.hdf5')"
   ]
  },
  {
   "cell_type": "code",
   "execution_count": 69,
   "metadata": {},
   "outputs": [
    {
     "data": {
      "text/plain": [
       "array([[9.9865687e-01, 1.0364652e-03],\n",
       "       [9.9914616e-01, 7.5209141e-04],\n",
       "       [9.9925804e-01, 6.2456727e-04],\n",
       "       ...,\n",
       "       [9.9968427e-01, 5.8022141e-04],\n",
       "       [9.9741614e-01, 1.9268692e-03],\n",
       "       [9.9981833e-01, 2.8631091e-04]], dtype=float32)"
      ]
     },
     "execution_count": 69,
     "metadata": {},
     "output_type": "execute_result"
    }
   ],
   "source": [
    "pred_nn = model.predict(x_test)\n",
    "pred_nn"
   ]
  },
  {
   "cell_type": "code",
   "execution_count": 70,
   "metadata": {},
   "outputs": [
    {
     "name": "stdout",
     "output_type": "stream",
     "text": [
      "              precision    recall  f1-score   support\n",
      "\n",
      "           0       1.00      1.00      1.00     34204\n",
      "           1       1.00      1.00      1.00     21736\n",
      "\n",
      "    accuracy                           1.00     55940\n",
      "   macro avg       1.00      1.00      1.00     55940\n",
      "weighted avg       1.00      1.00      1.00     55940\n",
      "\n"
     ]
    }
   ],
   "source": [
    "pred_nn2 = np.argmax(pred_nn,axis=1)\n",
    "y_true= np.argmax(y_test,axis=1) \n",
    "from sklearn import metrics\n",
    "print(metrics.classification_report(y_true, pred_nn2))"
   ]
  },
  {
   "cell_type": "code",
   "execution_count": 71,
   "metadata": {},
   "outputs": [
    {
     "name": "stdout",
     "output_type": "stream",
     "text": [
      "[[34204     0]\n",
      " [    0 21736]]\n",
      "Plotting confusion matrix\n"
     ]
    },
    {
     "data": {
      "image/png": "[encoded data removed]",
      "text/plain": [
       "<Figure size 432x288 with 2 Axes>"
      ]
     },
     "metadata": {
      "needs_background": "light"
     },
     "output_type": "display_data"
    }
   ],
   "source": [
    "cm = confusion_matrix(y_true, pred_nn2)\n",
    "print(cm)\n",
    "\n",
    "print('Plotting confusion matrix')\n",
    "plt.figure()\n",
    "plot_confusion_matrix(cm, label)\n",
    "plt.show()"
   ]
  },
  {
   "cell_type": "code",
   "execution_count": 72,
   "metadata": {},
   "outputs": [
    {
     "data": {
      "image/png": "[encoded data removed]",
      "text/plain": [
       "<Figure size 432x288 with 1 Axes>"
      ]
     },
     "metadata": {
      "needs_background": "light"
     },
     "output_type": "display_data"
    },
    {
     "name": "stdout",
     "output_type": "stream",
     "text": [
      "None\n"
     ]
    }
   ],
   "source": [
    "print(plot_roc(pred_nn2,y_true))"
   ]
  },
  {
   "cell_type": "markdown",
   "metadata": {},
   "source": [
    "# Activation = relu and Optimizer = sgd with important features from Logistic Regression"
   ]
  },
  {
   "cell_type": "code",
   "execution_count": 73,
   "metadata": {},
   "outputs": [
    {
     "name": "stdout",
     "output_type": "stream",
     "text": [
      "Epoch 1/10\n",
      "3367/3367 - 3s - loss: 0.3868\n",
      "Epoch 2/10\n",
      "3367/3367 - 3s - loss: 0.1408\n",
      "Epoch 3/10\n",
      "3367/3367 - 3s - loss: 0.1197\n",
      "Epoch 4/10\n",
      "3367/3367 - 3s - loss: 0.1024\n",
      "Epoch 5/10\n",
      "3367/3367 - 3s - loss: 0.0916\n",
      "Epoch 6/10\n",
      "3367/3367 - 3s - loss: 0.0870\n",
      "Epoch 7/10\n",
      "3367/3367 - 3s - loss: 0.0851\n",
      "Epoch 8/10\n",
      "3367/3367 - 3s - loss: 0.0844\n",
      "Epoch 9/10\n",
      "3367/3367 - 3s - loss: 0.0842\n",
      "Epoch 10/10\n",
      "3367/3367 - 3s - loss: 0.0839\n",
      "Epoch 1/10\n",
      "3367/3367 - 4s - loss: 0.0838 - val_loss: 0.0999\n",
      "Epoch 2/10\n",
      "3367/3367 - 4s - loss: 0.0837 - val_loss: 0.1058\n",
      "Epoch 3/10\n",
      "3367/3367 - 4s - loss: 0.0837 - val_loss: 0.1095\n",
      "Epoch 00003: early stopping\n"
     ]
    }
   ],
   "source": [
    "model = Sequential()\n",
    "model.add(Dense(50, input_dim=x_imp.shape[1], activation='relu')) # Hidden 1\n",
    "model.add(Dense(25, activation='relu')) # Hidden 2\n",
    "model.add(Dense(y_imp.shape[1], activation='sigmoid')) # Output\n",
    "\n",
    "model.compile(loss='binary_crossentropy', optimizer='sgd')\n",
    "\n",
    "model.fit(x_imp,y_imp,verbose=2,epochs=10)\n",
    "\n",
    "monitor = EarlyStopping(monitor='val_loss', min_delta=1e-3, patience=2, verbose=2, mode='auto')  \n",
    "checkpointer = ModelCheckpoint(filepath=\"best_weights22.hdf5\", verbose=0, save_best_only=True) # save best model\n",
    "\n",
    "model.fit(x_imp, y_imp, validation_data=(x_test_imp,y_test_imp), callbacks=[monitor,checkpointer], verbose=2, epochs=10)  \n",
    "\n",
    "model.load_weights('best_weights22.hdf5')"
   ]
  },
  {
   "cell_type": "code",
   "execution_count": 74,
   "metadata": {},
   "outputs": [
    {
     "data": {
      "text/plain": [
       "array([[0.56067675, 0.43970126],\n",
       "       [0.56067675, 0.43970126],\n",
       "       [0.56067675, 0.43970126],\n",
       "       ...,\n",
       "       [0.8907074 , 0.10921133],\n",
       "       [0.56067675, 0.43970126],\n",
       "       [0.8907074 , 0.10921133]], dtype=float32)"
      ]
     },
     "execution_count": 74,
     "metadata": {},
     "output_type": "execute_result"
    }
   ],
   "source": [
    "pred_nn_imp = model.predict(x_test_imp)\n",
    "pred_nn_imp"
   ]
  },
  {
   "cell_type": "code",
   "execution_count": 75,
   "metadata": {},
   "outputs": [
    {
     "name": "stdout",
     "output_type": "stream",
     "text": [
      "              precision    recall  f1-score   support\n",
      "\n",
      "           0       0.97      1.00      0.98     34204\n",
      "           1       1.00      0.94      0.97     21736\n",
      "\n",
      "    accuracy                           0.98     55940\n",
      "   macro avg       0.98      0.97      0.98     55940\n",
      "weighted avg       0.98      0.98      0.98     55940\n",
      "\n"
     ]
    }
   ],
   "source": [
    "pred_nn2_imp = np.argmax(pred_nn_imp,axis=1)\n",
    "y_true= np.argmax(y_test_imp,axis=1) \n",
    "from sklearn import metrics\n",
    "print(metrics.classification_report(y_true, pred_nn2_imp))"
   ]
  },
  {
   "cell_type": "code",
   "execution_count": 76,
   "metadata": {},
   "outputs": [
    {
     "name": "stdout",
     "output_type": "stream",
     "text": [
      "[[34204     0]\n",
      " [ 1214 20522]]\n",
      "Plotting confusion matrix\n"
     ]
    },
    {
     "data": {
      "image/png": "[encoded data removed]",
      "text/plain": [
       "<Figure size 432x288 with 2 Axes>"
      ]
     },
     "metadata": {
      "needs_background": "light"
     },
     "output_type": "display_data"
    }
   ],
   "source": [
    "cm = confusion_matrix(y_true, pred_nn2_imp)\n",
    "print(cm)\n",
    "\n",
    "print('Plotting confusion matrix')\n",
    "plt.figure()\n",
    "plot_confusion_matrix(cm, label)\n",
    "plt.show()"
   ]
  },
  {
   "cell_type": "code",
   "execution_count": 77,
   "metadata": {},
   "outputs": [
    {
     "data": {
      "image/png": "[encoded data removed]",
      "text/plain": [
       "<Figure size 432x288 with 1 Axes>"
      ]
     },
     "metadata": {
      "needs_background": "light"
     },
     "output_type": "display_data"
    },
    {
     "name": "stdout",
     "output_type": "stream",
     "text": [
      "None\n"
     ]
    }
   ],
   "source": [
    "print(plot_roc(pred_nn2_imp,y_true))"
   ]
  },
  {
   "cell_type": "markdown",
   "metadata": {},
   "source": [
    "# Activation = tanh and Optimizer = adam"
   ]
  },
  {
   "cell_type": "code",
   "execution_count": 78,
   "metadata": {},
   "outputs": [
    {
     "name": "stdout",
     "output_type": "stream",
     "text": [
      "Epoch 1/10\n",
      "3367/3367 - 3s - loss: 0.0153\n",
      "Epoch 2/10\n",
      "3367/3367 - 3s - loss: 3.8049e-04\n",
      "Epoch 3/10\n",
      "3367/3367 - 3s - loss: 5.3585e-04\n",
      "Epoch 4/10\n",
      "3367/3367 - 3s - loss: 3.9303e-05\n",
      "Epoch 5/10\n",
      "3367/3367 - 3s - loss: 3.0733e-06\n",
      "Epoch 6/10\n",
      "3367/3367 - 4s - loss: 5.7401e-07\n",
      "Epoch 7/10\n",
      "3367/3367 - 3s - loss: 1.0958e-07\n",
      "Epoch 8/10\n",
      "3367/3367 - 4s - loss: 2.3690e-08\n",
      "Epoch 9/10\n",
      "3367/3367 - 3s - loss: 8.6944e-09\n",
      "Epoch 10/10\n",
      "3367/3367 - 3s - loss: 3.8260e-09\n",
      "Epoch 1/10\n",
      "3367/3367 - 5s - loss: 2.2377e-09 - val_loss: 1.1033e-04\n",
      "Epoch 2/10\n",
      "3367/3367 - 5s - loss: 1.5666e-09 - val_loss: 1.0633e-04\n",
      "Epoch 3/10\n",
      "3367/3367 - 5s - loss: 1.2077e-09 - val_loss: 1.0829e-04\n",
      "Epoch 00003: early stopping\n"
     ]
    }
   ],
   "source": [
    "from tensorflow.keras.layers import Dense, Activation\n",
    "from tensorflow.keras.callbacks import EarlyStopping\n",
    "from tensorflow.keras.callbacks import ModelCheckpoint\n",
    "model = Sequential()\n",
    "model.add(Dense(50, input_dim=x.shape[1], activation='tanh')) # Hidden 1\n",
    "model.add(Dense(25, activation='tanh')) # Hidden 2\n",
    "model.add(Dense(y.shape[1], activation='sigmoid')) # Output\n",
    "\n",
    "model.compile(loss='binary_crossentropy', optimizer='adam')\n",
    "\n",
    "model.fit(x,y,verbose=2,epochs=10)\n",
    "\n",
    "monitor = EarlyStopping(monitor='val_loss', min_delta=1e-3, patience=2, verbose=2, mode='auto')  \n",
    "checkpointer = ModelCheckpoint(filepath=\"best_weights31.hdf5\", verbose=0, save_best_only=True) # save best model\n",
    "\n",
    "model.fit(x, y, validation_data=(x_test,y_test), callbacks=[monitor,checkpointer], verbose=2, epochs=10)  \n",
    "\n",
    "model.load_weights('best_weights31.hdf5')\n"
   ]
  },
  {
   "cell_type": "code",
   "execution_count": 79,
   "metadata": {},
   "outputs": [
    {
     "data": {
      "text/plain": [
       "array([[1.0000000e+00, 1.3291979e-09],\n",
       "       [1.0000000e+00, 1.3782904e-09],\n",
       "       [1.0000000e+00, 1.3760340e-09],\n",
       "       ...,\n",
       "       [1.0000000e+00, 1.5350652e-09],\n",
       "       [1.0000000e+00, 1.3478294e-09],\n",
       "       [1.0000000e+00, 1.3852535e-09]], dtype=float32)"
      ]
     },
     "execution_count": 79,
     "metadata": {},
     "output_type": "execute_result"
    }
   ],
   "source": [
    "pred_nn = model.predict(x_test)\n",
    "pred_nn"
   ]
  },
  {
   "cell_type": "code",
   "execution_count": 80,
   "metadata": {},
   "outputs": [
    {
     "name": "stdout",
     "output_type": "stream",
     "text": [
      "              precision    recall  f1-score   support\n",
      "\n",
      "           0       1.00      1.00      1.00     34204\n",
      "           1       1.00      1.00      1.00     21736\n",
      "\n",
      "    accuracy                           1.00     55940\n",
      "   macro avg       1.00      1.00      1.00     55940\n",
      "weighted avg       1.00      1.00      1.00     55940\n",
      "\n"
     ]
    }
   ],
   "source": [
    "pred_nn3 = np.argmax(pred_nn,axis=1)\n",
    "y_true= np.argmax(y_test,axis=1) \n",
    "from sklearn import metrics\n",
    "print(metrics.classification_report(y_true, pred_nn3))"
   ]
  },
  {
   "cell_type": "code",
   "execution_count": 81,
   "metadata": {},
   "outputs": [
    {
     "name": "stdout",
     "output_type": "stream",
     "text": [
      "[[34204     0]\n",
      " [    1 21735]]\n",
      "Plotting confusion matrix\n"
     ]
    },
    {
     "data": {
      "image/png": "[encoded data removed]",
      "text/plain": [
       "<Figure size 432x288 with 2 Axes>"
      ]
     },
     "metadata": {
      "needs_background": "light"
     },
     "output_type": "display_data"
    }
   ],
   "source": [
    "cm = confusion_matrix(y_true, pred_nn3)\n",
    "print(cm)\n",
    "print('Plotting confusion matrix')\n",
    "plt.figure()\n",
    "plot_confusion_matrix(cm, label)\n",
    "plt.show()"
   ]
  },
  {
   "cell_type": "code",
   "execution_count": 82,
   "metadata": {},
   "outputs": [
    {
     "data": {
      "image/png": "[encoded data removed]",
      "text/plain": [
       "<Figure size 432x288 with 1 Axes>"
      ]
     },
     "metadata": {
      "needs_background": "light"
     },
     "output_type": "display_data"
    },
    {
     "name": "stdout",
     "output_type": "stream",
     "text": [
      "None\n"
     ]
    }
   ],
   "source": [
    "print(plot_roc(pred_nn3,y_true))"
   ]
  },
  {
   "cell_type": "markdown",
   "metadata": {},
   "source": [
    "# Activation = tanh and Optimizer = adam with important features from Logistic Regression"
   ]
  },
  {
   "cell_type": "code",
   "execution_count": 83,
   "metadata": {},
   "outputs": [
    {
     "name": "stdout",
     "output_type": "stream",
     "text": [
      "Epoch 1/10\n",
      "3367/3367 - 3s - loss: 0.1340\n",
      "Epoch 2/10\n",
      "3367/3367 - 3s - loss: 0.0869\n",
      "Epoch 3/10\n",
      "3367/3367 - 3s - loss: 0.0831\n",
      "Epoch 4/10\n",
      "3367/3367 - 3s - loss: 0.0812\n",
      "Epoch 5/10\n",
      "3367/3367 - 3s - loss: 0.0806\n",
      "Epoch 6/10\n",
      "3367/3367 - 3s - loss: 0.0804\n",
      "Epoch 7/10\n",
      "3367/3367 - 3s - loss: 0.0801\n",
      "Epoch 8/10\n",
      "3367/3367 - 3s - loss: 0.0800\n",
      "Epoch 9/10\n",
      "3367/3367 - 3s - loss: 0.0798\n",
      "Epoch 10/10\n",
      "3367/3367 - 3s - loss: 0.0798\n",
      "Epoch 1/10\n",
      "3367/3367 - 4s - loss: 0.0797 - val_loss: 0.1043\n",
      "Epoch 2/10\n",
      "3367/3367 - 4s - loss: 0.0797 - val_loss: 0.1007\n",
      "Epoch 3/10\n",
      "3367/3367 - 4s - loss: 0.0797 - val_loss: 0.1035\n",
      "Epoch 4/10\n",
      "3367/3367 - 4s - loss: 0.0797 - val_loss: 0.1044\n",
      "Epoch 00004: early stopping\n"
     ]
    }
   ],
   "source": [
    "from tensorflow.keras.layers import Dense, Activation\n",
    "from tensorflow.keras.callbacks import EarlyStopping\n",
    "from tensorflow.keras.callbacks import ModelCheckpoint\n",
    "model = Sequential()\n",
    "model.add(Dense(50, input_dim=x_imp.shape[1], activation='tanh')) # Hidden 1\n",
    "model.add(Dense(25, activation='tanh')) # Hidden 2\n",
    "model.add(Dense(y_imp.shape[1], activation='sigmoid')) # Output\n",
    "\n",
    "model.compile(loss='binary_crossentropy', optimizer='adam')\n",
    "\n",
    "model.fit(x_imp,y_imp,verbose=2,epochs=10)\n",
    "\n",
    "monitor = EarlyStopping(monitor='val_loss', min_delta=1e-3, patience=2, verbose=2, mode='auto')  \n",
    "checkpointer = ModelCheckpoint(filepath=\"best_weights32.hdf5\", verbose=0, save_best_only=True) # save best model\n",
    "\n",
    "model.fit(x_imp, y_imp, validation_data=(x_test_imp,y_test_imp), callbacks=[monitor, checkpointer], verbose=2, epochs=10)  \n",
    "\n",
    "model.load_weights('best_weights32.hdf5')\n"
   ]
  },
  {
   "cell_type": "code",
   "execution_count": 84,
   "metadata": {},
   "outputs": [
    {
     "data": {
      "text/plain": [
       "array([[0.61624694, 0.38405198],\n",
       "       [0.61624694, 0.38405198],\n",
       "       [0.61624694, 0.38405198],\n",
       "       ...,\n",
       "       [0.8571755 , 0.14304939],\n",
       "       [0.61624694, 0.38405198],\n",
       "       [0.8571755 , 0.14304939]], dtype=float32)"
      ]
     },
     "execution_count": 84,
     "metadata": {},
     "output_type": "execute_result"
    }
   ],
   "source": [
    "pred_nn_imp = model.predict(x_test_imp)\n",
    "pred_nn_imp"
   ]
  },
  {
   "cell_type": "code",
   "execution_count": 85,
   "metadata": {},
   "outputs": [
    {
     "name": "stdout",
     "output_type": "stream",
     "text": [
      "              precision    recall  f1-score   support\n",
      "\n",
      "           0       0.97      1.00      0.98     34204\n",
      "           1       1.00      0.94      0.97     21736\n",
      "\n",
      "    accuracy                           0.98     55940\n",
      "   macro avg       0.98      0.97      0.98     55940\n",
      "weighted avg       0.98      0.98      0.98     55940\n",
      "\n"
     ]
    }
   ],
   "source": [
    "pred_nn3_imp = np.argmax(pred_nn_imp,axis=1)\n",
    "y_true= np.argmax(y_test_imp,axis=1) \n",
    "from sklearn import metrics\n",
    "print(metrics.classification_report(y_true, pred_nn3_imp))"
   ]
  },
  {
   "cell_type": "code",
   "execution_count": 86,
   "metadata": {},
   "outputs": [
    {
     "name": "stdout",
     "output_type": "stream",
     "text": [
      "[[34204     0]\n",
      " [ 1214 20522]]\n",
      "Plotting confusion matrix\n"
     ]
    },
    {
     "data": {
      "image/png": "[encoded data removed]",
      "text/plain": [
       "<Figure size 432x288 with 2 Axes>"
      ]
     },
     "metadata": {
      "needs_background": "light"
     },
     "output_type": "display_data"
    }
   ],
   "source": [
    "cm = confusion_matrix(y_true, pred_nn3_imp)\n",
    "print(cm)\n",
    "print('Plotting confusion matrix')\n",
    "plt.figure()\n",
    "plot_confusion_matrix(cm, label)\n",
    "plt.show()"
   ]
  },
  {
   "cell_type": "code",
   "execution_count": 87,
   "metadata": {},
   "outputs": [
    {
     "data": {
      "image/png": "[encoded data removed]",
      "text/plain": [
       "<Figure size 432x288 with 1 Axes>"
      ]
     },
     "metadata": {
      "needs_background": "light"
     },
     "output_type": "display_data"
    },
    {
     "name": "stdout",
     "output_type": "stream",
     "text": [
      "None\n"
     ]
    }
   ],
   "source": [
    "print(plot_roc(pred_nn3_imp,y_true))"
   ]
  },
  {
   "cell_type": "markdown",
   "metadata": {},
   "source": [
    "# Activation = tanh and Optimizer = sgd"
   ]
  },
  {
   "cell_type": "code",
   "execution_count": 88,
   "metadata": {},
   "outputs": [
    {
     "name": "stdout",
     "output_type": "stream",
     "text": [
      "Epoch 1/10\n",
      "3367/3367 - 3s - loss: 0.0888\n",
      "Epoch 2/10\n",
      "3367/3367 - 3s - loss: 0.0056\n",
      "Epoch 3/10\n",
      "3367/3367 - 3s - loss: 0.0027\n",
      "Epoch 4/10\n",
      "3367/3367 - 3s - loss: 0.0017\n",
      "Epoch 5/10\n",
      "3367/3367 - 3s - loss: 0.0012\n",
      "Epoch 6/10\n",
      "3367/3367 - 3s - loss: 9.5943e-04\n",
      "Epoch 7/10\n",
      "3367/3367 - 3s - loss: 7.8161e-04\n",
      "Epoch 8/10\n",
      "3367/3367 - 3s - loss: 6.5750e-04\n",
      "Epoch 9/10\n",
      "3367/3367 - 3s - loss: 5.6580e-04\n",
      "Epoch 10/10\n",
      "3367/3367 - 3s - loss: 4.9667e-04\n",
      "Epoch 1/10\n",
      "3367/3367 - 4s - loss: 4.4166e-04 - val_loss: 6.8232e-04\n",
      "Epoch 2/10\n",
      "3367/3367 - 4s - loss: 3.9727e-04 - val_loss: 6.2544e-04\n",
      "Epoch 3/10\n",
      "3367/3367 - 4s - loss: 3.6073e-04 - val_loss: 5.7633e-04\n",
      "Epoch 00003: early stopping\n"
     ]
    }
   ],
   "source": [
    "from tensorflow.keras.layers import Dense, Activation\n",
    "from tensorflow.keras.callbacks import EarlyStopping\n",
    "from tensorflow.keras.callbacks import ModelCheckpoint\n",
    "model = Sequential()\n",
    "model.add(Dense(50, input_dim=x.shape[1], activation='tanh')) # Hidden 1\n",
    "model.add(Dense(25, activation='tanh')) # Hidden 2\n",
    "model.add(Dense(y.shape[1], activation='sigmoid')) # Output\n",
    "\n",
    "model.compile(loss='binary_crossentropy', optimizer='sgd')\n",
    "\n",
    "model.fit(x,y,verbose=2,epochs=10)\n",
    "\n",
    "monitor = EarlyStopping(monitor='val_loss', min_delta=1e-3, patience=2, verbose=2, mode='auto')  \n",
    "checkpointer = ModelCheckpoint(filepath=\"best_weights41.hdf5\", verbose=0, save_best_only=True) # save best model\n",
    "\n",
    "model.fit(x, y, validation_data=(x_test,y_test), callbacks=[monitor,checkpointer], verbose=2, epochs=10)  \n",
    "\n",
    "model.load_weights('best_weights41.hdf5')\n"
   ]
  },
  {
   "cell_type": "code",
   "execution_count": 89,
   "metadata": {},
   "outputs": [
    {
     "data": {
      "text/plain": [
       "array([[9.9870169e-01, 1.2525022e-03],\n",
       "       [9.9901360e-01, 1.2734830e-03],\n",
       "       [9.9905002e-01, 1.1682510e-03],\n",
       "       ...,\n",
       "       [9.9898291e-01, 9.3308091e-04],\n",
       "       [9.9829924e-01, 1.5846789e-03],\n",
       "       [9.9924666e-01, 6.6733360e-04]], dtype=float32)"
      ]
     },
     "execution_count": 89,
     "metadata": {},
     "output_type": "execute_result"
    }
   ],
   "source": [
    "pred_nn = model.predict(x_test)\n",
    "pred_nn"
   ]
  },
  {
   "cell_type": "code",
   "execution_count": 90,
   "metadata": {},
   "outputs": [
    {
     "name": "stdout",
     "output_type": "stream",
     "text": [
      "              precision    recall  f1-score   support\n",
      "\n",
      "           0       1.00      1.00      1.00     34204\n",
      "           1       1.00      1.00      1.00     21736\n",
      "\n",
      "    accuracy                           1.00     55940\n",
      "   macro avg       1.00      1.00      1.00     55940\n",
      "weighted avg       1.00      1.00      1.00     55940\n",
      "\n"
     ]
    }
   ],
   "source": [
    "pred_nn4 = np.argmax(pred_nn,axis=1)\n",
    "y_true= np.argmax(y_test,axis=1) \n",
    "from sklearn import metrics\n",
    "print(metrics.classification_report(y_true, pred_nn4))"
   ]
  },
  {
   "cell_type": "code",
   "execution_count": 91,
   "metadata": {},
   "outputs": [
    {
     "name": "stdout",
     "output_type": "stream",
     "text": [
      "[[34204     0]\n",
      " [    1 21735]]\n",
      "Plotting confusion matrix\n"
     ]
    },
    {
     "data": {
      "image/png": "[encoded data removed]",
      "text/plain": [
       "<Figure size 432x288 with 2 Axes>"
      ]
     },
     "metadata": {
      "needs_background": "light"
     },
     "output_type": "display_data"
    }
   ],
   "source": [
    "cm = confusion_matrix(y_true, pred_nn4)\n",
    "print(cm)\n",
    "print('Plotting confusion matrix')\n",
    "plt.figure()\n",
    "plot_confusion_matrix(cm, label)\n",
    "plt.show()"
   ]
  },
  {
   "cell_type": "code",
   "execution_count": 92,
   "metadata": {},
   "outputs": [
    {
     "data": {
      "image/png": "[encoded data removed]",
      "text/plain": [
       "<Figure size 432x288 with 1 Axes>"
      ]
     },
     "metadata": {
      "needs_background": "light"
     },
     "output_type": "display_data"
    },
    {
     "name": "stdout",
     "output_type": "stream",
     "text": [
      "None\n"
     ]
    }
   ],
   "source": [
    "print(plot_roc(pred_nn4,y_true))"
   ]
  },
  {
   "cell_type": "markdown",
   "metadata": {},
   "source": [
    "# Activation = tanh and Optimizer = sgd with important features from Logistic Regression"
   ]
  },
  {
   "cell_type": "code",
   "execution_count": 93,
   "metadata": {},
   "outputs": [
    {
     "name": "stdout",
     "output_type": "stream",
     "text": [
      "Epoch 1/10\n",
      "3367/3367 - 2s - loss: 0.2817\n",
      "Epoch 2/10\n",
      "3367/3367 - 3s - loss: 0.1449\n",
      "Epoch 3/10\n",
      "3367/3367 - 3s - loss: 0.1415\n",
      "Epoch 4/10\n",
      "3367/3367 - 3s - loss: 0.1384\n",
      "Epoch 5/10\n",
      "3367/3367 - 3s - loss: 0.1331\n",
      "Epoch 6/10\n",
      "3367/3367 - 3s - loss: 0.1258\n",
      "Epoch 7/10\n",
      "3367/3367 - 3s - loss: 0.1170\n",
      "Epoch 8/10\n",
      "3367/3367 - 3s - loss: 0.1083\n",
      "Epoch 9/10\n",
      "3367/3367 - 3s - loss: 0.1005\n",
      "Epoch 10/10\n",
      "3367/3367 - 3s - loss: 0.0949\n",
      "Epoch 1/10\n",
      "3367/3367 - 4s - loss: 0.0913 - val_loss: 0.1065\n",
      "Epoch 2/10\n",
      "3367/3367 - 4s - loss: 0.0893 - val_loss: 0.1079\n",
      "Epoch 3/10\n",
      "3367/3367 - 4s - loss: 0.0880 - val_loss: 0.0954\n",
      "Epoch 4/10\n",
      "3367/3367 - 4s - loss: 0.0872 - val_loss: 0.1040\n",
      "Epoch 5/10\n",
      "3367/3367 - 4s - loss: 0.0867 - val_loss: 0.0981\n",
      "Epoch 00005: early stopping\n"
     ]
    }
   ],
   "source": [
    "from tensorflow.keras.layers import Dense, Activation\n",
    "from tensorflow.keras.callbacks import EarlyStopping\n",
    "from tensorflow.keras.callbacks import ModelCheckpoint\n",
    "model = Sequential()\n",
    "model.add(Dense(50, input_dim=x_imp.shape[1], activation='tanh')) # Hidden 1\n",
    "model.add(Dense(25, activation='tanh')) # Hidden 2\n",
    "model.add(Dense(y_imp.shape[1], activation='sigmoid')) # Output\n",
    "\n",
    "model.compile(loss='binary_crossentropy', optimizer='sgd')\n",
    "\n",
    "model.fit(x_imp,y_imp,verbose=2,epochs=10)\n",
    "\n",
    "monitor = EarlyStopping(monitor='val_loss', min_delta=1e-3, patience=2, verbose=2, mode='auto')  \n",
    "checkpointer = ModelCheckpoint(filepath=\"best_weights42.hdf5\", verbose=0, save_best_only=True) # save best model\n",
    "\n",
    "model.fit(x_imp, y_imp, validation_data=(x_test_imp,y_test_imp), callbacks=[monitor,checkpointer], verbose=2, epochs=10)  \n",
    "\n",
    "model.load_weights('best_weights42.hdf5')\n"
   ]
  },
  {
   "cell_type": "code",
   "execution_count": 94,
   "metadata": {},
   "outputs": [
    {
     "data": {
      "text/plain": [
       "array([[0.6570659 , 0.34094   ],\n",
       "       [0.6570659 , 0.34094   ],\n",
       "       [0.6570659 , 0.34094   ],\n",
       "       ...,\n",
       "       [0.8796804 , 0.11888695],\n",
       "       [0.6570659 , 0.34094   ],\n",
       "       [0.8796804 , 0.11888695]], dtype=float32)"
      ]
     },
     "execution_count": 94,
     "metadata": {},
     "output_type": "execute_result"
    }
   ],
   "source": [
    "pred_nn_imp = model.predict(x_test_imp)\n",
    "pred_nn_imp"
   ]
  },
  {
   "cell_type": "code",
   "execution_count": 95,
   "metadata": {},
   "outputs": [
    {
     "name": "stdout",
     "output_type": "stream",
     "text": [
      "              precision    recall  f1-score   support\n",
      "\n",
      "           0       0.97      1.00      0.98     34204\n",
      "           1       1.00      0.94      0.97     21736\n",
      "\n",
      "    accuracy                           0.98     55940\n",
      "   macro avg       0.98      0.97      0.98     55940\n",
      "weighted avg       0.98      0.98      0.98     55940\n",
      "\n"
     ]
    }
   ],
   "source": [
    "pred_nn4_imp = np.argmax(pred_nn_imp,axis=1)\n",
    "y_true= np.argmax(y_test_imp,axis=1) \n",
    "from sklearn import metrics\n",
    "print(metrics.classification_report(y_true, pred_nn4_imp))"
   ]
  },
  {
   "cell_type": "code",
   "execution_count": 96,
   "metadata": {},
   "outputs": [
    {
     "name": "stdout",
     "output_type": "stream",
     "text": [
      "[[34204     0]\n",
      " [ 1214 20522]]\n",
      "Plotting confusion matrix\n"
     ]
    },
    {
     "data": {
      "image/png": "[encoded data removed]",
      "text/plain": [
       "<Figure size 432x288 with 2 Axes>"
      ]
     },
     "metadata": {
      "needs_background": "light"
     },
     "output_type": "display_data"
    }
   ],
   "source": [
    "cm = confusion_matrix(y_true, pred_nn4_imp)\n",
    "print(cm)\n",
    "print('Plotting confusion matrix')\n",
    "plt.figure()\n",
    "plot_confusion_matrix(cm, label)\n",
    "plt.show()"
   ]
  },
  {
   "cell_type": "code",
   "execution_count": 97,
   "metadata": {},
   "outputs": [
    {
     "data": {
      "image/png": "[encoded data removed]",
      "text/plain": [
       "<Figure size 432x288 with 1 Axes>"
      ]
     },
     "metadata": {
      "needs_background": "light"
     },
     "output_type": "display_data"
    },
    {
     "name": "stdout",
     "output_type": "stream",
     "text": [
      "None\n"
     ]
    }
   ],
   "source": [
    "print(plot_roc(pred_nn4_imp,y_true))"
   ]
  },
  {
   "cell_type": "markdown",
   "metadata": {},
   "source": [
    "# Activation = sigmoid and Optimizer = adam by changing layer and neuron counts "
   ]
  },
  {
   "cell_type": "code",
   "execution_count": 98,
   "metadata": {},
   "outputs": [
    {
     "name": "stdout",
     "output_type": "stream",
     "text": [
      "Epoch 1/10\n",
      "3367/3367 - 3s - loss: 0.0458\n",
      "Epoch 2/10\n",
      "3367/3367 - 3s - loss: 8.8165e-04\n",
      "Epoch 3/10\n",
      "3367/3367 - 3s - loss: 3.0060e-04\n",
      "Epoch 4/10\n",
      "3367/3367 - 3s - loss: 3.0050e-04\n",
      "Epoch 5/10\n",
      "3367/3367 - 3s - loss: 1.2815e-05\n",
      "Epoch 6/10\n",
      "3367/3367 - 3s - loss: 2.8444e-06\n",
      "Epoch 7/10\n",
      "3367/3367 - 4s - loss: 5.6743e-07\n",
      "Epoch 8/10\n",
      "3367/3367 - 4s - loss: 1.1526e-07\n",
      "Epoch 9/10\n",
      "3367/3367 - 4s - loss: 2.9720e-08\n",
      "Epoch 10/10\n",
      "3367/3367 - 3s - loss: 1.7548e-08\n",
      "Epoch 1/10\n",
      "3367/3367 - 5s - loss: 1.4794e-08 - val_loss: 1.4846e-08\n",
      "Epoch 2/10\n",
      "3367/3367 - 5s - loss: 1.3641e-08 - val_loss: 1.3726e-08\n",
      "Epoch 3/10\n",
      "3367/3367 - 5s - loss: 1.2992e-08 - val_loss: 1.3096e-08\n",
      "Epoch 00003: early stopping\n"
     ]
    }
   ],
   "source": [
    "from tensorflow.keras.layers import Dense, Activation\n",
    "from tensorflow.keras.callbacks import EarlyStopping\n",
    "from tensorflow.keras.callbacks import ModelCheckpoint\n",
    "model = Sequential()\n",
    "model.add(Dense(60, input_dim=x.shape[1], activation='sigmoid')) # Hidden 1\n",
    "model.add(Dense(30, activation='sigmoid'))# Hidden 2\n",
    "model.add(Dense(20, activation='sigmoid'))# Hidden 3\n",
    "model.add(Dense(y.shape[1], activation='sigmoid')) # Output\n",
    "\n",
    "model.compile(loss='binary_crossentropy', optimizer='adam')\n",
    "\n",
    "model.fit(x,y,verbose=2,epochs=10)\n",
    "\n",
    "monitor = EarlyStopping(monitor='val_loss', min_delta=1e-3, patience=2, verbose=2, mode='auto')  \n",
    "checkpointer = ModelCheckpoint(filepath=\"best_weights31.hdf5\", verbose=0, save_best_only=True) # save best model\n",
    "\n",
    "model.fit(x, y, validation_data=(x_test,y_test), callbacks=[monitor,checkpointer], verbose=2, epochs=10)  \n",
    "\n",
    "model.load_weights('best_weights31.hdf5')\n"
   ]
  },
  {
   "cell_type": "code",
   "execution_count": 99,
   "metadata": {},
   "outputs": [
    {
     "data": {
      "text/plain": [
       "array([[1.0000000e+00, 3.1174623e-09],\n",
       "       [1.0000000e+00, 3.2112477e-09],\n",
       "       [1.0000000e+00, 3.0685687e-09],\n",
       "       ...,\n",
       "       [1.0000000e+00, 3.3900849e-09],\n",
       "       [1.0000000e+00, 3.0481986e-09],\n",
       "       [1.0000000e+00, 3.0258909e-09]], dtype=float32)"
      ]
     },
     "execution_count": 99,
     "metadata": {},
     "output_type": "execute_result"
    }
   ],
   "source": [
    "pred_nn = model.predict(x_test)\n",
    "pred_nn"
   ]
  },
  {
   "cell_type": "code",
   "execution_count": 100,
   "metadata": {},
   "outputs": [
    {
     "name": "stdout",
     "output_type": "stream",
     "text": [
      "              precision    recall  f1-score   support\n",
      "\n",
      "           0       1.00      1.00      1.00     34204\n",
      "           1       1.00      1.00      1.00     21736\n",
      "\n",
      "    accuracy                           1.00     55940\n",
      "   macro avg       1.00      1.00      1.00     55940\n",
      "weighted avg       1.00      1.00      1.00     55940\n",
      "\n"
     ]
    }
   ],
   "source": [
    "pred_nn3 = np.argmax(pred_nn,axis=1)\n",
    "y_true= np.argmax(y_test,axis=1) \n",
    "from sklearn import metrics\n",
    "print(metrics.classification_report(y_true, pred_nn3))"
   ]
  },
  {
   "cell_type": "code",
   "execution_count": 101,
   "metadata": {},
   "outputs": [
    {
     "name": "stdout",
     "output_type": "stream",
     "text": [
      "[[34204     0]\n",
      " [    0 21736]]\n",
      "Plotting confusion matrix\n"
     ]
    },
    {
     "data": {
      "image/png": "[encoded data removed]",
      "text/plain": [
       "<Figure size 432x288 with 2 Axes>"
      ]
     },
     "metadata": {
      "needs_background": "light"
     },
     "output_type": "display_data"
    }
   ],
   "source": [
    "cm = confusion_matrix(y_true, pred_nn3)\n",
    "print(cm)\n",
    "print('Plotting confusion matrix')\n",
    "plt.figure()\n",
    "plot_confusion_matrix(cm, label)\n",
    "plt.show()"
   ]
  },
  {
   "cell_type": "code",
   "execution_count": 102,
   "metadata": {},
   "outputs": [
    {
     "data": {
      "image/png": "[encoded data removed]",
      "text/plain": [
       "<Figure size 432x288 with 1 Axes>"
      ]
     },
     "metadata": {
      "needs_background": "light"
     },
     "output_type": "display_data"
    },
    {
     "name": "stdout",
     "output_type": "stream",
     "text": [
      "None\n"
     ]
    }
   ],
   "source": [
    "print(plot_roc(pred_nn3,y_true))"
   ]
  },
  {
   "cell_type": "markdown",
   "metadata": {},
   "source": [
    "# Activation = sigmoid and Optimizer = adam with important features from Logistic Regression and by changing layer and neuron counts"
   ]
  },
  {
   "cell_type": "code",
   "execution_count": 103,
   "metadata": {},
   "outputs": [
    {
     "name": "stdout",
     "output_type": "stream",
     "text": [
      "Epoch 1/10\n",
      "3367/3367 - 2s - loss: 0.2458\n",
      "Epoch 2/10\n",
      "3367/3367 - 3s - loss: 0.1426\n",
      "Epoch 3/10\n",
      "3367/3367 - 10s - loss: 0.1419\n",
      "Epoch 4/10\n",
      "3367/3367 - 3s - loss: 0.1416\n",
      "Epoch 5/10\n",
      "3367/3367 - 3s - loss: 0.1412\n",
      "Epoch 6/10\n",
      "3367/3367 - 3s - loss: 0.1402\n",
      "Epoch 7/10\n",
      "3367/3367 - 3s - loss: 0.1380\n",
      "Epoch 8/10\n",
      "3367/3367 - 3s - loss: 0.1342\n",
      "Epoch 9/10\n",
      "3367/3367 - 3s - loss: 0.1289\n",
      "Epoch 10/10\n",
      "3367/3367 - 3s - loss: 0.1225\n",
      "Epoch 1/10\n",
      "3367/3367 - 4s - loss: 0.1157 - val_loss: 0.0969\n",
      "Epoch 2/10\n",
      "3367/3367 - 4s - loss: 0.1091 - val_loss: 0.0959\n",
      "Epoch 3/10\n",
      "3367/3367 - 4s - loss: 0.1031 - val_loss: 0.1092\n",
      "Epoch 4/10\n",
      "3367/3367 - 5s - loss: 0.0981 - val_loss: 0.0992\n",
      "Epoch 00004: early stopping\n"
     ]
    }
   ],
   "source": [
    "from tensorflow.keras.layers import Dense, Activation\n",
    "from tensorflow.keras.callbacks import EarlyStopping\n",
    "from tensorflow.keras.callbacks import ModelCheckpoint\n",
    "model = Sequential()\n",
    "model.add(Dense(40, input_dim=x_imp.shape[1], activation='sigmoid')) # Hidden 1\n",
    "model.add(Dense(y_imp.shape[1], activation='sigmoid')) # Output\n",
    "\n",
    "model.compile(loss='binary_crossentropy', optimizer='adam')\n",
    "\n",
    "model.fit(x_imp,y_imp,verbose=2,epochs=10)\n",
    "\n",
    "monitor = EarlyStopping(monitor='val_loss', min_delta=1e-3, patience=2, verbose=2, mode='auto')  \n",
    "checkpointer = ModelCheckpoint(filepath=\"best_weights32.hdf5\", verbose=0, save_best_only=True) # save best model\n",
    "\n",
    "model.fit(x_imp, y_imp, validation_data=(x_test_imp,y_test_imp), callbacks=[monitor, checkpointer], verbose=2, epochs=10)  \n",
    "\n",
    "model.load_weights('best_weights32.hdf5')\n"
   ]
  },
  {
   "cell_type": "code",
   "execution_count": 104,
   "metadata": {},
   "outputs": [
    {
     "data": {
      "text/plain": [
       "array([[0.7841356 , 0.21477813],\n",
       "       [0.7841356 , 0.21477813],\n",
       "       [0.7841356 , 0.21477813],\n",
       "       ...,\n",
       "       [0.8939578 , 0.10598227],\n",
       "       [0.7841356 , 0.21477813],\n",
       "       [0.8939578 , 0.10598227]], dtype=float32)"
      ]
     },
     "execution_count": 104,
     "metadata": {},
     "output_type": "execute_result"
    }
   ],
   "source": [
    "pred_nn_imp = model.predict(x_test_imp)\n",
    "pred_nn_imp"
   ]
  },
  {
   "cell_type": "code",
   "execution_count": 105,
   "metadata": {},
   "outputs": [
    {
     "name": "stdout",
     "output_type": "stream",
     "text": [
      "              precision    recall  f1-score   support\n",
      "\n",
      "           0       0.97      1.00      0.98     34204\n",
      "           1       1.00      0.94      0.97     21736\n",
      "\n",
      "    accuracy                           0.98     55940\n",
      "   macro avg       0.98      0.97      0.98     55940\n",
      "weighted avg       0.98      0.98      0.98     55940\n",
      "\n"
     ]
    }
   ],
   "source": [
    "pred_nn3_imp = np.argmax(pred_nn_imp,axis=1)\n",
    "y_true= np.argmax(y_test_imp,axis=1) \n",
    "from sklearn import metrics\n",
    "print(metrics.classification_report(y_true, pred_nn3_imp))"
   ]
  },
  {
   "cell_type": "code",
   "execution_count": 106,
   "metadata": {},
   "outputs": [
    {
     "name": "stdout",
     "output_type": "stream",
     "text": [
      "[[34204     0]\n",
      " [ 1214 20522]]\n",
      "Plotting confusion matrix\n"
     ]
    },
    {
     "data": {
      "image/png": "[encoded data removed]",
      "text/plain": [
       "<Figure size 432x288 with 2 Axes>"
      ]
     },
     "metadata": {
      "needs_background": "light"
     },
     "output_type": "display_data"
    }
   ],
   "source": [
    "cm = confusion_matrix(y_true, pred_nn3_imp)\n",
    "print(cm)\n",
    "print('Plotting confusion matrix')\n",
    "plt.figure()\n",
    "plot_confusion_matrix(cm, label)\n",
    "plt.show()"
   ]
  },
  {
   "cell_type": "code",
   "execution_count": 107,
   "metadata": {},
   "outputs": [
    {
     "data": {
      "image/png": "[encoded data removed]",
      "text/plain": [
       "<Figure size 432x288 with 1 Axes>"
      ]
     },
     "metadata": {
      "needs_background": "light"
     },
     "output_type": "display_data"
    },
    {
     "name": "stdout",
     "output_type": "stream",
     "text": [
      "None\n"
     ]
    }
   ],
   "source": [
    "print(plot_roc(pred_nn3_imp,y_true))"
   ]
  },
  {
   "cell_type": "markdown",
   "metadata": {},
   "source": [
    "# Activation = sigmoid and Optimizer = sgd by changing layer and neuron counts"
   ]
  },
  {
   "cell_type": "code",
   "execution_count": 108,
   "metadata": {},
   "outputs": [
    {
     "name": "stdout",
     "output_type": "stream",
     "text": [
      "Epoch 1/10\n",
      "3367/3367 - 3s - loss: 0.6543\n",
      "Epoch 2/10\n",
      "3367/3367 - 3s - loss: 0.4006\n",
      "Epoch 3/10\n",
      "3367/3367 - 3s - loss: 0.1711\n",
      "Epoch 4/10\n",
      "3367/3367 - 3s - loss: 0.0650\n",
      "Epoch 5/10\n",
      "3367/3367 - 3s - loss: 0.0326\n",
      "Epoch 6/10\n",
      "3367/3367 - 3s - loss: 0.0206\n",
      "Epoch 7/10\n",
      "3367/3367 - 5s - loss: 0.0147\n",
      "Epoch 8/10\n",
      "3367/3367 - 5s - loss: 0.0113\n",
      "Epoch 9/10\n",
      "3367/3367 - 4s - loss: 0.0091\n",
      "Epoch 10/10\n",
      "3367/3367 - 3s - loss: 0.0076\n",
      "Epoch 1/10\n",
      "3367/3367 - 4s - loss: 0.0066 - val_loss: 0.0087\n",
      "Epoch 2/10\n",
      "3367/3367 - 4s - loss: 0.0057 - val_loss: 0.0076\n",
      "Epoch 3/10\n",
      "3367/3367 - 4s - loss: 0.0051 - val_loss: 0.0067\n",
      "Epoch 4/10\n",
      "3367/3367 - 5s - loss: 0.0046 - val_loss: 0.0060\n",
      "Epoch 5/10\n",
      "3367/3367 - 6s - loss: 0.0042 - val_loss: 0.0055\n",
      "Epoch 6/10\n",
      "3367/3367 - 4s - loss: 0.0038 - val_loss: 0.0050\n",
      "Epoch 7/10\n",
      "3367/3367 - 4s - loss: 0.0035 - val_loss: 0.0046\n",
      "Epoch 8/10\n",
      "3367/3367 - 4s - loss: 0.0033 - val_loss: 0.0042\n",
      "Epoch 00008: early stopping\n"
     ]
    }
   ],
   "source": [
    "from tensorflow.keras.layers import Dense, Activation\n",
    "from tensorflow.keras.callbacks import EarlyStopping\n",
    "from tensorflow.keras.callbacks import ModelCheckpoint\n",
    "model = Sequential()\n",
    "model.add(Dense(25, input_dim=x.shape[1], activation='sigmoid')) # Hidden 1\n",
    "model.add(Dense(10, activation='sigmoid')) # Hidden 2\n",
    "model.add(Dense(y.shape[1], activation='sigmoid')) # Output\n",
    "\n",
    "model.compile(loss='binary_crossentropy', optimizer='sgd')\n",
    "\n",
    "model.fit(x,y,verbose=2,epochs=10)\n",
    "\n",
    "monitor = EarlyStopping(monitor='val_loss', min_delta=1e-3, patience=2, verbose=2, mode='auto')  \n",
    "checkpointer = ModelCheckpoint(filepath=\"best_weights31.hdf5\", verbose=0, save_best_only=True) # save best model\n",
    "\n",
    "model.fit(x, y, validation_data=(x_test,y_test), callbacks=[monitor,checkpointer], verbose=2, epochs=10)  \n",
    "\n",
    "model.load_weights('best_weights31.hdf5')"
   ]
  },
  {
   "cell_type": "code",
   "execution_count": 109,
   "metadata": {},
   "outputs": [
    {
     "data": {
      "text/plain": [
       "array([[0.98773265, 0.01212507],\n",
       "       [0.9892434 , 0.01127243],\n",
       "       [0.98904717, 0.01137617],\n",
       "       ...,\n",
       "       [0.9908709 , 0.00894725],\n",
       "       [0.98563254, 0.01424202],\n",
       "       [0.9914906 , 0.00809726]], dtype=float32)"
      ]
     },
     "execution_count": 109,
     "metadata": {},
     "output_type": "execute_result"
    }
   ],
   "source": [
    "pred_nn = model.predict(x_test)\n",
    "pred_nn"
   ]
  },
  {
   "cell_type": "code",
   "execution_count": 110,
   "metadata": {},
   "outputs": [
    {
     "name": "stdout",
     "output_type": "stream",
     "text": [
      "              precision    recall  f1-score   support\n",
      "\n",
      "           0       1.00      1.00      1.00     34204\n",
      "           1       1.00      1.00      1.00     21736\n",
      "\n",
      "    accuracy                           1.00     55940\n",
      "   macro avg       1.00      1.00      1.00     55940\n",
      "weighted avg       1.00      1.00      1.00     55940\n",
      "\n"
     ]
    }
   ],
   "source": [
    "pred_nn3 = np.argmax(pred_nn,axis=1)\n",
    "y_true= np.argmax(y_test,axis=1) \n",
    "from sklearn import metrics\n",
    "print(metrics.classification_report(y_true, pred_nn3))"
   ]
  },
  {
   "cell_type": "code",
   "execution_count": 111,
   "metadata": {},
   "outputs": [
    {
     "name": "stdout",
     "output_type": "stream",
     "text": [
      "[[34204     0]\n",
      " [    0 21736]]\n",
      "Plotting confusion matrix\n"
     ]
    },
    {
     "data": {
      "image/png": "[encoded data removed]",
      "text/plain": [
       "<Figure size 432x288 with 2 Axes>"
      ]
     },
     "metadata": {
      "needs_background": "light"
     },
     "output_type": "display_data"
    }
   ],
   "source": [
    "cm = confusion_matrix(y_true, pred_nn3)\n",
    "print(cm)\n",
    "print('Plotting confusion matrix')\n",
    "plt.figure()\n",
    "plot_confusion_matrix(cm, label)\n",
    "plt.show()"
   ]
  },
  {
   "cell_type": "code",
   "execution_count": 112,
   "metadata": {},
   "outputs": [
    {
     "data": {
      "image/png": "[encoded data removed]",
      "text/plain": [
       "<Figure size 432x288 with 1 Axes>"
      ]
     },
     "metadata": {
      "needs_background": "light"
     },
     "output_type": "display_data"
    },
    {
     "name": "stdout",
     "output_type": "stream",
     "text": [
      "None\n"
     ]
    }
   ],
   "source": [
    "print(plot_roc(pred_nn3,y_true))"
   ]
  },
  {
   "cell_type": "markdown",
   "metadata": {},
   "source": [
    "# Activation = sigmoid and Optimizer = sgd with important features from Logistic Regression and by changing layer and neuron counts"
   ]
  },
  {
   "cell_type": "code",
   "execution_count": 113,
   "metadata": {},
   "outputs": [
    {
     "name": "stdout",
     "output_type": "stream",
     "text": [
      "Epoch 1/10\n",
      "3367/3367 - 3s - loss: 0.6925\n",
      "Epoch 2/10\n",
      "3367/3367 - 3s - loss: 0.6920\n",
      "Epoch 3/10\n",
      "3367/3367 - 3s - loss: 0.6915\n",
      "Epoch 4/10\n",
      "3367/3367 - 3s - loss: 0.6909\n",
      "Epoch 5/10\n",
      "3367/3367 - 5s - loss: 0.6900\n",
      "Epoch 6/10\n",
      "3367/3367 - 3s - loss: 0.6887\n",
      "Epoch 7/10\n",
      "3367/3367 - 3s - loss: 0.6860\n",
      "Epoch 8/10\n",
      "3367/3367 - 4s - loss: 0.6802\n",
      "Epoch 9/10\n",
      "3367/3367 - 4s - loss: 0.6628\n",
      "Epoch 10/10\n",
      "3367/3367 - 3s - loss: 0.6012\n",
      "Epoch 1/10\n",
      "3367/3367 - 4s - loss: 0.5236 - val_loss: 0.6446\n",
      "Epoch 2/10\n",
      "3367/3367 - 4s - loss: 0.4493 - val_loss: 0.4704\n",
      "Epoch 3/10\n",
      "3367/3367 - 4s - loss: 0.2677 - val_loss: 0.1830\n",
      "Epoch 4/10\n",
      "3367/3367 - 4s - loss: 0.1641 - val_loss: 0.1290\n",
      "Epoch 5/10\n",
      "3367/3367 - 4s - loss: 0.1491 - val_loss: 0.1131\n",
      "Epoch 6/10\n",
      "3367/3367 - 5s - loss: 0.1458 - val_loss: 0.1072\n",
      "Epoch 7/10\n",
      "3367/3367 - 4s - loss: 0.1446 - val_loss: 0.1169\n",
      "Epoch 8/10\n",
      "3367/3367 - 4s - loss: 0.1439 - val_loss: 0.1069\n",
      "Epoch 00008: early stopping\n"
     ]
    }
   ],
   "source": [
    "from tensorflow.keras.layers import Dense, Activation\n",
    "from tensorflow.keras.callbacks import EarlyStopping\n",
    "from tensorflow.keras.callbacks import ModelCheckpoint\n",
    "model = Sequential()\n",
    "model.add(Dense(75, input_dim=x_imp.shape[1], activation='sigmoid')) # Hidden 1\n",
    "model.add(Dense(50, activation='sigmoid')) # Hidden 2\n",
    "model.add(Dense(35, activation='sigmoid')) # Hidden 3\n",
    "model.add(Dense(15, activation='sigmoid')) # Hidden 4\n",
    "model.add(Dense(y_imp.shape[1], activation='sigmoid')) # Output\n",
    "\n",
    "model.compile(loss='binary_crossentropy', optimizer='sgd')\n",
    "\n",
    "model.fit(x_imp,y_imp,verbose=2,epochs=10)\n",
    "\n",
    "monitor = EarlyStopping(monitor='val_loss', min_delta=1e-3, patience=2, verbose=2, mode='auto')  \n",
    "checkpointer = ModelCheckpoint(filepath=\"best_weights32.hdf5\", verbose=0, save_best_only=True) # save best model\n",
    "\n",
    "model.fit(x_imp, y_imp, validation_data=(x_test_imp,y_test_imp), callbacks=[monitor, checkpointer], verbose=2, epochs=10)  \n",
    "\n",
    "model.load_weights('best_weights32.hdf5')\n"
   ]
  },
  {
   "cell_type": "code",
   "execution_count": 114,
   "metadata": {},
   "outputs": [
    {
     "data": {
      "text/plain": [
       "array([[0.9343496 , 0.06555009],\n",
       "       [0.9343496 , 0.06555009],\n",
       "       [0.9343496 , 0.06555009],\n",
       "       ...,\n",
       "       [0.912004  , 0.08808237],\n",
       "       [0.9343496 , 0.06555009],\n",
       "       [0.912004  , 0.08808237]], dtype=float32)"
      ]
     },
     "execution_count": 114,
     "metadata": {},
     "output_type": "execute_result"
    }
   ],
   "source": [
    "pred_nn_imp = model.predict(x_test_imp)\n",
    "pred_nn_imp"
   ]
  },
  {
   "cell_type": "code",
   "execution_count": 115,
   "metadata": {},
   "outputs": [
    {
     "name": "stdout",
     "output_type": "stream",
     "text": [
      "              precision    recall  f1-score   support\n",
      "\n",
      "           0       0.97      1.00      0.98     34204\n",
      "           1       1.00      0.94      0.97     21736\n",
      "\n",
      "    accuracy                           0.98     55940\n",
      "   macro avg       0.98      0.97      0.98     55940\n",
      "weighted avg       0.98      0.98      0.98     55940\n",
      "\n"
     ]
    }
   ],
   "source": [
    "pred_nn3_imp = np.argmax(pred_nn_imp,axis=1)\n",
    "y_true= np.argmax(y_test_imp,axis=1) \n",
    "from sklearn import metrics\n",
    "print(metrics.classification_report(y_true, pred_nn3_imp))"
   ]
  },
  {
   "cell_type": "code",
   "execution_count": 116,
   "metadata": {},
   "outputs": [
    {
     "name": "stdout",
     "output_type": "stream",
     "text": [
      "[[34204     0]\n",
      " [ 1214 20522]]\n",
      "Plotting confusion matrix\n"
     ]
    },
    {
     "data": {
      "image/png": "[encoded data removed]",
      "text/plain": [
       "<Figure size 432x288 with 2 Axes>"
      ]
     },
     "metadata": {
      "needs_background": "light"
     },
     "output_type": "display_data"
    }
   ],
   "source": [
    "cm = confusion_matrix(y_true, pred_nn3_imp)\n",
    "print(cm)\n",
    "print('Plotting confusion matrix')\n",
    "plt.figure()\n",
    "plot_confusion_matrix(cm, label)\n",
    "plt.show()"
   ]
  },
  {
   "cell_type": "code",
   "execution_count": 117,
   "metadata": {},
   "outputs": [
    {
     "data": {
      "image/png": "[encoded data removed]",
      "text/plain": [
       "<Figure size 432x288 with 1 Axes>"
      ]
     },
     "metadata": {
      "needs_background": "light"
     },
     "output_type": "display_data"
    },
    {
     "name": "stdout",
     "output_type": "stream",
     "text": [
      "None\n"
     ]
    }
   ],
   "source": [
    "print(plot_roc(pred_nn3_imp,y_true))"
   ]
  },
  {
   "cell_type": "markdown",
   "metadata": {},
   "source": [
    "# Activation = relu and Optimizer = adam with important features from Logistic Regression and by changing layer and neuron counts"
   ]
  },
  {
   "cell_type": "code",
   "execution_count": 118,
   "metadata": {},
   "outputs": [
    {
     "name": "stdout",
     "output_type": "stream",
     "text": [
      "Epoch 1/10\n",
      "3367/3367 - 3s - loss: 0.1168 - accuracy: 0.9557\n",
      "Epoch 2/10\n",
      "3367/3367 - 3s - loss: 0.0850 - accuracy: 0.9583\n",
      "Epoch 3/10\n",
      "3367/3367 - 3s - loss: 0.0851 - accuracy: 0.9570\n",
      "Epoch 4/10\n",
      "3367/3367 - 5s - loss: 0.0842 - accuracy: 0.9576\n",
      "Epoch 5/10\n",
      "3367/3367 - 4s - loss: 0.0829 - accuracy: 0.9580\n",
      "Epoch 6/10\n",
      "3367/3367 - 4s - loss: 0.0822 - accuracy: 0.9577\n",
      "Epoch 7/10\n",
      "3367/3367 - 4s - loss: 0.0826 - accuracy: 0.9572\n",
      "Epoch 8/10\n",
      "3367/3367 - 6s - loss: 0.0816 - accuracy: 0.9577\n",
      "Epoch 9/10\n",
      "3367/3367 - 5s - loss: 0.0818 - accuracy: 0.9572\n",
      "Epoch 10/10\n",
      "3367/3367 - 4s - loss: 0.0818 - accuracy: 0.9579\n",
      "Epoch 1/10\n",
      "\n",
      "Epoch 00001: val_loss improved from inf to 0.09235, saving model to weight11.hdf5\n",
      "3367/3367 - 7s - loss: 0.0817 - accuracy: 0.9572 - val_loss: 0.0923 - val_accuracy: 0.9783\n",
      "Epoch 2/10\n",
      "\n",
      "Epoch 00002: val_loss did not improve from 0.09235\n",
      "3367/3367 - 7s - loss: 0.0815 - accuracy: 0.9580 - val_loss: 0.1505 - val_accuracy: 0.9167\n",
      "Epoch 3/10\n",
      "\n",
      "Epoch 00003: val_loss did not improve from 0.09235\n",
      "3367/3367 - 7s - loss: 0.0812 - accuracy: 0.9576 - val_loss: 0.0963 - val_accuracy: 0.9783\n",
      "Epoch 00003: early stopping\n"
     ]
    }
   ],
   "source": [
    "from tensorflow.keras.layers import Dense, Activation\n",
    "from tensorflow.keras.callbacks import EarlyStopping\n",
    "from tensorflow.keras.callbacks import ModelCheckpoint\n",
    "filepath='weight11.hdf5'\n",
    "model=Sequential()\n",
    "model.add(Dense(70, input_dim=x_imp.shape[1], activation='relu')) # Hidden 1\n",
    "model.add(Dense(30, activation='relu'))# Hidden 2\n",
    "model.add(Dense(10, activation='relu'))# Hidden 3\n",
    "model.add(Dense(y_imp.shape[1], activation='sigmoid')) # Output\n",
    "\n",
    "model.compile(loss='binary_crossentropy', optimizer='adam',metrics=['accuracy'])\n",
    "\n",
    "model.fit(x_imp,y_imp,verbose=2,epochs=10)\n",
    "\n",
    "monitor = EarlyStopping(monitor='val_loss', min_delta=1e-3, patience=2, verbose=2, mode='min')  \n",
    "checkpointer = ModelCheckpoint(filepath, verbose=1, save_best_only=True) # save best model\n",
    "\n",
    "model.fit(x_imp, y_imp, validation_data=(x_test_imp,y_test_imp),epochs=10, callbacks=[monitor,checkpointer], verbose=2)  \n",
    "\n",
    "\n",
    "model.load_weights(filepath)\n"
   ]
  },
  {
   "cell_type": "code",
   "execution_count": 119,
   "metadata": {},
   "outputs": [
    {
     "data": {
      "text/plain": [
       "array([[0.6358043 , 0.37303257],\n",
       "       [0.6358043 , 0.37303257],\n",
       "       [0.6358043 , 0.37303257],\n",
       "       ...,\n",
       "       [0.89040446, 0.11048466],\n",
       "       [0.6358043 , 0.37303257],\n",
       "       [0.89040446, 0.11048466]], dtype=float32)"
      ]
     },
     "execution_count": 119,
     "metadata": {},
     "output_type": "execute_result"
    }
   ],
   "source": [
    "pred_nn = model.predict(x_test_imp)\n",
    "pred_nn"
   ]
  },
  {
   "cell_type": "code",
   "execution_count": 120,
   "metadata": {},
   "outputs": [
    {
     "name": "stdout",
     "output_type": "stream",
     "text": [
      "              precision    recall  f1-score   support\n",
      "\n",
      "           0       0.97      1.00      0.98     34204\n",
      "           1       1.00      0.94      0.97     21736\n",
      "\n",
      "    accuracy                           0.98     55940\n",
      "   macro avg       0.98      0.97      0.98     55940\n",
      "weighted avg       0.98      0.98      0.98     55940\n",
      "\n"
     ]
    }
   ],
   "source": [
    "pred_nn1 = np.argmax(pred_nn,axis=1)\n",
    "y_true= np.argmax(y_test_imp,axis=1) \n",
    "from sklearn import metrics\n",
    "print(metrics.classification_report(y_true, pred_nn1))"
   ]
  },
  {
   "cell_type": "code",
   "execution_count": 121,
   "metadata": {},
   "outputs": [
    {
     "name": "stdout",
     "output_type": "stream",
     "text": [
      "[[34204     0]\n",
      " [ 1214 20522]]\n",
      "Plotting confusion matrix\n"
     ]
    },
    {
     "data": {
      "image/png": "[encoded data removed]",
      "text/plain": [
       "<Figure size 432x288 with 2 Axes>"
      ]
     },
     "metadata": {
      "needs_background": "light"
     },
     "output_type": "display_data"
    }
   ],
   "source": [
    "cm = confusion_matrix(y_true, pred_nn1)\n",
    "print(cm)\n",
    "print('Plotting confusion matrix')\n",
    "plt.figure()\n",
    "plot_confusion_matrix(cm, label)\n",
    "plt.show()"
   ]
  },
  {
   "cell_type": "code",
   "execution_count": 122,
   "metadata": {},
   "outputs": [
    {
     "data": {
      "image/png": "[encoded data removed]",
      "text/plain": [
       "<Figure size 432x288 with 1 Axes>"
      ]
     },
     "metadata": {
      "needs_background": "light"
     },
     "output_type": "display_data"
    },
    {
     "name": "stdout",
     "output_type": "stream",
     "text": [
      "None\n"
     ]
    }
   ],
   "source": [
    "print(plot_roc(pred_nn1,y_true))"
   ]
  },
  {
   "cell_type": "markdown",
   "metadata": {},
   "source": [
    "## ADDITIONAL FEAUTURES\n"
   ]
  },
  {
   "cell_type": "markdown",
   "metadata": {},
   "source": [
    "## 1. Multi Class Classification"
   ]
  },
  {
   "cell_type": "markdown",
   "metadata": {},
   "source": [
    "How good such predictive model can be in terms of detecting each specific attack?\n",
    "\n"
   ]
  },
  {
   "cell_type": "markdown",
   "metadata": {},
   "source": [
    "### We already have copies of dataframe trainData_dup_copy1 and testData_dup_copy1"
   ]
  },
  {
   "cell_type": "code",
   "execution_count": 19,
   "metadata": {},
   "outputs": [
    {
     "data": {
      "text/html": [
       "<div>\n",
       "<style scoped>\n",
       "    .dataframe tbody tr th:only-of-type {\n",
       "        vertical-align: middle;\n",
       "    }\n",
       "\n",
       "    .dataframe tbody tr th {\n",
       "        vertical-align: top;\n",
       "    }\n",
       "\n",
       "    .dataframe thead th {\n",
       "        text-align: right;\n",
       "    }\n",
       "</style>\n",
       "<table border=\"1\" class=\"dataframe\">\n",
       "  <thead>\n",
       "    <tr style=\"text-align: right;\">\n",
       "      <th></th>\n",
       "      <th>dur</th>\n",
       "      <th>proto</th>\n",
       "      <th>state</th>\n",
       "      <th>spkts</th>\n",
       "      <th>dpkts</th>\n",
       "      <th>sbytes</th>\n",
       "      <th>dbytes</th>\n",
       "      <th>rate</th>\n",
       "      <th>sttl</th>\n",
       "      <th>dttl</th>\n",
       "      <th>...</th>\n",
       "      <th>ct_src_dport_ltm</th>\n",
       "      <th>ct_dst_sport_ltm</th>\n",
       "      <th>ct_dst_src_ltm</th>\n",
       "      <th>is_ftp_login</th>\n",
       "      <th>ct_ftp_cmd</th>\n",
       "      <th>ct_flw_http_mthd</th>\n",
       "      <th>ct_src_ltm</th>\n",
       "      <th>ct_srv_dst</th>\n",
       "      <th>is_sm_ips_ports</th>\n",
       "      <th>attack_cat</th>\n",
       "    </tr>\n",
       "  </thead>\n",
       "  <tbody>\n",
       "    <tr>\n",
       "      <th>0</th>\n",
       "      <td>0.000011</td>\n",
       "      <td>udp</td>\n",
       "      <td>INT</td>\n",
       "      <td>2</td>\n",
       "      <td>0</td>\n",
       "      <td>496</td>\n",
       "      <td>0</td>\n",
       "      <td>90909.090200</td>\n",
       "      <td>254</td>\n",
       "      <td>0</td>\n",
       "      <td>...</td>\n",
       "      <td>1</td>\n",
       "      <td>1</td>\n",
       "      <td>2</td>\n",
       "      <td>0</td>\n",
       "      <td>0</td>\n",
       "      <td>0</td>\n",
       "      <td>1</td>\n",
       "      <td>2</td>\n",
       "      <td>0</td>\n",
       "      <td>Normal</td>\n",
       "    </tr>\n",
       "    <tr>\n",
       "      <th>1</th>\n",
       "      <td>0.000008</td>\n",
       "      <td>udp</td>\n",
       "      <td>INT</td>\n",
       "      <td>2</td>\n",
       "      <td>0</td>\n",
       "      <td>1762</td>\n",
       "      <td>0</td>\n",
       "      <td>125000.000300</td>\n",
       "      <td>254</td>\n",
       "      <td>0</td>\n",
       "      <td>...</td>\n",
       "      <td>1</td>\n",
       "      <td>1</td>\n",
       "      <td>2</td>\n",
       "      <td>0</td>\n",
       "      <td>0</td>\n",
       "      <td>0</td>\n",
       "      <td>1</td>\n",
       "      <td>2</td>\n",
       "      <td>0</td>\n",
       "      <td>Normal</td>\n",
       "    </tr>\n",
       "    <tr>\n",
       "      <th>2</th>\n",
       "      <td>0.000005</td>\n",
       "      <td>udp</td>\n",
       "      <td>INT</td>\n",
       "      <td>2</td>\n",
       "      <td>0</td>\n",
       "      <td>1068</td>\n",
       "      <td>0</td>\n",
       "      <td>200000.005100</td>\n",
       "      <td>254</td>\n",
       "      <td>0</td>\n",
       "      <td>...</td>\n",
       "      <td>1</td>\n",
       "      <td>1</td>\n",
       "      <td>3</td>\n",
       "      <td>0</td>\n",
       "      <td>0</td>\n",
       "      <td>0</td>\n",
       "      <td>1</td>\n",
       "      <td>3</td>\n",
       "      <td>0</td>\n",
       "      <td>Normal</td>\n",
       "    </tr>\n",
       "    <tr>\n",
       "      <th>3</th>\n",
       "      <td>0.000006</td>\n",
       "      <td>udp</td>\n",
       "      <td>INT</td>\n",
       "      <td>2</td>\n",
       "      <td>0</td>\n",
       "      <td>900</td>\n",
       "      <td>0</td>\n",
       "      <td>166666.660800</td>\n",
       "      <td>254</td>\n",
       "      <td>0</td>\n",
       "      <td>...</td>\n",
       "      <td>2</td>\n",
       "      <td>1</td>\n",
       "      <td>3</td>\n",
       "      <td>0</td>\n",
       "      <td>0</td>\n",
       "      <td>0</td>\n",
       "      <td>2</td>\n",
       "      <td>3</td>\n",
       "      <td>0</td>\n",
       "      <td>Normal</td>\n",
       "    </tr>\n",
       "    <tr>\n",
       "      <th>4</th>\n",
       "      <td>0.000010</td>\n",
       "      <td>udp</td>\n",
       "      <td>INT</td>\n",
       "      <td>2</td>\n",
       "      <td>0</td>\n",
       "      <td>2126</td>\n",
       "      <td>0</td>\n",
       "      <td>100000.002500</td>\n",
       "      <td>254</td>\n",
       "      <td>0</td>\n",
       "      <td>...</td>\n",
       "      <td>2</td>\n",
       "      <td>1</td>\n",
       "      <td>3</td>\n",
       "      <td>0</td>\n",
       "      <td>0</td>\n",
       "      <td>0</td>\n",
       "      <td>2</td>\n",
       "      <td>3</td>\n",
       "      <td>0</td>\n",
       "      <td>Normal</td>\n",
       "    </tr>\n",
       "    <tr>\n",
       "      <th>...</th>\n",
       "      <td>...</td>\n",
       "      <td>...</td>\n",
       "      <td>...</td>\n",
       "      <td>...</td>\n",
       "      <td>...</td>\n",
       "      <td>...</td>\n",
       "      <td>...</td>\n",
       "      <td>...</td>\n",
       "      <td>...</td>\n",
       "      <td>...</td>\n",
       "      <td>...</td>\n",
       "      <td>...</td>\n",
       "      <td>...</td>\n",
       "      <td>...</td>\n",
       "      <td>...</td>\n",
       "      <td>...</td>\n",
       "      <td>...</td>\n",
       "      <td>...</td>\n",
       "      <td>...</td>\n",
       "      <td>...</td>\n",
       "      <td>...</td>\n",
       "    </tr>\n",
       "    <tr>\n",
       "      <th>82319</th>\n",
       "      <td>0.811914</td>\n",
       "      <td>tcp</td>\n",
       "      <td>FIN</td>\n",
       "      <td>10</td>\n",
       "      <td>6</td>\n",
       "      <td>588</td>\n",
       "      <td>268</td>\n",
       "      <td>18.474862</td>\n",
       "      <td>254</td>\n",
       "      <td>252</td>\n",
       "      <td>...</td>\n",
       "      <td>1</td>\n",
       "      <td>1</td>\n",
       "      <td>4</td>\n",
       "      <td>0</td>\n",
       "      <td>0</td>\n",
       "      <td>0</td>\n",
       "      <td>1</td>\n",
       "      <td>4</td>\n",
       "      <td>0</td>\n",
       "      <td>Normal</td>\n",
       "    </tr>\n",
       "    <tr>\n",
       "      <th>82322</th>\n",
       "      <td>0.000004</td>\n",
       "      <td>udp</td>\n",
       "      <td>INT</td>\n",
       "      <td>2</td>\n",
       "      <td>0</td>\n",
       "      <td>104</td>\n",
       "      <td>0</td>\n",
       "      <td>250000.000600</td>\n",
       "      <td>254</td>\n",
       "      <td>0</td>\n",
       "      <td>...</td>\n",
       "      <td>1</td>\n",
       "      <td>1</td>\n",
       "      <td>1</td>\n",
       "      <td>0</td>\n",
       "      <td>0</td>\n",
       "      <td>0</td>\n",
       "      <td>1</td>\n",
       "      <td>1</td>\n",
       "      <td>0</td>\n",
       "      <td>Normal</td>\n",
       "    </tr>\n",
       "    <tr>\n",
       "      <th>82323</th>\n",
       "      <td>5.167410</td>\n",
       "      <td>tcp</td>\n",
       "      <td>FIN</td>\n",
       "      <td>108</td>\n",
       "      <td>24</td>\n",
       "      <td>138067</td>\n",
       "      <td>1042</td>\n",
       "      <td>25.351192</td>\n",
       "      <td>254</td>\n",
       "      <td>252</td>\n",
       "      <td>...</td>\n",
       "      <td>1</td>\n",
       "      <td>1</td>\n",
       "      <td>1</td>\n",
       "      <td>0</td>\n",
       "      <td>0</td>\n",
       "      <td>0</td>\n",
       "      <td>1</td>\n",
       "      <td>3</td>\n",
       "      <td>0</td>\n",
       "      <td>Normal</td>\n",
       "    </tr>\n",
       "    <tr>\n",
       "      <th>82327</th>\n",
       "      <td>0.000005</td>\n",
       "      <td>udp</td>\n",
       "      <td>INT</td>\n",
       "      <td>2</td>\n",
       "      <td>0</td>\n",
       "      <td>104</td>\n",
       "      <td>0</td>\n",
       "      <td>200000.005100</td>\n",
       "      <td>254</td>\n",
       "      <td>0</td>\n",
       "      <td>...</td>\n",
       "      <td>1</td>\n",
       "      <td>1</td>\n",
       "      <td>2</td>\n",
       "      <td>0</td>\n",
       "      <td>0</td>\n",
       "      <td>0</td>\n",
       "      <td>2</td>\n",
       "      <td>1</td>\n",
       "      <td>0</td>\n",
       "      <td>Normal</td>\n",
       "    </tr>\n",
       "    <tr>\n",
       "      <th>82328</th>\n",
       "      <td>1.106101</td>\n",
       "      <td>tcp</td>\n",
       "      <td>FIN</td>\n",
       "      <td>20</td>\n",
       "      <td>8</td>\n",
       "      <td>18062</td>\n",
       "      <td>354</td>\n",
       "      <td>24.410067</td>\n",
       "      <td>254</td>\n",
       "      <td>252</td>\n",
       "      <td>...</td>\n",
       "      <td>1</td>\n",
       "      <td>1</td>\n",
       "      <td>1</td>\n",
       "      <td>0</td>\n",
       "      <td>0</td>\n",
       "      <td>0</td>\n",
       "      <td>3</td>\n",
       "      <td>2</td>\n",
       "      <td>0</td>\n",
       "      <td>Normal</td>\n",
       "    </tr>\n",
       "  </tbody>\n",
       "</table>\n",
       "<p>55940 rows × 40 columns</p>\n",
       "</div>"
      ],
      "text/plain": [
       "            dur proto state  spkts  dpkts  sbytes  dbytes           rate  \\\n",
       "0      0.000011   udp   INT      2      0     496       0   90909.090200   \n",
       "1      0.000008   udp   INT      2      0    1762       0  125000.000300   \n",
       "2      0.000005   udp   INT      2      0    1068       0  200000.005100   \n",
       "3      0.000006   udp   INT      2      0     900       0  166666.660800   \n",
       "4      0.000010   udp   INT      2      0    2126       0  100000.002500   \n",
       "...         ...   ...   ...    ...    ...     ...     ...            ...   \n",
       "82319  0.811914   tcp   FIN     10      6     588     268      18.474862   \n",
       "82322  0.000004   udp   INT      2      0     104       0  250000.000600   \n",
       "82323  5.167410   tcp   FIN    108     24  138067    1042      25.351192   \n",
       "82327  0.000005   udp   INT      2      0     104       0  200000.005100   \n",
       "82328  1.106101   tcp   FIN     20      8   18062     354      24.410067   \n",
       "\n",
       "       sttl  dttl  ...  ct_src_dport_ltm  ct_dst_sport_ltm  ct_dst_src_ltm  \\\n",
       "0       254     0  ...                 1                 1               2   \n",
       "1       254     0  ...                 1                 1               2   \n",
       "2       254     0  ...                 1                 1               3   \n",
       "3       254     0  ...                 2                 1               3   \n",
       "4       254     0  ...                 2                 1               3   \n",
       "...     ...   ...  ...               ...               ...             ...   \n",
       "82319   254   252  ...                 1                 1               4   \n",
       "82322   254     0  ...                 1                 1               1   \n",
       "82323   254   252  ...                 1                 1               1   \n",
       "82327   254     0  ...                 1                 1               2   \n",
       "82328   254   252  ...                 1                 1               1   \n",
       "\n",
       "       is_ftp_login  ct_ftp_cmd  ct_flw_http_mthd  ct_src_ltm  ct_srv_dst  \\\n",
       "0                 0           0                 0           1           2   \n",
       "1                 0           0                 0           1           2   \n",
       "2                 0           0                 0           1           3   \n",
       "3                 0           0                 0           2           3   \n",
       "4                 0           0                 0           2           3   \n",
       "...             ...         ...               ...         ...         ...   \n",
       "82319             0           0                 0           1           4   \n",
       "82322             0           0                 0           1           1   \n",
       "82323             0           0                 0           1           3   \n",
       "82327             0           0                 0           2           1   \n",
       "82328             0           0                 0           3           2   \n",
       "\n",
       "       is_sm_ips_ports  attack_cat  \n",
       "0                    0      Normal  \n",
       "1                    0      Normal  \n",
       "2                    0      Normal  \n",
       "3                    0      Normal  \n",
       "4                    0      Normal  \n",
       "...                ...         ...  \n",
       "82319                0      Normal  \n",
       "82322                0      Normal  \n",
       "82323                0      Normal  \n",
       "82327                0      Normal  \n",
       "82328                0      Normal  \n",
       "\n",
       "[55940 rows x 40 columns]"
      ]
     },
     "execution_count": 19,
     "metadata": {},
     "output_type": "execute_result"
    }
   ],
   "source": [
    "#drop label column as it is not useful in multi class classification\n",
    "trainData_dup_copy1.drop(columns = [\"label\"])\n",
    "testData_dup_copy1.drop(columns = [\"label\"])\n"
   ]
  },
  {
   "cell_type": "code",
   "execution_count": 20,
   "metadata": {},
   "outputs": [],
   "source": [
    "numerical_features=['dur','spkts','dpkts','sbytes','dbytes','rate','sttl','dttl','sload','dload','sloss','dloss','sinpkt',\n",
    "                    'dinpkt','sjit','djit','swin','stcpb','dtcpb','dwin','tcprtt','smean','dmean',\n",
    "                    'trans_depth','response_body_len','ct_srv_src','ct_state_ttl','ct_dst_ltm','ct_src_dport_ltm',\n",
    "                    'ct_dst_sport_ltm','ct_dst_src_ltm','is_ftp_login','ct_ftp_cmd','ct_flw_http_mthd','ct_src_ltm','ct_srv_dst',\n",
    "                    'is_sm_ips_ports']"
   ]
  },
  {
   "cell_type": "code",
   "execution_count": 21,
   "metadata": {},
   "outputs": [],
   "source": [
    "scaler = StandardScaler()\n",
    "for col in numerical_features:\n",
    "    trainData_dup_copy1[col] = scaler.fit_transform(trainData_dup_copy1[[col]])\n",
    "    testData_dup_copy1[col] = scaler.transform(testData_dup_copy1[[col]])"
   ]
  },
  {
   "cell_type": "code",
   "execution_count": 22,
   "metadata": {},
   "outputs": [],
   "source": [
    "object_features =['proto','state']\n",
    "for col in object_features:\n",
    "    encode_text_dummy(trainData_dup_copy1, col)\n",
    "    encode_text_dummy(testData_dup_copy1, col)"
   ]
  },
  {
   "cell_type": "code",
   "execution_count": 23,
   "metadata": {},
   "outputs": [
    {
     "name": "stdout",
     "output_type": "stream",
     "text": [
      "181\n",
      "177\n"
     ]
    }
   ],
   "source": [
    "print(len(trainData_dup_copy1.columns))\n",
    "print(len(testData_dup_copy1.columns))"
   ]
  },
  {
   "cell_type": "code",
   "execution_count": 24,
   "metadata": {},
   "outputs": [],
   "source": [
    "trainExtraColumns = list(set(trainData_dup_copy1).difference(testData_dup_copy1))\n",
    "testExtraColumns = list(set(testData_dup_copy1).difference(trainData_dup_copy1))\n",
    "trainData_dup_copy1.drop(columns = trainExtraColumns, inplace = True)\n",
    "testData_dup_copy1.drop(columns = testExtraColumns, inplace = True)"
   ]
  },
  {
   "cell_type": "code",
   "execution_count": 25,
   "metadata": {},
   "outputs": [
    {
     "data": {
      "text/plain": [
       "dur          0\n",
       "spkts        0\n",
       "dpkts        0\n",
       "sbytes       0\n",
       "dbytes       0\n",
       "            ..\n",
       "state-CON    0\n",
       "state-FIN    0\n",
       "state-INT    0\n",
       "state-REQ    0\n",
       "state-RST    0\n",
       "Length: 175, dtype: int64"
      ]
     },
     "execution_count": 25,
     "metadata": {},
     "output_type": "execute_result"
    }
   ],
   "source": [
    "trainData_dup_copy1.isnull().sum()"
   ]
  },
  {
   "cell_type": "code",
   "execution_count": 26,
   "metadata": {},
   "outputs": [
    {
     "data": {
      "text/plain": [
       "dur          0\n",
       "spkts        0\n",
       "dpkts        0\n",
       "sbytes       0\n",
       "dbytes       0\n",
       "            ..\n",
       "state-CON    0\n",
       "state-FIN    0\n",
       "state-INT    0\n",
       "state-REQ    0\n",
       "state-RST    0\n",
       "Length: 175, dtype: int64"
      ]
     },
     "execution_count": 26,
     "metadata": {},
     "output_type": "execute_result"
    }
   ],
   "source": [
    "testData_dup_copy1.isnull().sum()"
   ]
  },
  {
   "cell_type": "code",
   "execution_count": 27,
   "metadata": {},
   "outputs": [],
   "source": [
    "y_train_multi = trainData_dup_copy1[\"attack_cat\"]\n",
    "X_train_multi=  trainData_dup_copy1.drop(columns = [\"attack_cat\"])\n",
    "y_test_multi = testData_dup_copy1[\"attack_cat\"]\n",
    "X_test_multi=  testData_dup_copy1.drop(columns = [\"attack_cat\"])"
   ]
  },
  {
   "cell_type": "code",
   "execution_count": 28,
   "metadata": {},
   "outputs": [
    {
     "name": "stdout",
     "output_type": "stream",
     "text": [
      "(107724, 174)\n",
      "(107724,)\n",
      "(55940, 174)\n",
      "(55940,)\n"
     ]
    }
   ],
   "source": [
    "print(X_train_multi.shape)\n",
    "print(y_train_multi.shape)\n",
    "print(X_test_multi.shape)\n",
    "print(y_test_multi.shape)"
   ]
  },
  {
   "cell_type": "code",
   "execution_count": 29,
   "metadata": {},
   "outputs": [
    {
     "name": "stdout",
     "output_type": "stream",
     "text": [
      "       attack_cat\n",
      "0          Normal\n",
      "1          Normal\n",
      "2          Normal\n",
      "3          Normal\n",
      "4          Normal\n",
      "...           ...\n",
      "175267   Exploits\n",
      "175277   Exploits\n",
      "175299   Exploits\n",
      "175305   Exploits\n",
      "175337  Shellcode\n",
      "\n",
      "[107724 rows x 1 columns]\n",
      "      attack_cat\n",
      "0         Normal\n",
      "1         Normal\n",
      "2         Normal\n",
      "3         Normal\n",
      "4         Normal\n",
      "...          ...\n",
      "82319     Normal\n",
      "82322     Normal\n",
      "82323     Normal\n",
      "82327     Normal\n",
      "82328     Normal\n",
      "\n",
      "[55940 rows x 1 columns]\n"
     ]
    }
   ],
   "source": [
    "newlabel_multi_train = pd.DataFrame(y_train_multi, columns = ['attack_cat'])\n",
    "print(newlabel_multi_train)\n",
    "\n",
    "newlabel_multi_test = pd.DataFrame(y_test_multi, columns = ['attack_cat'])\n",
    "print(newlabel_multi_test)"
   ]
  },
  {
   "cell_type": "code",
   "execution_count": 30,
   "metadata": {},
   "outputs": [
    {
     "data": {
      "text/plain": [
       "Normal            51890\n",
       "Exploits          19836\n",
       "Fuzzers           16147\n",
       "Reconnaissance     7522\n",
       "Generic            4181\n",
       "DoS                3801\n",
       "Analysis           1594\n",
       "Backdoor           1535\n",
       "Shellcode          1091\n",
       "Worms               127\n",
       "Name: attack_cat, dtype: int64"
      ]
     },
     "execution_count": 30,
     "metadata": {},
     "output_type": "execute_result"
    }
   ],
   "source": [
    "newlabel_multi_train['attack_cat'].value_counts()"
   ]
  },
  {
   "cell_type": "code",
   "execution_count": 31,
   "metadata": {},
   "outputs": [
    {
     "data": {
      "image/png": "[encoded data removed]",
      "text/plain": [
       "<Figure size 432x288 with 1 Axes>"
      ]
     },
     "metadata": {
      "needs_background": "light"
     },
     "output_type": "display_data"
    }
   ],
   "source": [
    "newlabel_multi_train.attack_cat.value_counts().plot(kind='barh', title='Count of Types of Connections in Training Data',  color='g');\n",
    "plt.show()"
   ]
  },
  {
   "cell_type": "code",
   "execution_count": 32,
   "metadata": {},
   "outputs": [
    {
     "data": {
      "text/plain": [
       "Normal            34204\n",
       "Exploits           7607\n",
       "Fuzzers            4838\n",
       "Generic            3657\n",
       "Reconnaissance     2703\n",
       "DoS                1717\n",
       "Analysis            446\n",
       "Shellcode           378\n",
       "Backdoor            346\n",
       "Worms                44\n",
       "Name: attack_cat, dtype: int64"
      ]
     },
     "execution_count": 32,
     "metadata": {},
     "output_type": "execute_result"
    }
   ],
   "source": [
    "newlabel_multi_test['attack_cat'].value_counts()"
   ]
  },
  {
   "cell_type": "code",
   "execution_count": 33,
   "metadata": {},
   "outputs": [
    {
     "data": {
      "image/png": "[encoded data removed]",
      "text/plain": [
       "<Figure size 432x288 with 1 Axes>"
      ]
     },
     "metadata": {
      "needs_background": "light"
     },
     "output_type": "display_data"
    }
   ],
   "source": [
    "newlabel_multi_test.attack_cat.value_counts().plot(kind='barh', title='Count of Types of Connections in Testing Data',  color='r');\n",
    "plt.show()"
   ]
  },
  {
   "cell_type": "markdown",
   "metadata": {},
   "source": [
    "## Logistic regression"
   ]
  },
  {
   "cell_type": "code",
   "execution_count": 34,
   "metadata": {},
   "outputs": [
    {
     "name": "stdout",
     "output_type": "stream",
     "text": [
      "                precision    recall  f1-score   support\n",
      "\n",
      "      Analysis       0.25      0.16      0.19       710\n",
      "      Backdoor       0.00      0.02      0.01        54\n",
      "           DoS       0.02      0.47      0.04        72\n",
      "      Exploits       0.78      0.75      0.76      7863\n",
      "       Fuzzers       0.87      0.57      0.69      7420\n",
      "       Generic       0.61      0.89      0.72      2489\n",
      "        Normal       1.00      1.00      1.00     34194\n",
      "Reconnaissance       0.65      0.57      0.60      3090\n",
      "     Shellcode       0.07      0.60      0.12        43\n",
      "         Worms       0.00      0.00      0.00         5\n",
      "\n",
      "      accuracy                           0.87     55940\n",
      "     macro avg       0.42      0.50      0.41     55940\n",
      "  weighted avg       0.90      0.87      0.88     55940\n",
      "\n"
     ]
    }
   ],
   "source": [
    "logre = LogisticRegression(max_iter=1500)\n",
    "logre.fit(X_train_multi, y_train_multi)\n",
    "y_pred = logre.predict(X_test_multi)\n",
    "print(classification_report(y_pred, y_test_multi))"
   ]
  },
  {
   "cell_type": "code",
   "execution_count": 35,
   "metadata": {},
   "outputs": [
    {
     "name": "stdout",
     "output_type": "stream",
     "text": [
      "[[  111    92   147   155   143     5     1    56     0     0]\n",
      " [    7     1    13    12     9     2     0    10     0     0]\n",
      " [    6     3    34    14     6     4     0     5     0     0]\n",
      " [   95    56   883  5905   135   383     0   368     8    30]\n",
      " [  136   113   375  1097  4202   844     0   512   128    13]\n",
      " [   48    47    51    79    48  2214     0     2     0     0]\n",
      " [    0     0     0     0     0     0 34194     0     0     0]\n",
      " [   43    34   212   339   294   201     0  1750   216     1]\n",
      " [    0     0     2     3     1     2     9     0    26     0]\n",
      " [    0     0     0     3     0     2     0     0     0     0]]\n",
      "\n"
     ]
    },
    {
     "data": {
      "image/png": "[encoded data removed]",
      "text/plain": [
       "<Figure size 432x288 with 2 Axes>"
      ]
     },
     "metadata": {
      "needs_background": "light"
     },
     "output_type": "display_data"
    }
   ],
   "source": [
    "cm = confusion_matrix(y_pred, y_test_multi)\n",
    "print(cm)\n",
    "print()\n",
    "import seaborn as sns\n",
    "ax = sns.heatmap(cm, cmap=\"Blues\", yticklabels=True)\n",
    "ax.set_title('Confusion matrix')\n",
    "ax.set_ylabel('True label')\n",
    "ax.set_xlabel('Predicted label')\n",
    "plt.show()"
   ]
  },
  {
   "cell_type": "markdown",
   "metadata": {},
   "source": [
    "## K Nearest Neighbor"
   ]
  },
  {
   "cell_type": "code",
   "execution_count": 36,
   "metadata": {},
   "outputs": [],
   "source": [
    "knn = KNeighborsClassifier(n_neighbors = 5)\n",
    "knn.fit(X_train_multi, y_train_multi)\n",
    "y_pred_knn_multi = knn.predict(X_test_multi)"
   ]
  },
  {
   "cell_type": "code",
   "execution_count": 37,
   "metadata": {},
   "outputs": [
    {
     "name": "stdout",
     "output_type": "stream",
     "text": [
      "                precision    recall  f1-score   support\n",
      "\n",
      "      Analysis       0.45      0.14      0.21      1466\n",
      "      Backdoor       0.16      0.07      0.09       811\n",
      "           DoS       0.11      0.34      0.16       534\n",
      "      Exploits       0.77      0.75      0.76      7773\n",
      "       Fuzzers       0.79      0.60      0.68      6424\n",
      "       Generic       0.64      0.91      0.75      2573\n",
      "        Normal       0.97      1.00      0.99     33362\n",
      "Reconnaissance       0.63      0.60      0.61      2802\n",
      "     Shellcode       0.24      0.48      0.32       191\n",
      "         Worms       0.09      1.00      0.17         4\n",
      "\n",
      "      accuracy                           0.85     55940\n",
      "     macro avg       0.48      0.59      0.47     55940\n",
      "  weighted avg       0.85      0.85      0.85     55940\n",
      "\n",
      "[[  199   165   280   292   258    24   123   125     0     0]\n",
      " [  119    54   172   173   157     8     3   125     0     0]\n",
      " [    8     7   181   211    19    46    23    21    16     2]\n",
      " [   48    16   739  5849   219   392    82   356    47    25]\n",
      " [   32    38   174   535  3826   772   610   359    71     7]\n",
      " [   38    38    42    46    43  2330    32     2     2     0]\n",
      " [    1     0     5    11    56     3 33280     4     2     0]\n",
      " [    1    27   107   456   249    68    47  1692   149     6]\n",
      " [    0     1    17    34    11    14     4    19    91     0]\n",
      " [    0     0     0     0     0     0     0     0     0     4]]\n",
      "\n"
     ]
    },
    {
     "data": {
      "image/png": "[encoded data removed]",
      "text/plain": [
       "<Figure size 432x288 with 2 Axes>"
      ]
     },
     "metadata": {
      "needs_background": "light"
     },
     "output_type": "display_data"
    }
   ],
   "source": [
    "print(classification_report(y_pred_knn_multi, y_test_multi))\n",
    "cm = confusion_matrix(y_pred_knn_multi, y_test_multi)\n",
    "print(cm)\n",
    "print()\n",
    "import seaborn as sns\n",
    "ax = sns.heatmap(cm, cmap=\"Blues\", yticklabels=True)\n",
    "ax.set_title('Confusion matrix')\n",
    "ax.set_ylabel('True label')\n",
    "ax.set_xlabel('Predicted label')\n",
    "plt.show()"
   ]
  },
  {
   "cell_type": "markdown",
   "metadata": {},
   "source": [
    "### 2. Training the model with selected features"
   ]
  },
  {
   "cell_type": "markdown",
   "metadata": {},
   "source": [
    "Among all the features, can you identify the most important features (this is so called feature importance analysis) and train models only on those important features, e.g., top-10 most important features? What would be the benefits to do that? \n",
    "\n",
    "We have trained all the models with selected features after training the model with all the features."
   ]
  }
 ],
 "metadata": {
  "kernelspec": {
   "display_name": "Python 3",
   "language": "python",
   "name": "python3"
  },
  "language_info": {
   "codemirror_mode": {
    "name": "ipython",
    "version": 3
   },
   "file_extension": ".py",
   "mimetype": "text/x-python",
   "name": "python",
   "nbconvert_exporter": "python",
   "pygments_lexer": "ipython3",
   "version": "3.8.3"
  }
 },
 "nbformat": 4,
 "nbformat_minor": 4
}
